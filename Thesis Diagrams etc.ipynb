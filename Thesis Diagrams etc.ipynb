{
 "cells": [
  {
   "cell_type": "markdown",
   "metadata": {},
   "source": [
    "# Notebook for thesis specific diagrams etc."
   ]
  },
  {
   "cell_type": "code",
   "execution_count": 1,
   "metadata": {
    "collapsed": true
   },
   "outputs": [],
   "source": [
    "import numpy as np\n",
    "import matplotlib.pyplot as plt\n",
    "import matplotlib.ticker as ticker\n",
    "import pandas as pd\n",
    "%matplotlib inline\n",
    "\n",
    "mystyle = r'https://gist.githubusercontent.com/mbolt01/3087dffd11e70eccb08fdcf327374a5c/raw/std_fig'\n",
    "plt.style.use(mystyle)"
   ]
  },
  {
   "cell_type": "markdown",
   "metadata": {},
   "source": [
    "## Plot of TCP/NTCP and Therapeutic ratio"
   ]
  },
  {
   "cell_type": "code",
   "execution_count": 2,
   "metadata": {
    "collapsed": false
   },
   "outputs": [
    {
     "name": "stderr",
     "output_type": "stream",
     "text": [
      "C:\\Users\\mb22\\AppData\\Local\\Continuum\\Anaconda3\\lib\\site-packages\\ipykernel\\__main__.py:29: RuntimeWarning: invalid value encountered in double_scalars\n",
      "C:\\Users\\mb22\\AppData\\Local\\Continuum\\Anaconda3\\lib\\site-packages\\ipykernel\\__main__.py:29: RuntimeWarning: divide by zero encountered in double_scalars\n"
     ]
    },
    {
     "data": {
      "image/png": "[encoded data removed]",
      "text/plain": [
       "<matplotlib.figure.Figure at 0x93eab30>"
      ]
     },
     "metadata": {},
     "output_type": "display_data"
    }
   ],
   "source": [
    "## functions used\n",
    "\n",
    "def ratio_convert(num):\n",
    "    \"\"\"Converts inf and nan values to zero which appear when calcualting the therapeutic ratio\"\"\"\n",
    "    if np.isnan(num) == True:\n",
    "        ret_num = 0\n",
    "    elif np.isinf(num) == True:\n",
    "        ret_num = 0\n",
    "    else:\n",
    "        ret_num = num\n",
    "    return ret_num\n",
    "\n",
    "def cumul_create(mean,sd,num_pts,points=1000,use_range=(0,20)):\n",
    "    \"\"\"Create a cumulative sigmoid set of data to model a TCP/NTCP curve.\"\"\"\n",
    "    dist,dose = np.histogram(np.random.normal(loc=mean, scale=sd, size=num_pts),bins=points,range=use_range,density=True)\n",
    "    \n",
    "    dist_norm = [i/max(np.cumsum(dist)) for i in np.cumsum(dist)]\n",
    "    \n",
    "    return {'dose':dose[:-1],'dist':dist, 'dist_norm':dist_norm} ## dose is the dose level, dist is raw TCP, dist_norm is cumul TCP\n",
    "\n",
    "def tcp_ntcp_stats(dose,tcp,ntcp,plot=False,combinedplot = False):\n",
    "    \"\"\"Calcualte ratios between TCP/NTCP, P+, do a plot and additional stats from provided TCP/NTCP\n",
    "    Note: Runtime warnings are given when NaN or INF values arise during calcualtions of the ratio.\n",
    "    These are changed to zeros for plotting purposes\"\"\"\n",
    "    ## create the P+ = TCP(1-NTCP)\n",
    "    pcure = [(tcp[i]*(1-ntcp[i])) for i in range(len(tcp))]\n",
    "\n",
    "    ## create therapeutic ratio = TCP/NTCP\n",
    "    ratio = [(tcp[i]/ntcp[i]) for i in range(len(tcp))]\n",
    "    ## this doesnt seem very useful - or only around a small region which causes issues with normalisation\n",
    "\n",
    "    ratio = [ratio_convert(ratio[i]) for i in range(len(ratio))]\n",
    "    ratio_norm = [(ratio[i]/max(ratio)) for i in range(len(ratio))]\n",
    "\n",
    "    ## create dif = TCP-NTCP\n",
    "    dif = [(tcp[i]-ntcp[i]) for i in range(len(tcp))]\n",
    "    \n",
    "    ## get some useful stats\n",
    "    \n",
    "    ## dose at which stats are maximused is maximised\n",
    "    pcure_max_dose = dose[np.argmax(pcure)]\n",
    "    ratio_norm_max_dose = dose[np.argmax(ratio_norm)]\n",
    "    dif_max_dose = dose[np.argmax(dif)]\n",
    "\n",
    "    ## plot the results\n",
    "    if plot==True:\n",
    "        plt.plot(dose,tcp,c='green',lw=2,alpha=0.8,label='TCP')\n",
    "        plt.plot(dose,ntcp,c='red',lw=2,alpha=0.8,label='NTCP')\n",
    "        plt.plot(dose,pcure,c='grey',lw=1,alpha=0.8,label='P+')\n",
    "        plt.plot(dose,ratio_norm,c='blue',lw=1,alpha=0.8,label='Ratio (Norm)')\n",
    "        plt.plot(dose,dif,c='orange',lw=1,alpha=0.8,label='Dif')\n",
    "        plt.xlim(0,20)\n",
    "        plt.ylim(0,1)\n",
    "        \n",
    "        ## additional useful things to include on plot\n",
    "        plt.axhline(1,c='black')\n",
    "        plt.axhline(0,alpha=0.5,c='black')\n",
    "        plt.axvline(pcure_max_dose,alpha=0.5,c='black', ls='--')\n",
    "        plt.axvline(ratio_norm_max_dose,alpha=0.5,c='blue', ls='--')\n",
    "        plt.axvline(dif_max_dose,alpha=0.5,c='orange', ls='--')\n",
    "        \n",
    "        if combinedplot == False:\n",
    "            plt.legend(loc='best',fontsize=8)\n",
    "            plt.show()\n",
    "            \n",
    "    return {'pcure':pcure,\n",
    "            'ratio':ratio,\n",
    "           'ratio_norm':ratio_norm,\n",
    "           'dif':dif,\n",
    "           'dose':dose,\n",
    "           'tcp':tcp,\n",
    "           'ntcp':ntcp,\n",
    "           'pcure_max_dose':pcure_max_dose,\n",
    "           'ratio_norm_max_dose':ratio_norm_max_dose,\n",
    "           'dif_max_dose':dif_max_dose}\n",
    "\n",
    "patients = 10000 # <10k can lead to jagged curves which might affect statistics for max etc\n",
    "my_tcp = cumul_create(mean = 11, sd = 2.5, num_pts = patients)\n",
    "my_ntcp = cumul_create(mean = 13, sd = 1, num_pts = patients)\n",
    "\n",
    "data = tcp_ntcp_stats(my_tcp['dose'],my_tcp['dist_norm'],my_ntcp['dist_norm'],False)\n",
    "\n",
    "#print('Dose of max P+: ', data['pcure_max_dose'])\n",
    "\n",
    "## produce plot of P(cure) and P(complication)\n",
    "\n",
    "do_this = False\n",
    "\n",
    "if do_this == True:\n",
    "    ## plotting of the data using the returned results - matches the plot from the function as expected\n",
    "    plt.plot(data['dose'],data['tcp'], label='P(cure)')\n",
    "    #plt.plot(data['dose'],data['ntcp'], label = 'probability of side effect')\n",
    "    #plt.plot(data['dose'],data['ratio_norm'])\n",
    "    plt.plot(data['dose'],data['pcure'], label = 'P+ = P(cure) x P(no complication)')\n",
    "    sub_ntcp = [1-i for i in data['ntcp']]\n",
    "    plt.plot(data['dose'],sub_ntcp, label='1-P(no complication)')\n",
    "    #plt.plot(data['dose'],data['dif'])\n",
    "    plt.xticks([])\n",
    "    plt.xlim(4,18)\n",
    "    plt.xlabel(r'Increasing dose $\\rightarrow$')\n",
    "    plt.ylabel('Probability')\n",
    "    plt.legend(loc='center left', bbox_to_anchor=(1, 0.5))\n",
    "    plt.title('Probability of uncomplicated cure')\n",
    "    #plt.savefig('prob_uncomplicated_Cure.png',dpi=300,bbox_inches='tight')\n",
    "    plt.show()\n",
    "\n",
    "## plot only standard TCP and NTCP curves\n",
    "\n",
    "do_this = True\n",
    "\n",
    "if do_this == True:\n",
    "    ## plotting of the data using the returned results - matches the plot from the function as expected\n",
    "    plt.plot(data['dose'],data['tcp'], label='TCP')\n",
    "    plt.plot(data['dose'],data['ntcp'], label = 'NTCP')\n",
    "    #plt.plot(data['dose'],data['ratio_norm'])\n",
    "    #plt.plot(data['dose'],data['pcure'], label = 'P+ = P(cure) x P(no complication)')\n",
    "    sub_ntcp = [1-i for i in data['ntcp']]\n",
    "    #plt.plot(data['dose'],sub_ntcp, label='1-P(no complication)')\n",
    "    #plt.plot(data['dose'],data['dif'])\n",
    "    plt.xticks([])\n",
    "    plt.xlim(4,18)\n",
    "    plt.xlabel(r'Increasing dose $\\rightarrow$')\n",
    "    plt.ylabel('Probability')\n",
    "    plt.legend(loc='center left', bbox_to_anchor=(1, 0.5))\n",
    "    plt.title('Therapeutic Ratio')\n",
    "    \n",
    "    ## add other labels etc\n",
    "    plt.axvline(12.5, c='black', ls='--',lw=1)\n",
    "    plt.plot([10.5,10.5],[0.3,0.75],c='black',lw=1)\n",
    "    plt.plot([10.5,12],[0.3,0.3],c='black',lw=1)\n",
    "    plt.plot([10.5,12],[0.75,0.75],c='black',lw=1)\n",
    "    plt.plot([10,10.5],[0.525,0.525],c='black',lw=1)\n",
    "    plt.text(9.9,0.525,'Therapeutic ratio',horizontalalignment='right',verticalalignment='center')\n",
    "    \n",
    "    #plt.savefig('TCP_NTCP_schematic-therapeutic_ratio.png',dpi=300,bbox_inches='tight')\n",
    "    plt.show()"
   ]
  },
  {
   "cell_type": "markdown",
   "metadata": {},
   "source": [
    "## Survival fraction for different LETs\n",
    "Want to reproduce this: https://image.slidesharecdn.com/cell-survival-curve-120126084118-phpapp01/95/cell-survivalcurve-21-728.jpg?cb=1327567835\n",
    "\n",
    "LQ model is $S = exp(-\\alpha D - \\beta D^2)$"
   ]
  },
  {
   "cell_type": "code",
   "execution_count": 3,
   "metadata": {
    "collapsed": false
   },
   "outputs": [
    {
     "data": {
      "image/png": "[encoded data removed]",
      "text/plain": [
       "<matplotlib.figure.Figure at 0xa084130>"
      ]
     },
     "metadata": {},
     "output_type": "display_data"
    }
   ],
   "source": [
    "def s_frac(a,b,d):\n",
    "    \"\"\"function to calcualte survival frac from given params\"\"\"\n",
    "    return np.exp(-a*d - b*(d**2))\n",
    "\n",
    "a1b1_rat = 10\n",
    "b1 = 0.02\n",
    "a1 = b1*a1b1_rat ## a/b ratio used\n",
    "d1 = 2\n",
    "\n",
    "a2 = 2\n",
    "b2 = 0.001\n",
    "d2 = 4\n",
    "\n",
    "a3 = a1 ## for plotting the linear only portion...?\n",
    "b3 = 0\n",
    "d3 = d1\n",
    "\n",
    "\n",
    "n = 20 ## number of fractions\n",
    "doses = [i*d1 for i in range(n)]\n",
    "\n",
    "## create the 2 survival curves\n",
    "s_n_1 = [s_frac(a1,b1,doses[i]) for i in range(n)]\n",
    "s_n_2 = [s_frac(a2,b2,doses[i]) for i in range(n)]\n",
    "\n",
    "## plot the curves\n",
    "plt.semilogy(doses,s_n_1)\n",
    "plt.semilogy(doses,s_n_2)\n",
    "\n",
    "## set the limits to be usable\n",
    "plt.ylim(0.001,1)\n",
    "plt.xlim(0,16)\n",
    "\n",
    "## tidy things up\n",
    "plt.xlabel('Dose (Gy)')\n",
    "plt.ylabel('Cell Survival Fraction')\n",
    "plt.title('Survival Curves')\n",
    "\n",
    "plt.yticks([1,0.1,0.01,0.001],['1','0.1','0,01']) ## set the ticks to be non-scientific notation\n",
    "\n",
    "## add the annotations etc\n",
    "plt.axvline(a1b1_rat,c='black',lw=1,ls='--') ## vertical line at a/b ratio\n",
    "## curve for linear only part\n",
    "s_n_3 = [s_frac(a3,b3,doses[i]) for i in range(n)]\n",
    "plt.semilogy(doses,s_n_3,c='black',lw=1,ls='--', dashes=(5, 5))\n",
    "\n",
    "## arrows for linear and quadratic parts\n",
    "plt.annotate(\"\",\n",
    "            xy=(10.5, 0.9), xycoords='data',\n",
    "            xytext=(10.5, 0.15), textcoords='data',\n",
    "            arrowprops=dict(arrowstyle=\"<->\",\n",
    "                            connectionstyle=\"arc3\"),\n",
    "            )\n",
    "\n",
    "plt.annotate(\"\",\n",
    "            xy=(10.5, 0.1), xycoords='data',\n",
    "            xytext=(10.5, 0.02), textcoords='data',\n",
    "            arrowprops=dict(arrowstyle=\"<->\",\n",
    "                            connectionstyle=\"arc3\"),\n",
    "            )\n",
    "\n",
    "plt.annotate(\"\",\n",
    "            xy=(9.9, 0.001), xycoords='data',\n",
    "            xytext=(9, 0.002), textcoords='data',\n",
    "            arrowprops=dict(arrowstyle=\"->\",\n",
    "                            connectionstyle=\"arc3\"),\n",
    "            )\n",
    "\n",
    "## text labels\n",
    "plt.text(10.6,0.35,r'$\\alpha D$')\n",
    "plt.text(10.6,0.04,r'$\\beta D^2$')\n",
    "plt.text(8.1, 0.002, r'$\\alpha / \\beta$')\n",
    "\n",
    "plt.text(2.5,0.01,'Densely Ionising \\n(e.g. heavy charged \\nparticles)')\n",
    "plt.text(11.5,0.01,'Sparsely Ionising \\n(e.g. x-rays)')\n",
    "\n",
    "#plt.savefig('Survival_curve_schematic.png',dpi=300,bbox_inches='tight')\n",
    "\n",
    "plt.show()"
   ]
  },
  {
   "cell_type": "markdown",
   "metadata": {
    "collapsed": true
   },
   "source": [
    "## Plot of survival fraction for single and multi-target models.\n",
    "- Based on the diagram in the \"Basic Clinical Radiobiology Book\"."
   ]
  },
  {
   "cell_type": "code",
   "execution_count": 4,
   "metadata": {
    "collapsed": true
   },
   "outputs": [],
   "source": [
    "def sf_single(dose,d0=1.6):\n",
    "    \"\"\"Survival fraction of cells for given dose with supplied D0 for single target model\"\"\"\n",
    "    return np.exp(-dose/d0)"
   ]
  },
  {
   "cell_type": "code",
   "execution_count": 5,
   "metadata": {
    "collapsed": true
   },
   "outputs": [],
   "source": [
    "def sf_multi(dose,d0=1.6,n=30):\n",
    "    \"\"\"Survival fraction of cells for given dose with supplied D0 and n values for multi target model\"\"\"\n",
    "    return 1-(1-np.exp(-dose/d0))**n"
   ]
  },
  {
   "cell_type": "code",
   "execution_count": 6,
   "metadata": {
    "collapsed": false
   },
   "outputs": [
    {
     "data": {
      "image/png": "[encoded data removed]",
      "text/plain": [
       "<matplotlib.figure.Figure at 0xb9f1a30>"
      ]
     },
     "metadata": {},
     "output_type": "display_data"
    }
   ],
   "source": [
    "my_d0 = 1.5\n",
    "my_n = 30\n",
    "\n",
    "doses = np.linspace(0,20,100)\n",
    "\n",
    "sfs_single = [sf_single(i,d0=my_d0) for i in doses]\n",
    "sfs_multi = [sf_multi(i,d0=my_d0,n=my_n) for i in doses]\n",
    "\n",
    "## plot the models\n",
    "plt.semilogy(doses,sfs_single, label = 'Single-target model')\n",
    "plt.semilogy(doses,sfs_multi, label = 'Multi-target model')\n",
    "\n",
    "## plot extrapolation line\n",
    "fake_d = max(doses)\n",
    "fake_sf = sf_multi(fake_d,d0=my_d0)\n",
    "plt.plot([0,fake_d],[my_n,fake_sf],ls='--',zorder=0,lw=1,c='black')\n",
    "\n",
    "## horizontal line at 1\n",
    "plt.axhline(1,ls=':',c='black',zorder=0)\n",
    "\n",
    "## format y-ticks\n",
    "plt.yticks([0.001,0.01,0.1,1,10],['0.001','0.01','0.1','1','10'])\n",
    "\n",
    "## set axes\n",
    "plt.ylim(0.001,my_n+20)\n",
    "plt.xlim(0,15)\n",
    "\n",
    "## add labels etc\n",
    "plt.legend()\n",
    "plt.text(1.5,30,'n',horizontalalignment='right',verticalalignment='center',fontsize=10)\n",
    "plt.plot([0.3,1],[my_n,my_n],c='black',lw=1)\n",
    "\n",
    "plt.xlabel('Dose (Gy)')\n",
    "plt.ylabel('Surviving cell fraction')\n",
    "plt.title('Comparison of single and multi-target single-hit models')\n",
    "\n",
    "#plt.savefig('single-multi-target-models.png',dpi=300,bbox_inches='tight')\n",
    "\n",
    "plt.show()"
   ]
  },
  {
   "cell_type": "markdown",
   "metadata": {
    "collapsed": true
   },
   "source": [
    "## Plot scitation frequency"
   ]
  },
  {
   "cell_type": "code",
   "execution_count": 7,
   "metadata": {
    "collapsed": false
   },
   "outputs": [
    {
     "data": {
      "text/html": [
       "<div>\n",
       "<style>\n",
       "    .dataframe thead tr:only-child th {\n",
       "        text-align: right;\n",
       "    }\n",
       "\n",
       "    .dataframe thead th {\n",
       "        text-align: left;\n",
       "    }\n",
       "\n",
       "    .dataframe tbody tr th {\n",
       "        vertical-align: top;\n",
       "    }\n",
       "</style>\n",
       "<table border=\"1\" class=\"dataframe\">\n",
       "  <thead>\n",
       "    <tr style=\"text-align: right;\">\n",
       "      <th></th>\n",
       "      <th>year</th>\n",
       "      <th>count</th>\n",
       "      <th>cumulative</th>\n",
       "    </tr>\n",
       "  </thead>\n",
       "  <tbody>\n",
       "    <tr>\n",
       "      <th>0</th>\n",
       "      <td>1990</td>\n",
       "      <td>5</td>\n",
       "      <td>5</td>\n",
       "    </tr>\n",
       "    <tr>\n",
       "      <th>1</th>\n",
       "      <td>1991</td>\n",
       "      <td>9</td>\n",
       "      <td>14</td>\n",
       "    </tr>\n",
       "    <tr>\n",
       "      <th>2</th>\n",
       "      <td>1992</td>\n",
       "      <td>13</td>\n",
       "      <td>27</td>\n",
       "    </tr>\n",
       "    <tr>\n",
       "      <th>3</th>\n",
       "      <td>1993</td>\n",
       "      <td>9</td>\n",
       "      <td>36</td>\n",
       "    </tr>\n",
       "    <tr>\n",
       "      <th>4</th>\n",
       "      <td>1994</td>\n",
       "      <td>12</td>\n",
       "      <td>48</td>\n",
       "    </tr>\n",
       "    <tr>\n",
       "      <th>5</th>\n",
       "      <td>1995</td>\n",
       "      <td>27</td>\n",
       "      <td>75</td>\n",
       "    </tr>\n",
       "    <tr>\n",
       "      <th>6</th>\n",
       "      <td>1996</td>\n",
       "      <td>11</td>\n",
       "      <td>86</td>\n",
       "    </tr>\n",
       "    <tr>\n",
       "      <th>7</th>\n",
       "      <td>1997</td>\n",
       "      <td>18</td>\n",
       "      <td>104</td>\n",
       "    </tr>\n",
       "    <tr>\n",
       "      <th>8</th>\n",
       "      <td>1998</td>\n",
       "      <td>23</td>\n",
       "      <td>127</td>\n",
       "    </tr>\n",
       "    <tr>\n",
       "      <th>9</th>\n",
       "      <td>1999</td>\n",
       "      <td>20</td>\n",
       "      <td>147</td>\n",
       "    </tr>\n",
       "    <tr>\n",
       "      <th>10</th>\n",
       "      <td>2000</td>\n",
       "      <td>27</td>\n",
       "      <td>174</td>\n",
       "    </tr>\n",
       "    <tr>\n",
       "      <th>11</th>\n",
       "      <td>2001</td>\n",
       "      <td>15</td>\n",
       "      <td>189</td>\n",
       "    </tr>\n",
       "    <tr>\n",
       "      <th>12</th>\n",
       "      <td>2002</td>\n",
       "      <td>21</td>\n",
       "      <td>210</td>\n",
       "    </tr>\n",
       "    <tr>\n",
       "      <th>13</th>\n",
       "      <td>2003</td>\n",
       "      <td>19</td>\n",
       "      <td>229</td>\n",
       "    </tr>\n",
       "    <tr>\n",
       "      <th>14</th>\n",
       "      <td>2004</td>\n",
       "      <td>26</td>\n",
       "      <td>255</td>\n",
       "    </tr>\n",
       "    <tr>\n",
       "      <th>15</th>\n",
       "      <td>2005</td>\n",
       "      <td>22</td>\n",
       "      <td>277</td>\n",
       "    </tr>\n",
       "    <tr>\n",
       "      <th>16</th>\n",
       "      <td>2006</td>\n",
       "      <td>27</td>\n",
       "      <td>304</td>\n",
       "    </tr>\n",
       "    <tr>\n",
       "      <th>17</th>\n",
       "      <td>2007</td>\n",
       "      <td>31</td>\n",
       "      <td>335</td>\n",
       "    </tr>\n",
       "    <tr>\n",
       "      <th>18</th>\n",
       "      <td>2008</td>\n",
       "      <td>42</td>\n",
       "      <td>377</td>\n",
       "    </tr>\n",
       "    <tr>\n",
       "      <th>19</th>\n",
       "      <td>2009</td>\n",
       "      <td>30</td>\n",
       "      <td>407</td>\n",
       "    </tr>\n",
       "    <tr>\n",
       "      <th>20</th>\n",
       "      <td>2010</td>\n",
       "      <td>33</td>\n",
       "      <td>440</td>\n",
       "    </tr>\n",
       "    <tr>\n",
       "      <th>21</th>\n",
       "      <td>2011</td>\n",
       "      <td>23</td>\n",
       "      <td>463</td>\n",
       "    </tr>\n",
       "    <tr>\n",
       "      <th>22</th>\n",
       "      <td>2012</td>\n",
       "      <td>35</td>\n",
       "      <td>498</td>\n",
       "    </tr>\n",
       "    <tr>\n",
       "      <th>23</th>\n",
       "      <td>2013</td>\n",
       "      <td>44</td>\n",
       "      <td>542</td>\n",
       "    </tr>\n",
       "    <tr>\n",
       "      <th>24</th>\n",
       "      <td>2014</td>\n",
       "      <td>43</td>\n",
       "      <td>585</td>\n",
       "    </tr>\n",
       "    <tr>\n",
       "      <th>25</th>\n",
       "      <td>2015</td>\n",
       "      <td>46</td>\n",
       "      <td>631</td>\n",
       "    </tr>\n",
       "    <tr>\n",
       "      <th>26</th>\n",
       "      <td>2016</td>\n",
       "      <td>50</td>\n",
       "      <td>681</td>\n",
       "    </tr>\n",
       "    <tr>\n",
       "      <th>27</th>\n",
       "      <td>2017</td>\n",
       "      <td>47</td>\n",
       "      <td>728</td>\n",
       "    </tr>\n",
       "  </tbody>\n",
       "</table>\n",
       "</div>"
      ],
      "text/plain": [
       "    year  count  cumulative\n",
       "0   1990      5           5\n",
       "1   1991      9          14\n",
       "2   1992     13          27\n",
       "3   1993      9          36\n",
       "4   1994     12          48\n",
       "5   1995     27          75\n",
       "6   1996     11          86\n",
       "7   1997     18         104\n",
       "8   1998     23         127\n",
       "9   1999     20         147\n",
       "10  2000     27         174\n",
       "11  2001     15         189\n",
       "12  2002     21         210\n",
       "13  2003     19         229\n",
       "14  2004     26         255\n",
       "15  2005     22         277\n",
       "16  2006     27         304\n",
       "17  2007     31         335\n",
       "18  2008     42         377\n",
       "19  2009     30         407\n",
       "20  2010     33         440\n",
       "21  2011     23         463\n",
       "22  2012     35         498\n",
       "23  2013     44         542\n",
       "24  2014     43         585\n",
       "25  2015     46         631\n",
       "26  2016     50         681\n",
       "27  2017     47         728"
      ]
     },
     "execution_count": 7,
     "metadata": {},
     "output_type": "execute_result"
    }
   ],
   "source": [
    "## frequency of \"audit\" and \"radiotherapy\" on pubmed\n",
    "df = pd.read_excel(r'audit_radiotherapy_citations.xlsx',skiprows=1)\n",
    "df"
   ]
  },
  {
   "cell_type": "code",
   "execution_count": 8,
   "metadata": {
    "collapsed": false
   },
   "outputs": [
    {
     "data": {
      "image/png": "[encoded data removed]",
      "text/plain": [
       "<matplotlib.figure.Figure at 0xbaa3c10>"
      ]
     },
     "metadata": {},
     "output_type": "display_data"
    }
   ],
   "source": [
    "fig,ax1=plt.subplots()\n",
    "ax1.bar(df['year'],df['count'],color='C0',label='Annual publications')\n",
    "ax2 = ax1.twinx()\n",
    "ax2.plot(df['year'],df['cumulative'],color='C1',marker='o',ms=4,label='Cumulative publications')\n",
    "ax1.set_ylabel('Number of annual publications')\n",
    "ax2.set_ylabel('Cumulative publications')\n",
    "plt.title('Citation results for \"audit\" and \"radiotherapy\" on PubMed')\n",
    "ax1.set_ylim(0,60)\n",
    "ax2.set_ylim(0,800)\n",
    "ax2.set_yticks([0,200,400,600,800])\n",
    "plt.xlim(1989,2018)\n",
    "lines1, labels1 = ax1.get_legend_handles_labels()\n",
    "lines2, labels2 = ax2.get_legend_handles_labels()\n",
    "ax2.legend(lines1 + lines2, labels1 + labels2)\n",
    "ax1.set_xlabel('Year')\n",
    "#plt.savefig('pubmed-audit-radiotherapy-citations.png',dpi=300,bbox_inches='tight')\n",
    "plt.show()"
   ]
  },
  {
   "cell_type": "markdown",
   "metadata": {
    "collapsed": true
   },
   "source": [
    "## Plot of randomly created doses for modelling.\n",
    "To include:\n",
    "- Nominal dose of 2Gy/#\n",
    "- Starting offset of -1% (= 1.98Gy)\n",
    "- Drift of 3%/year\n",
    "- SD of 0.3%\n",
    "- Include 50#'s\n",
    "- Show lines as if dose was perfect and then have the normally distributed points around it."
   ]
  },
  {
   "cell_type": "code",
   "execution_count": 78,
   "metadata": {
    "collapsed": false
   },
   "outputs": [],
   "source": [
    "## use this data which was generated from the TCP_NTCP code.\n",
    "\n",
    "perfect_doses = np.load(r'perfect_doses.npy')[0].T ## import and transpost array so raedy to use\n",
    "random_doses = np.load(r'random_doses.npy')[0].T"
   ]
  },
  {
   "cell_type": "code",
   "execution_count": 118,
   "metadata": {
    "collapsed": false
   },
   "outputs": [
    {
     "data": {
      "image/png": "[encoded data removed]",
      "text/plain": [
       "<matplotlib.figure.Figure at 0xb9e3bb0>"
      ]
     },
     "metadata": {},
     "output_type": "display_data"
    }
   ],
   "source": [
    "plt.plot(range(1,len(random_doses)+1),random_doses, 'o',ms=2,alpha=0.8, label = 'Delivered dose (0.3% SD)')\n",
    "plt.plot(range(1,len(perfect_doses)+1),perfect_doses, lw=1,zorder=0)\n",
    "\n",
    "plt.xlabel('Number of days')\n",
    "plt.ylabel('Dose (Gy)')\n",
    "plt.title('Modelling of delivered doses')\n",
    "\n",
    "## set plot limits\n",
    "plt.ylim(1.96,2.04)\n",
    "plt.xlim(0,183)\n",
    "plt.yticks([1.96,1.98,2,2.02,2.04])\n",
    "\n",
    "## add useful lines\n",
    "plt.axhline(2,ls='-',c='black',lw=0.5,zorder=0)\n",
    "plt.axhline(np.min(perfect_doses), ls=':',c='black',lw=0.5,zorder=0)\n",
    "\n",
    "## show legend\n",
    "plt.legend(loc='upper left')\n",
    "\n",
    "## add text to label lines\n",
    "plt.text(185,2,'$\\leftarrow$ Nominal Dose (2Gy/#)',verticalalignment='center')\n",
    "plt.text(185,np.min(perfect_doses),'$\\leftarrow$ Initial dose (-1%)',verticalalignment='center')\n",
    "plt.text(185,perfect_doses[195],'$\\swarrow$ Drift in dose (3%/yr)',verticalalignment='center')\n",
    "\n",
    "#plt.savefig('model_of_delivered_doses.png',dpi=300,bbox_inches='tight')\n",
    "plt.show()"
   ]
  },
  {
   "cell_type": "markdown",
   "metadata": {},
   "source": [
    "## Plot of population and individual patient TCPs\n",
    "- this wont run in ipython as need to import the module...\n",
    " - This has moved to the *Thesis_model_characterisation* notebook"
   ]
  },
  {
   "cell_type": "code",
   "execution_count": 119,
   "metadata": {
    "collapsed": false
   },
   "outputs": [
    {
     "ename": "NameError",
     "evalue": "name 'TCP_NTCP' is not defined",
     "output_type": "error",
     "traceback": [
      "\u001b[0;31m---------------------------------------------------------------------------\u001b[0m",
      "\u001b[0;31mNameError\u001b[0m                                 Traceback (most recent call last)",
      "\u001b[0;32m<ipython-input-119-ad33233d7b3c>\u001b[0m in \u001b[0;36m<module>\u001b[0;34m()\u001b[0m\n\u001b[0;32m----> 1\u001b[0;31m TCP_results = TCP_NTCP.completeTCPcalc(n=100,                  # number of patients in population to model\n\u001b[0m\u001b[1;32m      2\u001b[0m                                        \u001b[0malphabeta_use\u001b[0m\u001b[1;33m=\u001b[0m\u001b[1;36m10\u001b[0m\u001b[1;33m,\u001b[0m       \u001b[1;31m# mean alpha/beta\u001b[0m\u001b[1;33m\u001b[0m\u001b[0m\n\u001b[1;32m      3\u001b[0m                                        \u001b[0malphabeta_sd_use\u001b[0m\u001b[1;33m=\u001b[0m\u001b[1;36m20\u001b[0m\u001b[1;33m,\u001b[0m    \u001b[1;31m# SD of alpha/beta (%)\u001b[0m\u001b[1;33m\u001b[0m\u001b[0m\n\u001b[1;32m      4\u001b[0m                                        \u001b[0md\u001b[0m\u001b[1;33m=\u001b[0m\u001b[1;36m2\u001b[0m\u001b[1;33m,\u001b[0m                    \u001b[1;31m# nominal dose (Gy/fraction)\u001b[0m\u001b[1;33m\u001b[0m\u001b[0m\n\u001b[1;32m      5\u001b[0m                                        \u001b[0md_shift\u001b[0m\u001b[1;33m=\u001b[0m\u001b[1;36m0\u001b[0m\u001b[1;33m,\u001b[0m              \u001b[1;31m# initial dose difference (%)\u001b[0m\u001b[1;33m\u001b[0m\u001b[0m\n",
      "\u001b[0;31mNameError\u001b[0m: name 'TCP_NTCP' is not defined"
     ]
    }
   ],
   "source": [
    "TCP_results = TCP_NTCP.completeTCPcalc(n=100,                  # number of patients in population to model\n",
    "                                       alphabeta_use=10,       # mean alpha/beta\n",
    "                                       alphabeta_sd_use=20,    # SD of alpha/beta (%)\n",
    "                                       d=2,                    # nominal dose (Gy/fraction)\n",
    "                                       d_shift=0,              # initial dose difference (%)\n",
    "                                       d_sd=0,                 # standard deviation of delivered dose (%)\n",
    "                                       d_trend=0,              # dose drift (%/day)\n",
    "                                       max_d=100,              # maximum dose for which TCP is calcualted (Gy)\n",
    "                                       dose_of_interest=70,    # dose at which to return seperately the TCPs (Gy)\n",
    "                                       n0 = 1000000,)          # N0 value supplied (if not supplied, then can be fitted)\n",
    "\n",
    "## plot individual curves\n",
    "for i in range(pop_n):\n",
    "    plt.plot(TCP_results1['nom_doses'],TCP_results1['TCPs'][i],c='C1',\n",
    "             alpha=0.3,lw=1, label = None)\n",
    "    \n",
    "## add fake line for legend with alpha = 1\n",
    "plt.plot([-1,-1],[-1,-1],c='C1',\n",
    "         alpha=1,lw=1, label = 'Individual TCPs')\n",
    "\n",
    "## plot population curves\n",
    "plt.plot(TCP_results1['nom_doses'],TCP_results1['TCP_pop'],ls='-',c='C0',\n",
    "         label = 'Population TCP', marker='o',ms=3)\n",
    "plt.xlim(20,100)\n",
    "plt.ylim(0,1)\n",
    "plt.legend()\n",
    "\n",
    "plt.xlabel('Nominal Dose (Gy)')\n",
    "plt.ylabel('TCP')\n",
    "plt.title('Plot of individual patient TCPs which combine to give population TCP')\n",
    "\n",
    "#plt.savefig('pop_tcp_construction.png',dpi=300,bbox_inches='tight')\n",
    "\n",
    "plt.show()"
   ]
  },
  {
   "cell_type": "code",
   "execution_count": null,
   "metadata": {
    "collapsed": true
   },
   "outputs": [],
   "source": []
  }
 ],
 "metadata": {
  "anaconda-cloud": {},
  "kernelspec": {
   "display_name": "Python [conda root]",
   "language": "python",
   "name": "conda-root-py"
  },
  "language_info": {
   "codemirror_mode": {
    "name": "ipython",
    "version": 3
   },
   "file_extension": ".py",
   "mimetype": "text/x-python",
   "name": "python",
   "nbconvert_exporter": "python",
   "pygments_lexer": "ipython3",
   "version": "3.5.2"
  }
 },
 "nbformat": 4,
 "nbformat_minor": 1
}
