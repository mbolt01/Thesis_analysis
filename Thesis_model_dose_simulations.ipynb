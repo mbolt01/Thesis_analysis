{
 "cells": [
  {
   "cell_type": "markdown",
   "metadata": {},
   "source": [
    "## Used to create plats perform analysis of output produced by model based on dose variations\n",
    "- Output data will be saved as files and then imported here to analyse/plot."
   ]
  },
  {
   "cell_type": "code",
   "execution_count": 1,
   "metadata": {
    "collapsed": true
   },
   "outputs": [],
   "source": [
    "import numpy as np\n",
    "import numpy.polynomial.polynomial as poly\n",
    "from scipy.optimize import curve_fit\n",
    "import scipy as sp\n",
    "import matplotlib.pyplot as plt\n",
    "%matplotlib inline\n",
    "\n",
    "import pickle\n",
    "\n",
    "mystyle = r'https://gist.githubusercontent.com/mbolt01/3087dffd11e70eccb08fdcf327374a5c/raw/std_fig'\n",
    "plt.style.use(mystyle)\n",
    "\n",
    "## can do my modelling in this notebook too.\n",
    "import TCP_NTCP as model"
   ]
  },
  {
   "cell_type": "code",
   "execution_count": 2,
   "metadata": {
    "collapsed": true
   },
   "outputs": [],
   "source": [
    "## functions to simply save and load files for use aftger producing modelling results\n",
    "\n",
    "def save_pkl(obj,filename):\n",
    "    pickle.dump(obj,open(filename,'wb'))\n",
    "\n",
    "def load_pkl(filename):\n",
    "    return pickle.load(open(filename,'rb'))\n",
    "\n",
    "## example save:\n",
    "#save_pkl(prost_10year,'test3.pkl')\n",
    "## example load:\n",
    "#newtest = load_pkl('test3.pkl')\n",
    "\n",
    "\n",
    "## define colours to use for each type\n",
    "color_p = 'C0'\n",
    "color_hn = 'C1'"
   ]
  },
  {
   "cell_type": "markdown",
   "metadata": {},
   "source": [
    "# Variation in doses\n",
    "- Convolution of the different sources of dose variation.\n",
    "    - Variation assumed to be normally distributed with standard deviations of:\n",
    "        - Beam calibration: % (SD from NPL data) \n",
    "        - Output offset: % (variaiton in mean dose observed over a 2 month period for all meachines)\n",
    "        - Daily variations: % (mean SD based on each machines farmer data)\n",
    "- Convolution of normal distributions means just adding together the variances = SD^2\n",
    "    - Total SD = sqrt(SD1^2 + SD2^2 + ...SDn^2)\n",
    "    - https://en.wikipedia.org/wiki/Sum_of_normally_distributed_random_variables#Independent_random_variables\n",
    "    - http://mathworld.wolfram.com/NormalSumDistribution.html"
   ]
  },
  {
   "cell_type": "code",
   "execution_count": 3,
   "metadata": {
    "collapsed": false
   },
   "outputs": [
    {
     "name": "stdout",
     "output_type": "stream",
     "text": [
      "NPL only SD:  0.7\n",
      "NPL + Output SD:  0.989949493661\n",
      "NPL + Output + random SD:  1.00995049384\n",
      "--\n",
      "NPL only 95%CI:  1.3719999999999999\n",
      "NPL + Output 95%CI:  1.94030100758\n",
      "NPL + Output + random 95%CI:  1.97950296792\n",
      "--\n",
      "NPL only 95%CI use:  1.4\n",
      "NPL + Output 95%CI use:  1.9\n",
      "NPL + Output + random 95%CI use:  2\n"
     ]
    }
   ],
   "source": [
    "## NPL MV data\n",
    "## From the NPL Data the SD of the MV beam outputs is 0.7% (section 3.2.1)\n",
    "\n",
    "## Systematic beam output\n",
    "## From the first 7 weeks of output data this gives 0.7% also (section 4.3.7.2)\n",
    "\n",
    "## Daily output fluctuations\n",
    "## From the farmer chamber 0.2% (section 4.3.8)\n",
    "\n",
    "npl_err = 0.7\n",
    "op_err = 0.7\n",
    "rand_err = 0.2\n",
    "\n",
    "## convolute the erros together to give combined SDs\n",
    "print('NPL only SD: ',npl_err)\n",
    "npl_conv_op = np.sqrt(npl_err**2 + op_err**2)\n",
    "print('NPL + Output SD: ',npl_conv_op)\n",
    "npl_conv_op_conv_rand = np.sqrt(npl_err**2 + op_err**2 + rand_err**2)\n",
    "print('NPL + Output + random SD: ',npl_conv_op_conv_rand)\n",
    "\n",
    "print('--')\n",
    "## produce 95% CI\n",
    "print('NPL only 95%CI: ',npl_err*1.96)\n",
    "print('NPL + Output 95%CI: ',npl_conv_op*1.96)\n",
    "print('NPL + Output + random 95%CI: ',npl_conv_op_conv_rand*1.96)\n",
    "\n",
    "## values to use:\n",
    "print('--')\n",
    "print('NPL only 95%CI use: ',1.4)\n",
    "print('NPL + Output 95%CI use: ',1.9)\n",
    "print('NPL + Output + random 95%CI use: ',2)"
   ]
  },
  {
   "cell_type": "markdown",
   "metadata": {},
   "source": [
    "# Varied dose SD, fixed other parameters for a population\n",
    "- Used to assess change in number of patients with a particular probability of getting a TCP outcome.\n",
    "- From MALTHUS: extrapolate to 2015 for prostate and H&N.\n",
    "    - Prostate: No. RT patients: 26486\n",
    "    - H&N: No. RT patients: 8044\n",
    "- From other simulations in thesis: a/b's = 1.5 (0.75 SD), 10 (1 SD) which were fitted to clinical data"
   ]
  },
  {
   "cell_type": "code",
   "execution_count": 24,
   "metadata": {
    "collapsed": false
   },
   "outputs": [
    {
     "name": "stdout",
     "output_type": "stream",
     "text": [
      "-5\n",
      "-4\n",
      "-3\n",
      "-2\n",
      "-1\n",
      "0\n",
      "1\n",
      "2\n",
      "3\n",
      "4\n",
      "5\n"
     ]
    }
   ],
   "source": [
    "## model a fixed population (fixed set of a/b ratios) with systematic shifts in dose.\n",
    "## record the mean and also number >20%,80%, 90% etc.\n",
    "## this would be like the same set of patients being treated on different linacs\n",
    "\n",
    "n_p = 2631#8 #26318 fro malthus\n",
    "n_hn = 809#3 #8093 from malthus\n",
    "\n",
    "## creates array of [alpha,beta values]\n",
    "ab_p = model.create_alpha_beta_array(n_p,1.5,100*0.75/1.5) \n",
    "ab_hn = model.create_alpha_beta_array(n_hn,10,100*1/10)\n",
    "\n",
    "## create list of a/b values\n",
    "ab_ratios_p = [i[0]/i[1] for i in ab_p]\n",
    "ab_ratios_hn = [i[0]/i[1] for i in ab_hn]\n",
    "\n",
    "my_d_shifts = [-5,-4,-3,-2,-1,0,1,2,3,4,5]\n",
    "all_res_p = {}\n",
    "all_res_hn = {}\n",
    "for my_d_shift in my_d_shifts:\n",
    "    print(my_d_shift)\n",
    "    \n",
    "    tcps_p = []\n",
    "    tcps_hn = []\n",
    "    \n",
    "    ## prostate\n",
    "    for i in range(n_p):\n",
    "        results_p = model.completeTCPcalc(n=1,                  # number of patients in population to model\n",
    "                                          alphabeta_use=ab_ratios_p[i],      # mean alpha/beta\n",
    "                                          alphabeta_sd_use=0,     # SD of alpha/beta (%)\n",
    "                                          d=2,                    # nominal dose (Gy/fraction)\n",
    "                                          d_shift=my_d_shift,          # initial dose difference (%)\n",
    "                                          d_sd=0,                 # standard deviation of delivered dose (%)\n",
    "                                          d_trend=0,              # dose drift (%/day)\n",
    "                                          max_d=100,              # maximum dose for which TCP is calcualted (Gy)\n",
    "                                          dose_of_interest=74,    # results of TCP at this dose are returned seperately for simpler analysis.\n",
    "                                          n0 = 74)                # N0 as determnined through population fit\n",
    "        tcps_p.append(results_p['TCPs'][0])\n",
    "    \n",
    "    ## head and neck\n",
    "    for j in range(n_hn):\n",
    "        results_hn = model.completeTCPcalc(n=1,                  # number of patients in population to model\n",
    "                                          alphabeta_use=ab_ratios_hn[j],      # mean alpha/beta\n",
    "                                          alphabeta_sd_use=0,     # SD of alpha/beta (%)\n",
    "                                          d=65/30,                    # nominal dose (Gy/fraction)\n",
    "                                          d_shift=my_d_shift,          # initial dose difference (%)\n",
    "                                          d_sd=0,                 # standard deviation of delivered dose (%)\n",
    "                                          d_trend=0,              # dose drift (%/day)\n",
    "                                          max_d=100,              # maximum dose for which TCP is calcualted (Gy)\n",
    "                                          dose_of_interest=65,    # results of TCP at this dose are returned seperately for simpler analysis.\n",
    "                                          n0 = 3000000)                # N0 as determnined through population fit\n",
    "        tcps_hn.append(results_hn['TCPs'][0])\n",
    "    \n",
    "    all_res_p[my_d_shift]=tcps_p\n",
    "    all_res_hn[my_d_shift]=tcps_hn\n"
   ]
  },
  {
   "cell_type": "code",
   "execution_count": 32,
   "metadata": {
    "collapsed": false
   },
   "outputs": [
    {
     "data": {
      "image/png": "[encoded data removed]",
      "text/plain": [
       "<matplotlib.figure.Figure at 0x1f503aa3dd8>"
      ]
     },
     "metadata": {},
     "output_type": "display_data"
    }
   ],
   "source": [
    "#save_pkl(all_res_p,'pop_results-p.pkl')\n",
    "#save_pkl(all_res_hn,'pop_results-hn.pkl')\n",
    "all_res_p = load_pkl('pop_results-p.pkl')\n",
    "all_res_hn = load_pkl('pop_results-hn.pkl')\n",
    "## example plot of population means of +/-5% dose shift\n",
    "for i in [-5,5]:\n",
    "    plt.plot(np.mean(all_res_p[i],axis=0))\n",
    "    plt.plot(np.mean(all_res_hn[i],axis=0))"
   ]
  },
  {
   "cell_type": "code",
   "execution_count": 110,
   "metadata": {
    "collapsed": false
   },
   "outputs": [
    {
     "name": "stdout",
     "output_type": "stream",
     "text": [
      "8093\n",
      "8093\n",
      "8093\n"
     ]
    },
    {
     "data": {
      "image/png": "[encoded data removed]",
      "text/plain": [
       "<matplotlib.figure.Figure at 0x1f5067b2780>"
      ]
     },
     "metadata": {},
     "output_type": "display_data"
    }
   ],
   "source": [
    "## prost = [36]\n",
    "## hn = [29]\n",
    "## a single curve is all_res_p[dose_shift][i] ## i is the ith patient\n",
    "\n",
    "## get mean, number above 90%, below 10%\n",
    "## prost\n",
    "## get only values at dose of interest\n",
    "#all_res_hn[0][0][36]\n",
    "dose_shift=0\n",
    "\n",
    "for dose_shift in [0,-2,2]:\n",
    "\n",
    "    for data in [all_res_hn]:#,all_res_hn]:\n",
    "    #data = all_res_p\n",
    "        if data == all_res_hn:\n",
    "            posn = 29\n",
    "            label=str(dose_shift) + '%'\n",
    "            title = 'Variation in distribution of H&N TCP with systematic dose shifts'\n",
    "        else:\n",
    "            posn = 36\n",
    "            label=str(dose_shift) + '%'\n",
    "            title = 'Variation in distribution of Prostate TCP with systematic dose shifts'\n",
    "        tcps = [data[dose_shift][i][posn] for i in range(len(data[dose_shift]))]\n",
    "        print(len(tcps))\n",
    "        plt.hist(tcps,normed=False,alpha=0.4,label=label,bins=20,range=(0,1),histtype='stepfilled',edgecolor='black')\n",
    "\n",
    "plt.legend(title='Systematic dose shift',loc='upper center')\n",
    "plt.ylabel('Number of patients')\n",
    "plt.xlabel('Calculated TCP')\n",
    "plt.title(title)\n",
    "#plt.savefig('population tcp change with dose shift.png',dpi=300,bbox_inches='tight')\n",
    "plt.show()"
   ]
  },
  {
   "cell_type": "code",
   "execution_count": 125,
   "metadata": {
    "collapsed": false
   },
   "outputs": [
    {
     "name": "stdout",
     "output_type": "stream",
     "text": [
      "Prost -5 3954 3831\n",
      "Prost -4 3237 4170\n",
      "Prost -3 2611 4560\n",
      "Prost -2 1992 5002\n",
      "Prost -1 1507 5480\n",
      "Prost 0 1101 5980\n",
      "Prost 1 758 6510\n",
      "Prost 2 485 7074\n",
      "Prost 3 307 7723\n",
      "Prost 4 153 8330\n",
      "Prost 5 71 8980\n",
      "H&N -5 3014 866\n",
      "H&N -4 2568 1104\n",
      "H&N -3 2153 1418\n",
      "H&N -2 1788 1747\n",
      "H&N -1 1445 2077\n",
      "H&N 0 1146 2491\n",
      "H&N 1 904 2938\n",
      "H&N 2 700 3403\n",
      "H&N 3 540 3834\n",
      "H&N 4 397 4254\n",
      "H&N 5 295 4680\n"
     ]
    }
   ],
   "source": [
    "## calculate umber of patients <20% and >80% TCP for p and h&n for each dose shift\n",
    "\n",
    "## loop each dose shift\n",
    "\n",
    "for data in [all_res_p,all_res_hn]:\n",
    "    #data = all_res_p\n",
    "    for dose in sorted(data):\n",
    "        ## get list of TCPs at required points\n",
    "        if data == all_res_p:\n",
    "            posn = 36\n",
    "            label='Prost'\n",
    "        else:\n",
    "            posn = 29\n",
    "            label='H&N'\n",
    "        tcps = [data[dose][i][posn] for i in range(len(data[dose]))]\n",
    "        tcps_lt20 = len([i for i in tcps if i<0.2])\n",
    "        tcps_gt80 = len([i for i in tcps if i>0.8])\n",
    "        print(label,dose,tcps_lt20,tcps_gt80)"
   ]
  },
  {
   "cell_type": "markdown",
   "metadata": {},
   "source": [
    "# Fixed dose/# with % dose shift (e.g. cal dif or output difference)\n",
    "- Do for H&N and prost.\n",
    "- Store the results for each run in dict (and save)\n",
    "- Can then compare TCP at given dose and see spread or plot different shifts etc.\n",
    "- Do a run where dose shifta are drawn from a normal dist (NPL + output convolution)\n",
    "    - This will show variations for a single patient depended on where treated"
   ]
  },
  {
   "cell_type": "code",
   "execution_count": 4,
   "metadata": {
    "collapsed": false
   },
   "outputs": [
    {
     "name": "stdout",
     "output_type": "stream",
     "text": [
      "dose shifts:  [-5.   -4.75 -4.5  -4.25 -4.   -3.75 -3.5  -3.25 -3.   -2.75 -2.5  -2.25\n",
      " -2.   -1.75 -1.5  -1.25 -1.   -0.75 -0.5  -0.25  0.    0.25  0.5   0.75\n",
      "  1.    1.25  1.5   1.75  2.    2.25  2.5   2.75  3.    3.25  3.5   3.75\n",
      "  4.    4.25  4.5   4.75]\n",
      "Prostate done\n",
      "H&N done\n"
     ]
    }
   ],
   "source": [
    "## prostate\n",
    "\n",
    "## dict to store results\n",
    "\n",
    "do_this = True\n",
    "if do_this == True:\n",
    "    res_p = {}\n",
    "\n",
    "    ## dose shifts to apply (same for each fraciton as no SD)\n",
    "    d_shifts = np.arange(-5,5,0.25)\n",
    "    print('dose shifts: ',d_shifts)\n",
    "\n",
    "    for the_d in d_shifts:\n",
    "        results = model.completeTCPcalc(n=1,                  # number of patients in population to model\n",
    "                                      alphabeta_use=1.5,      # mean alpha/beta\n",
    "                                      alphabeta_sd_use=0,     # SD of alpha/beta (%)\n",
    "                                      d=2,                    # nominal dose (Gy/fraction)\n",
    "                                      d_shift=the_d,          # initial dose difference (%)\n",
    "                                      d_sd=0,                 # standard deviation of delivered dose (%)\n",
    "                                      d_trend=0,              # dose drift (%/day)\n",
    "                                      max_d=100,              # maximum dose for which TCP is calcualted (Gy)\n",
    "                                      dose_of_interest=74,    # results of TCP at this dose are returned seperately for simpler analysis.\n",
    "                                      n0 = 74)                # N0 as determnined through population fit\n",
    "        res_p[the_d] = results\n",
    "\n",
    "    print('Prostate done')\n",
    "\n",
    "    ## H&N \n",
    "    ## dict to store results\n",
    "    res_hn = {}\n",
    "\n",
    "    for the_d in d_shifts:\n",
    "        results = model.completeTCPcalc(n=1,                  # number of patients in population to model\n",
    "                                      alphabeta_use=10,      # mean alpha/beta\n",
    "                                      alphabeta_sd_use=0,     # SD of alpha/beta (%)\n",
    "                                      d=65/30,                    # nominal dose (Gy/fraction)\n",
    "                                      d_shift=the_d,          # initial dose difference (%)\n",
    "                                      d_sd=0,                 # standard deviation of delivered dose (%)\n",
    "                                      d_trend=0,              # dose drift (%/day)\n",
    "                                      max_d=100,              # maximum dose for which TCP is calcualted (Gy)\n",
    "                                      dose_of_interest=65,    # results of TCP at this dose are returned seperately for simpler analysis.\n",
    "                                      n0 = 3000000)                # N0 as determnined through population fit\n",
    "        res_hn[the_d] = results\n",
    "\n",
    "    print('H&N done')\n"
   ]
  },
  {
   "cell_type": "code",
   "execution_count": 5,
   "metadata": {
    "collapsed": false
   },
   "outputs": [
    {
     "data": {
      "image/png": "[encoded data removed]",
      "text/plain": [
       "<matplotlib.figure.Figure at 0x1c84d93ce48>"
      ]
     },
     "metadata": {},
     "output_type": "display_data"
    }
   ],
   "source": [
    "plt.plot(res_hn[0]['nom_doses'],res_hn[0]['TCP_pop'])\n",
    "plt.plot(65,0.66,'o')\n",
    "plt.show()"
   ]
  },
  {
   "cell_type": "code",
   "execution_count": 4,
   "metadata": {
    "collapsed": false
   },
   "outputs": [],
   "source": [
    "## Save/Load data\n",
    "\n",
    "# save:\n",
    "#save_pkl(res_p,'prost_d_shift_var.pkl')\n",
    "#save_pkl(res_hn,'hn_d_shift_var.pkl')\n",
    "\n",
    "## load:\n",
    "res_p = load_pkl('prost_d_shift_var.pkl')\n",
    "res_hn = load_pkl('hn_d_shift_var.pkl')"
   ]
  },
  {
   "cell_type": "code",
   "execution_count": 6,
   "metadata": {
    "collapsed": false
   },
   "outputs": [
    {
     "name": "stdout",
     "output_type": "stream",
     "text": [
      "shift: -0.75 p -2.58053006088 hn -5.89425199745\n",
      "shift: -0.5 p -1.71197632473 hn -3.87945960051\n",
      "shift: 2.0 p 6.50152611449 hn 13.4825799097\n",
      "shift: 3.0 p 9.53836091958 hn 19.0348093712\n",
      "shift: 4.0 p 12.4300555459 hn 23.8553408559\n",
      "shift: -4.0 p -14.5773657581 hn -35.9268668117\n",
      "shift: -0.25 p -0.851769220148 hn -1.9145055022\n",
      "shift: 1.5 p 4.92911209362 hn 10.4154247755\n",
      "shift: -2.0 p -7.04483780624 hn -16.6796758044\n",
      "shift: 1.25 p 4.12953141801 hn 8.80683326709\n",
      "shift: 2.25 p 7.2742796692 hn 14.9423094775\n",
      "shift: 2.75 p 8.79272100018 hn 17.7176115786\n",
      "shift: -1.25 p -4.34227938425 hn -10.0698950143\n",
      "shift: 3.25 p 10.2749235092 hn 20.3062178211\n",
      "shift: 4.25 p 13.1302401219 hn 24.9533941486\n",
      "shift: 0.75 p 2.50386437844 hn 5.43745548185\n",
      "shift: -3.0 p -10.7547198346 hn -26.0602777644\n",
      "shift: 4.5 p 13.8213356064 hn 26.0107056582\n",
      "shift: 0.0 p 0.0 hn 0.0\n",
      "shift: 0.5 p 1.67789207062 hn 3.67614820011\n",
      "shift: 3.5 p 11.0023972471 hn 21.5327814667\n",
      "shift: 3.75 p 11.7207753317 hn 22.7154838777\n",
      "shift: 1.0 p 3.32109748691 hn 7.14761774333\n",
      "shift: 2.5 p 8.03802012785 hn 16.3537262645\n",
      "shift: -1.5 p -5.23525913517 hn -12.2284709536\n",
      "shift: -4.25 p -15.5493421421 hn -38.4421330058\n",
      "shift: -3.5 p -12.6526208647 hn -30.9465146766\n",
      "shift: -1.0 p -3.45733258952 hn -7.95807188959\n",
      "shift: -3.75 p -13.6117284751 hn -33.4268947286\n",
      "shift: -4.75 p -17.5115127337 hn -43.4999706473\n",
      "shift: 1.75 p 5.71979121074 hn 11.9738278645\n",
      "shift: -2.75 p -9.81627051248 hn -23.6615598876\n",
      "shift: 4.75 p 14.5033527251 hn 27.0283521288\n",
      "shift: 0.25 p 0.843246563754 hn 1.86363405191\n",
      "shift: -2.25 p -7.96117939535 hn -18.9685659093\n",
      "shift: -5.0 p -18.501288612 hn -46.0326007601\n",
      "shift: -4.5 p -16.527459617 hn -40.9681159082\n",
      "shift: -3.25 p -11.700226072 hn -28.4897366789\n",
      "shift: -2.5 p -8.88503912473 hn -21.296710563\n",
      "shift: -1.75 p -6.13615365758 hn -14.432310862\n"
     ]
    },
    {
     "data": {
      "image/png": "[encoded data removed]",
      "text/plain": [
       "<matplotlib.figure.Figure at 0x20605c5d208>"
      ]
     },
     "metadata": {},
     "output_type": "display_data"
    }
   ],
   "source": [
    "## plot the calcualted TCP (in percentage) against the dose shift (%)\n",
    "\n",
    "tcp_percs_p = []\n",
    "orig_tcp_p = res_p[0]['TCP_cure_percent']\n",
    "tcp_percs_hn = []\n",
    "orig_tcp_hn = res_hn[0]['TCP_cure_percent']\n",
    "\n",
    "## get the dose shifts from the saved data\n",
    "d_shifts = [i for i in res_p.keys()]\n",
    "\n",
    "for i in d_shifts:\n",
    "    ## prost\n",
    "    the_tcp_p = res_p[i]['TCP_cure_percent'] ## TCP at the specified dose of interest\n",
    "    tcp_perc_dif_p = ((the_tcp_p/orig_tcp_p)-1)*100\n",
    "    tcp_percs_p.append(tcp_perc_dif_p)\n",
    "    ## hn\n",
    "    the_tcp_hn = res_hn[i]['TCP_cure_percent'] ## TCP at the specified dose of interest\n",
    "    tcp_perc_dif_hn = ((the_tcp_hn/orig_tcp_hn)-1)*100\n",
    "    tcp_percs_hn.append(tcp_perc_dif_hn)\n",
    "    print('shift:',i,'p',tcp_perc_dif_p,'hn',tcp_perc_dif_hn)\n",
    "    \n",
    "plt.plot(d_shifts,tcp_percs_p,'o',ms=3,label='Prostate',color=color_p)\n",
    "plt.plot(d_shifts,tcp_percs_hn,'o',ms=3,label='Head & neck',color=color_hn)\n",
    "plt.title('Variation in calculated TCP with dose variation')\n",
    "plt.ylabel('TCP change (%)')\n",
    "plt.xlabel('Dose shift (%)')\n",
    "\n",
    "plt.axhline(0,color='black',lw=0.5,zorder=0)\n",
    "plt.axvline(0,color='black',lw=0.5,zorder=0)\n",
    "\n",
    "#plt.ylim(-40,40)\n",
    "\n",
    "## add a polynomial...\n",
    "## do the polynomial fit and create function from it\n",
    "\n",
    "add_fit = False\n",
    "if add_fit == True:\n",
    "    for i in [tcp_percs_p,tcp_percs_hn]:\n",
    "        coefs = poly.polyfit(d_shifts, i, 2)\n",
    "        ffit = poly.Polynomial(coefs)\n",
    "        if i == tcp_percs_p:\n",
    "            fit_color = color=color_p\n",
    "        else:\n",
    "            fit_color = color=color_hn\n",
    "        ## generate some x values and then plot the curve at these points\n",
    "        x_fit = np.linspace(start=min(d_shifts),stop=max(d_shifts),num=100,endpoint=True)\n",
    "\n",
    "        plt.plot(x_fit, ffit(x_fit),color=fit_color,lw=1,zorder=0)\n",
    "    \n",
    "## shade the regions of interest with different colours and labels\n",
    "output_errors = {1.4:{'label':'Calibration \\nuncertainty (95% CI)',\n",
    "                    'color':'#a5a5a5'},\n",
    "                 1.9:{'label':'Cal + output \\nuncertainty (95% CI)',\n",
    "                   'color':'#cccccc'},\n",
    "                2:{'label':'Cal + output + fluctuations \\nuncertainty (95% CI)',\n",
    "                   'color':'#dfdfdf'}}\n",
    "\n",
    "for val in sorted(output_errors,reverse=True):\n",
    "    plt.axvspan(-val,val,alpha=1,color=output_errors[val]['color'],zorder=0,label=output_errors[val]['label'])\n",
    "\n",
    "plt.legend(loc='center left', bbox_to_anchor=(1, 0.5))\n",
    "\n",
    "#plt.savefig('variation with dose shift-shade2.png',dpi=300,bbox_inches='tight')\n",
    "plt.show()"
   ]
  },
  {
   "cell_type": "markdown",
   "metadata": {
    "collapsed": true
   },
   "source": [
    "# Include dose drift from initial value of 0%.\n",
    "- Range between +/-5% drift/year.\n",
    "    - Treatment length is ~6 weeks, so max of +/-0.6%/treatment\n",
    "    \n",
    "- Add shading for 95% CI of drifts/year."
   ]
  },
  {
   "cell_type": "code",
   "execution_count": 11,
   "metadata": {
    "collapsed": false
   },
   "outputs": [
    {
     "name": "stdout",
     "output_type": "stream",
     "text": [
      "dose drifts:  [-10.   -9.5  -9.   -8.5  -8.   -7.5  -7.   -6.5  -6.   -5.5  -5.   -4.5\n",
      "  -4.   -3.5  -3.   -2.5  -2.   -1.5  -1.   -0.5   0.    0.5   1.    1.5\n",
      "   2.    2.5   3.    3.5   4.    4.5   5.    5.5   6.    6.5   7.    7.5\n",
      "   8.    8.5   9.    9.5]\n",
      "Prostate done\n",
      "H&N done\n"
     ]
    }
   ],
   "source": [
    "## prostate\n",
    "\n",
    "## dict to store results\n",
    "\n",
    "do_this = True\n",
    "if do_this == True:\n",
    "    res_p = {}\n",
    "\n",
    "    ## dose drifts to apply (same for each fraciton as no SD)\n",
    "    d_drifts = np.arange(-10,10,0.5)\n",
    "    print('dose drifts: ',d_drifts)\n",
    "\n",
    "    for the_d in d_drifts:\n",
    "        results = model.completeTCPcalc(n=1,                  # number of patients in population to model\n",
    "                                      alphabeta_use=1.5,      # mean alpha/beta\n",
    "                                      alphabeta_sd_use=0,     # SD of alpha/beta (%)\n",
    "                                      d=2,                    # nominal dose (Gy/fraction)\n",
    "                                      d_shift=0,          # initial dose difference (%)\n",
    "                                      d_sd=0,                 # standard deviation of delivered dose (%)\n",
    "                                      d_trend=the_d/365,              # dose drift (%/day)\n",
    "                                      max_d=100,              # maximum dose for which TCP is calcualted (Gy)\n",
    "                                      dose_of_interest=74,    # results of TCP at this dose are returned seperately for simpler analysis.\n",
    "                                      n0 = 74)                # N0 as determnined through population fit\n",
    "        res_p[the_d] = results\n",
    "\n",
    "    print('Prostate done')\n",
    "\n",
    "    ## H&N \n",
    "    ## dict to store results\n",
    "    res_hn = {}\n",
    "\n",
    "    for the_d in d_drifts:\n",
    "        results = model.completeTCPcalc(n=1,                  # number of patients in population to model\n",
    "                                      alphabeta_use=10,      # mean alpha/beta\n",
    "                                      alphabeta_sd_use=0,     # SD of alpha/beta (%)\n",
    "                                      d=65/30,                    # nominal dose (Gy/fraction)\n",
    "                                      d_shift=0,          # initial dose difference (%)\n",
    "                                      d_sd=0,                 # standard deviation of delivered dose (%)\n",
    "                                      d_trend=the_d/365,              # dose drift (%/day)\n",
    "                                      max_d=100,              # maximum dose for which TCP is calcualted (Gy)\n",
    "                                      dose_of_interest=65,    # results of TCP at this dose are returned seperately for simpler analysis.\n",
    "                                      n0 = 3000000)                # N0 as determnined through population fit\n",
    "        res_hn[the_d] = results\n",
    "\n",
    "    print('H&N done')\n"
   ]
  },
  {
   "cell_type": "code",
   "execution_count": 12,
   "metadata": {
    "collapsed": true
   },
   "outputs": [],
   "source": [
    "## Save/Load data\n",
    "\n",
    "# save:\n",
    "#save_pkl(res_p,'prost_d_drift_var.pkl')\n",
    "#save_pkl(res_hn,'hn_d_drift_var.pkl')\n",
    "\n",
    "## load:\n",
    "res_p = load_pkl('prost_d_drift_var.pkl')\n",
    "res_hn = load_pkl('hn_d_drift_var.pkl')"
   ]
  },
  {
   "cell_type": "code",
   "execution_count": 24,
   "metadata": {
    "collapsed": false
   },
   "outputs": [
    {
     "data": {
      "image/png": "[encoded data removed]",
      "text/plain": [
       "<matplotlib.figure.Figure at 0x1c84f558a90>"
      ]
     },
     "metadata": {},
     "output_type": "display_data"
    }
   ],
   "source": [
    "## plot the calcualted TCP (in percentage) against the dose drift (%/yr)\n",
    "\n",
    "## define colours to use for each type\n",
    "color_p = 'C0'\n",
    "color_hn = 'C1'\n",
    "\n",
    "tcp_percs_p = []\n",
    "orig_tcp_p = res_p[0]['TCP_cure_percent']\n",
    "tcp_percs_hn = []\n",
    "orig_tcp_hn = res_hn[0]['TCP_cure_percent']\n",
    "\n",
    "## get the dose drifts from the saved data\n",
    "d_drifts = [i for i in res_p.keys()]\n",
    "\n",
    "for i in d_drifts:\n",
    "    ## prost\n",
    "    the_tcp_p = res_p[i]['TCP_cure_percent'] ## TCP at the specified dose of interest\n",
    "    tcp_perc_dif_p = ((the_tcp_p/orig_tcp_p)-1)*100\n",
    "    tcp_percs_p.append(tcp_perc_dif_p)\n",
    "    ## hn\n",
    "    the_tcp_hn = res_hn[i]['TCP_cure_percent'] ## TCP at the specified dose of interest\n",
    "    tcp_perc_dif_hn = ((the_tcp_hn/orig_tcp_hn)-1)*100\n",
    "    tcp_percs_hn.append(tcp_perc_dif_hn)\n",
    "    \n",
    "plt.plot(d_drifts,tcp_percs_p,'o',ms=3,label='Prostate',color=color_p)\n",
    "plt.plot(d_drifts,tcp_percs_hn,'o',ms=3,label='Head & neck',color=color_hn)\n",
    "plt.title('Variation in calcualted TCP with dose drift')\n",
    "plt.ylabel('TCP change (%)')\n",
    "plt.xlabel('Dose drift (%/year)')\n",
    "\n",
    "plt.axhline(0,color='black',lw=0.5,zorder=0)\n",
    "plt.axvline(0,color='black',lw=0.5,zorder=0)\n",
    "\n",
    "#plt.ylim(-40,40)\n",
    "\n",
    "## add a polynomial...\n",
    "## do the polynomial fit and create function from it\n",
    "\n",
    "add_fit = True\n",
    "if add_fit == True:\n",
    "    for i in [tcp_percs_p,tcp_percs_hn]:\n",
    "        coefs = poly.polyfit(d_drifts, i, 1)\n",
    "        ffit = poly.Polynomial(coefs)\n",
    "        if i == tcp_percs_p:\n",
    "            fit_color = color=color_p\n",
    "        else:\n",
    "            fit_color = color=color_hn\n",
    "        ## generate some x values and then plot the curve at these points\n",
    "        x_fit = np.linspace(start=min(d_drifts),stop=max(d_drifts),num=100,endpoint=True)\n",
    "\n",
    "        plt.plot(x_fit, ffit(x_fit),color=fit_color,lw=1,zorder=0)\n",
    "    \n",
    "## shade the regions of interest with different colours and labels\n",
    "plt.axvspan(-3.5,5.3,alpha=1,color='lightgrey',zorder=0,label='95% CI of drifts (%/yr)')\n",
    "\n",
    "plt.legend(loc='center left', bbox_to_anchor=(1, 0.5))\n",
    "plt.xticks([-10,-5,0,5,10])\n",
    "\n",
    "#plt.savefig('variation with dose drift-shade.png',dpi=300,bbox_inches='tight')\n",
    "plt.show()"
   ]
  },
  {
   "cell_type": "markdown",
   "metadata": {},
   "source": [
    "# Effect of treatment of different machines\n",
    "- Same patient treated on 100 different machines with random dose delivery based on range of bem outputs (+cals).\n",
    "- Get dose from uniform dist with SD = 0.7% (NPL only) and 1.0% (NPL + beam output).\n",
    "    - Shade the 95% CI based on these 2 sets of data.\n",
    "    - Probably want seperate plots for prostate and H&N.\n",
    "    \n",
    "    - Or can do boxplots of TCP for each "
   ]
  },
  {
   "cell_type": "code",
   "execution_count": 139,
   "metadata": {
    "collapsed": false
   },
   "outputs": [
    {
     "name": "stdout",
     "output_type": "stream",
     "text": [
      "Prostate NPL only done 0.014325523977\n",
      "H&N NPL only done 0.0155193176417\n",
      "Prostate NPL + OP done 0.0189384616473\n",
      "H&N NPL + OP done 0.0205166667846\n"
     ]
    }
   ],
   "source": [
    "\n",
    "##sds for normal distributions to use for NPL only and NPL + OPs\n",
    "npl_sd = 0.7\n",
    "npl_op_sd = 1.0\n",
    "\n",
    "the_mean = 0 ## mean output\n",
    "num = 1000 ## number of 'machines'\n",
    "\n",
    "do_this = True\n",
    "if do_this == True:\n",
    "        \n",
    "    ## generate output from normal distribution for both sets of SDs\n",
    "    mean_ops_npl = np.random.normal(loc=the_mean,scale=npl_sd,size=num)\n",
    "    mean_ops_npl_op = np.random.normal(loc=the_mean,scale=npl_op_sd,size=num)\n",
    "\n",
    "    ## Prostate NPL only\n",
    "    res_p_npl = []\n",
    "\n",
    "    ## calc TCP and store for each factor (beam output)\n",
    "    for the_d in mean_ops_npl:\n",
    "        results = model.completeTCPcalc(n=1,                  # number of patients in population to model\n",
    "                                      alphabeta_use=1.5,      # mean alpha/beta\n",
    "                                      alphabeta_sd_use=0,     # SD of alpha/beta (%)\n",
    "                                      d=2,                    # nominal dose (Gy/fraction)\n",
    "                                      d_shift=the_d,          # initial dose difference (%)\n",
    "                                      d_sd=0,                 # standard deviation of delivered dose (%)\n",
    "                                      d_trend=0,              # dose drift (%/day)\n",
    "                                      max_d=100,              # maximum dose for which TCP is calcualted (Gy)\n",
    "                                      dose_of_interest=74,    # results of TCP at this dose are returned seperately for simpler analysis.\n",
    "                                      n0 = 74)                # N0 as determnined through population fit\n",
    "        ## save the TCP percentage to list\n",
    "        res_p_npl.append(results['TCP_cure_percent'])\n",
    "\n",
    "    print('Prostate NPL only done',np.std(p_doses_npl))\n",
    "    \n",
    "    \n",
    "\n",
    "    ## H&N  NPL only\n",
    "    res_hn_npl = []\n",
    "\n",
    "    for the_d in mean_ops_npl:\n",
    "        results = model.completeTCPcalc(n=1,                  # number of patients in population to model\n",
    "                                      alphabeta_use=10,      # mean alpha/beta\n",
    "                                      alphabeta_sd_use=0,     # SD of alpha/beta (%)\n",
    "                                      d=65/30,                    # nominal dose (Gy/fraction)\n",
    "                                      d_shift=the_d,          # initial dose difference (%)\n",
    "                                      d_sd=0,                 # standard deviation of delivered dose (%)\n",
    "                                      d_trend=0,              # dose drift (%/day)\n",
    "                                      max_d=100,              # maximum dose for which TCP is calcualted (Gy)\n",
    "                                      dose_of_interest=65,    # results of TCP at this dose are returned seperately for simpler analysis.\n",
    "                                      n0 = 3000000)                # N0 as determnined through population fit\n",
    "        res_hn_npl.append(results['TCP_cure_percent'])\n",
    "\n",
    "    print('H&N NPL only done',np.std(hn_doses_npl))\n",
    "\n",
    "    ## Prostate NPL + OP\n",
    "    res_p_npl_op = []\n",
    "\n",
    "    ## calc TCP and store for each factor (beam output)\n",
    "    for the_d in mean_ops_npl_op:\n",
    "        results = model.completeTCPcalc(n=1,                  # number of patients in population to model\n",
    "                                      alphabeta_use=1.5,      # mean alpha/beta\n",
    "                                      alphabeta_sd_use=0,     # SD of alpha/beta (%)\n",
    "                                      d=2,                    # nominal dose (Gy/fraction)\n",
    "                                      d_shift=the_d,          # initial dose difference (%)\n",
    "                                      d_sd=0,                 # standard deviation of delivered dose (%)\n",
    "                                      d_trend=0,              # dose drift (%/day)\n",
    "                                      max_d=100,              # maximum dose for which TCP is calcualted (Gy)\n",
    "                                      dose_of_interest=74,    # results of TCP at this dose are returned seperately for simpler analysis.\n",
    "                                      n0 = 74)                # N0 as determnined through population fit\n",
    "        ## save the TCP percentage to list\n",
    "        res_p_npl_op.append(results['TCP_cure_percent'])\n",
    "\n",
    "    print('Prostate NPL + OP done',np.std(p_doses_npl_op))\n",
    "    \n",
    "\n",
    "    ## H&N  NPL + OP\n",
    "    res_hn_npl_op = []\n",
    "\n",
    "    for the_d in mean_ops_npl_op:\n",
    "        results = model.completeTCPcalc(n=1,                  # number of patients in population to model\n",
    "                                      alphabeta_use=10,      # mean alpha/beta\n",
    "                                      alphabeta_sd_use=0,     # SD of alpha/beta (%)\n",
    "                                      d=65/30,                    # nominal dose (Gy/fraction)\n",
    "                                      d_shift=the_d,          # initial dose difference (%)\n",
    "                                      d_sd=0,                 # standard deviation of delivered dose (%)\n",
    "                                      d_trend=0,              # dose drift (%/day)\n",
    "                                      max_d=100,              # maximum dose for which TCP is calcualted (Gy)\n",
    "                                      dose_of_interest=65,    # results of TCP at this dose are returned seperately for simpler analysis.\n",
    "                                      n0 = 3000000)                # N0 as determnined through population fit\n",
    "        res_hn_npl_op.append(results['TCP_cure_percent'])\n",
    "\n",
    "    print('H&N NPL + OP done',np.std(hn_doses_npl_op))"
   ]
  },
  {
   "cell_type": "code",
   "execution_count": 141,
   "metadata": {
    "collapsed": false
   },
   "outputs": [],
   "source": [
    "## Save/Load data\n",
    "\n",
    "# save:\n",
    "#save_pkl(res_p_npl,'p_d_machine_npl_var.pkl')\n",
    "#save_pkl(res_hn_npl,'hn_d_machine_npl_var.pkl')\n",
    "#save_pkl(res_p_npl_op,'p_d_machine_npl+op_var.pkl')\n",
    "#save_pkl(res_hn_npl_op,'hn_d_machine_npl+op_var.pkl')\n",
    "\n",
    "## load:\n",
    "res_p_npl = load_pkl('p_d_machine_npl_var.pkl')\n",
    "res_hn_npl = load_pkl('hn_d_machine_npl_var.pkl')\n",
    "res_p_npl_op = load_pkl('p_d_machine_npl+op_var.pkl')\n",
    "res_hn_npl_op = load_pkl('hn_d_machine_npl+op_var.pkl')\n",
    "\n"
   ]
  },
  {
   "cell_type": "code",
   "execution_count": 192,
   "metadata": {
    "collapsed": false
   },
   "outputs": [
    {
     "name": "stderr",
     "output_type": "stream",
     "text": [
      "C:\\Anaconda3\\lib\\site-packages\\matplotlib\\axes\\_axes.py:545: UserWarning: No labelled objects found. Use label='...' kwarg on individual plots.\n",
      "  warnings.warn(\"No labelled objects found. \"\n"
     ]
    },
    {
     "name": "stdout",
     "output_type": "stream",
     "text": [
      "2.33240534857\n",
      "5.2262550218\n",
      "3.40765211105\n",
      "7.66356180382\n"
     ]
    },
    {
     "data": {
      "image/png": "[encoded data removed]",
      "text/plain": [
       "<matplotlib.figure.Figure at 0x1c8540a5128>"
      ]
     },
     "metadata": {},
     "output_type": "display_data"
    }
   ],
   "source": [
    "## convert each to percantage var from the mean\n",
    "p_npl_perc = [100*(1-i/np.mean(res_p_npl)) for i in res_p_npl]\n",
    "p_npl_op_perc = [100*(1-i/np.mean(res_p_npl_op)) for i in res_p_npl_op]\n",
    "hn_npl_perc = [100*(1-i/np.mean(res_hn_npl)) for i in res_hn_npl]\n",
    "hn_npl_op_perc = [100*(1-i/np.mean(res_hn_npl_op)) for i in res_hn_npl_op]\n",
    "\n",
    "## there is n (1000) results within each set of saved data\n",
    "## want boxplots of each...?\n",
    "\n",
    "npl_data = [p_npl_perc,hn_npl_perc]\n",
    "npl_op_data = [p_npl_op_perc,hn_npl_op_perc]\n",
    "\n",
    "## combined plot - uses ax. so can get auto legend from colour of boxplots\n",
    "fig, ax = plt.subplots()\n",
    "\n",
    "offset = 0.2\n",
    "width = 0.3\n",
    "## left\n",
    "bp1 = ax.boxplot(npl_data,vert=True,widths=width,whis=[5,95],sym='',showmeans=False,\n",
    "            positions=[1-offset,2-offset], patch_artist=True,boxprops={'facecolor':'white','alpha':1})\n",
    "## right\n",
    "bp2 = ax.boxplot(npl_op_data,vert=True,widths=width,whis=[5,95],sym='',showmeans=False,\n",
    "           positions=[1+offset,2+offset], patch_artist=True,boxprops={'facecolor':'#E6E6E6','alpha':1,'edgecolor':'black'})\n",
    "plt.xticks([1,2],['Prostate', 'Head and neck'])\n",
    "plt.xlim(0.5,2.5)\n",
    "\n",
    "ax.legend([bp1[\"boxes\"][0], bp2[\"boxes\"][0]], ['Cal. uncertainty only \\n(SD = 0.7%)', 'Cal. and OP uncertainty \\n(SD = 1.0%)'])\n",
    "plt.legend()\n",
    "\n",
    "plt.axhline(0,color='black',lw=1,ls='-')\n",
    "plt.ylim(-15,15)\n",
    "\n",
    "#ax.set_ylim(0.5,2.5)\n",
    "ax.set_ylabel('Change in TCP (%)')\n",
    "ax.set_xlabel('Clinical case')\n",
    "plt.title('Variation TCP due to calibration and beam output variations')\n",
    "\n",
    "## add text with the SDs of each onto the plot\n",
    "sd_vals = []\n",
    "\n",
    "for i in [npl_data,npl_op_data]:\n",
    "    for j in i:\n",
    "        print(np.std(j))\n",
    "        sd_vals.append(np.std(j))\n",
    "        \n",
    "text_x = [0.8,1.8,1.2,2.2] ## manually set\n",
    "\n",
    "for i in range(len(text_x)):\n",
    "    plt.text(text_x[i],-14,'SD='+str(round(sd_vals[i],1))+'%',horizontalalignment='center')\n",
    "\n",
    "\n",
    "#plt.savefig('npl_vs_npl+op_uncertainty.png',dpi=300,bbox_inches='tight')\n",
    "plt.show()"
   ]
  },
  {
   "cell_type": "markdown",
   "metadata": {},
   "source": [
    "# Variation in TCP curve due to machine - entire TCP curve\n",
    "\n",
    "### Same as above, but save the entire TCP curve\n",
    "- base on dose due to normal distribution (apply to model as a dose shift)\n",
    "- seperate plots for prostate and H&N (p='C1',hn='C1')\n",
    "    - Only use variation from NPL+OP as more realistic clinical situation."
   ]
  },
  {
   "cell_type": "code",
   "execution_count": 343,
   "metadata": {
    "collapsed": false
   },
   "outputs": [],
   "source": [
    "## generate 1000 random dose deviaitons from normal distribution\n",
    "the_n = 1000\n",
    "the_sd = 0.8\n",
    "the_mean = 0\n",
    "dose_shifts = np.random.normal(loc=the_mean,scale=the_sd,size=the_n)\n",
    "\n",
    "## generate p + HN results for each of these dose shifts adn save the results\n",
    "\n",
    "p_res = []\n",
    "hn_res = []\n",
    "\n",
    "do_this = True\n",
    "if do_this == True:\n",
    "\n",
    "    for the_d in dose_shifts:\n",
    "\n",
    "        p_results = model.completeTCPcalc(n=1,                  # number of patients in population to model\n",
    "                                          alphabeta_use=1.5,      # mean alpha/beta\n",
    "                                          alphabeta_sd_use=0,     # SD of alpha/beta (%)\n",
    "                                          d=2,                    # nominal dose (Gy/fraction)\n",
    "                                          d_shift=the_d,          # initial dose difference (%)\n",
    "                                          d_sd=0,                 # standard deviation of delivered dose (%)\n",
    "                                          d_trend=0,              # dose drift (%/day)\n",
    "                                          max_d=100,              # maximum dose for which TCP is calcualted (Gy)\n",
    "                                          dose_of_interest=74,    # results of TCP at this dose are returned seperately for simpler analysis.\n",
    "                                          n0 = 74) \n",
    "\n",
    "\n",
    "        hn_results = model.completeTCPcalc(n=1,                  # number of patients in population to model\n",
    "                                          alphabeta_use=10,      # mean alpha/beta\n",
    "                                          alphabeta_sd_use=0,     # SD of alpha/beta (%)\n",
    "                                          d=65/30,                    # nominal dose (Gy/fraction)\n",
    "                                          d_shift=the_d,          # initial dose difference (%)\n",
    "                                          d_sd=0,                 # standard deviation of delivered dose (%)\n",
    "                                          d_trend=0,              # dose drift (%/day)\n",
    "                                          max_d=100,              # maximum dose for which TCP is calcualted (Gy)\n",
    "                                          dose_of_interest=65,    # results of TCP at this dose are returned seperately for simpler analysis.\n",
    "                                          n0 = 3000000)                # N0 as determnined through population fit\n",
    "\n",
    "        p_res.append(p_results)\n",
    "        hn_res.append(hn_results)\n"
   ]
  },
  {
   "cell_type": "code",
   "execution_count": 344,
   "metadata": {
    "collapsed": true
   },
   "outputs": [],
   "source": [
    "## Save/Load data\n",
    "\n",
    "# save:\n",
    "#save_pkl(p_res,'p_d_machine_only_var.pkl')\n",
    "#save_pkl(hn_res,'hn_d_machine_only_var.pkl')\n",
    "\n",
    "\n",
    "## load:\n",
    "#p_machine = load_pkl('p_d_machine_only_var.pkl')\n",
    "#hn_machine = load_pkl('hn_d_machine_only_var.pkl')\n",
    "\n",
    "p_machine = p_res\n",
    "hn_machine = hn_res\n"
   ]
  },
  {
   "cell_type": "code",
   "execution_count": 345,
   "metadata": {
    "collapsed": false
   },
   "outputs": [
    {
     "data": {
      "image/png": "[encoded data removed]",
      "text/plain": [
       "<matplotlib.figure.Figure at 0x1c85433b7f0>"
      ]
     },
     "metadata": {},
     "output_type": "display_data"
    }
   ],
   "source": [
    "## plot all the TCP curves\n",
    "for i in range(100):\n",
    "    plt.plot(p_machine[i]['nom_doses'],p_machine[i]['TCP_pop'],c=color_p,alpha=0.05)\n",
    "    plt.plot(hn_machine[i]['nom_doses'],hn_machine[i]['TCP_pop'],c=color_hn,alpha=0.05)\n",
    "plt.show()"
   ]
  },
  {
   "cell_type": "code",
   "execution_count": 346,
   "metadata": {
    "collapsed": false
   },
   "outputs": [
    {
     "data": {
      "image/png": "[encoded data removed]",
      "text/plain": [
       "<matplotlib.figure.Figure at 0x1c85593c358>"
      ]
     },
     "metadata": {},
     "output_type": "display_data"
    },
    {
     "name": "stdout",
     "output_type": "stream",
     "text": [
      "0.630740973357 0.687341301933\n",
      "0.599500662863 0.726852893513\n"
     ]
    }
   ],
   "source": [
    "p_tcps = [p_machine[i]['TCP_pop'] for i in range(len(p_machine))]\n",
    "p_nom_d = p_machine[0]['nom_doses']\n",
    "p_tcp_mean = np.mean(p_tcps,axis=0)\n",
    "p_tcp_5 = np.percentile(p_tcps,5,axis=0)\n",
    "p_tcp_95 = np.percentile(p_tcps,95,axis=0)\n",
    "\n",
    "hn_tcps = [hn_machine[i]['TCP_pop'] for i in range(len(hn_machine))]\n",
    "hn_nom_d = hn_machine[0]['nom_doses']\n",
    "hn_tcp_mean = np.mean(hn_tcps,axis=0)\n",
    "hn_tcp_5 = np.percentile(hn_tcps,5,axis=0)\n",
    "hn_tcp_95 = np.percentile(hn_tcps,95,axis=0)\n",
    "\n",
    "plt.plot(p_nom_d,p_tcp_mean,label='Prostate',c=color_p)\n",
    "#plt.plot(p_nom_d,p_tcp_5)\n",
    "#plt.plot(p_nom_d,p_tcp_95)\n",
    "plt.fill_between(p_nom_d,p_tcp_5,p_tcp_95,color=color_p,zorder=0,alpha=0.3)\n",
    "\n",
    "plt.plot(hn_nom_d,hn_tcp_mean,label='Head and neck',c=color_hn)\n",
    "#plt.plot(hn_nom_d,hn_tcp_5)\n",
    "#plt.plot(hn_nom_d,hn_tcp_95)\n",
    "plt.fill_between(hn_nom_d,hn_tcp_5,hn_tcp_95,color=color_hn,zorder=0,alpha=0.3)\n",
    "\n",
    "plt.xlim(40,90)\n",
    "\n",
    "plt.xlabel('Nominal dose (Gy)')\n",
    "plt.ylabel('Modelled TCP')\n",
    "plt.title('Variation in TCP based on machine assignment')\n",
    "\n",
    "## show range of interest with arrows\n",
    "## use annotate with no text as it seems easier\n",
    "plt.annotate(s='', xy=(74,p_tcp_5[36]), xytext=(74,p_tcp_95[36]),\n",
    "             arrowprops=dict(arrowstyle='<->',\n",
    "                             shrinkA=0, shrinkB=0,\n",
    "                             alpha=0.8))\n",
    "\n",
    "plt.annotate(s='', xy=(65,hn_tcp_5[29]), xytext=(65,hn_tcp_95[29]),\n",
    "             arrowprops=dict(arrowstyle='<->',\n",
    "                             shrinkA=0, shrinkB=0,\n",
    "                             alpha=0.8))\n",
    "\n",
    "plt.legend()\n",
    "\n",
    "#plt.savefig('tcp_95CI-p+hn.png',dpi=300,bbox_inches='tight')\n",
    "\n",
    "plt.show()\n",
    "\n",
    "## numerical results\n",
    "\n",
    "print(p_tcp_5[36],p_tcp_95[36])\n",
    "print(hn_tcp_5[29],hn_tcp_95[29])"
   ]
  },
  {
   "cell_type": "code",
   "execution_count": 6,
   "metadata": {
    "collapsed": false
   },
   "outputs": [
    {
     "name": "stdout",
     "output_type": "stream",
     "text": [
      "0.1\n",
      "0.2\n",
      "0.3\n",
      "0.4\n",
      "0.5\n",
      "0.6\n",
      "0.7\n",
      "0.8\n",
      "0.9\n",
      "1.0\n",
      "1.1\n",
      "1.2\n",
      "1.3\n",
      "1.4\n"
     ]
    }
   ],
   "source": [
    "## repeat the above with a number of different values for SD.\n",
    "\n",
    "test_sds = [0.1,0.2,0.3,0.4,0.5,0.6,0.7,0.8,0.9,1.0,1.1,1.2,1.3,1.4]\n",
    "\n",
    "## do the below for each of the above SDs\n",
    "\n",
    "## generate 1000 random dose deviaitons from normal distribution\n",
    "the_n = 1000\n",
    "the_sd = 0.8\n",
    "the_mean = 0\n",
    "\n",
    "sd_res = {}\n",
    "\n",
    "for the_sd in test_sds:\n",
    "    dose_shifts = np.random.normal(loc=the_mean,scale=the_sd,size=the_n)\n",
    "\n",
    "    ## generate p + HN results for each of these dose shifts adn save the results\n",
    "\n",
    "    p_res = []\n",
    "    hn_res = []\n",
    "\n",
    "    do_this = True\n",
    "    if do_this == True:\n",
    "\n",
    "        for the_d in dose_shifts:\n",
    "\n",
    "            p_results = model.completeTCPcalc(n=1,                  # number of patients in population to model\n",
    "                                              alphabeta_use=1.5,      # mean alpha/beta\n",
    "                                              alphabeta_sd_use=0,     # SD of alpha/beta (%)\n",
    "                                              d=2,                    # nominal dose (Gy/fraction)\n",
    "                                              d_shift=the_d,          # initial dose difference (%)\n",
    "                                              d_sd=0,                 # standard deviation of delivered dose (%)\n",
    "                                              d_trend=0,              # dose drift (%/day)\n",
    "                                              max_d=100,              # maximum dose for which TCP is calcualted (Gy)\n",
    "                                              dose_of_interest=74,    # results of TCP at this dose are returned seperately for simpler analysis.\n",
    "                                              n0 = 74) \n",
    "\n",
    "\n",
    "            hn_results = model.completeTCPcalc(n=1,                  # number of patients in population to model\n",
    "                                              alphabeta_use=10,      # mean alpha/beta\n",
    "                                              alphabeta_sd_use=0,     # SD of alpha/beta (%)\n",
    "                                              d=65/30,                    # nominal dose (Gy/fraction)\n",
    "                                              d_shift=the_d,          # initial dose difference (%)\n",
    "                                              d_sd=0,                 # standard deviation of delivered dose (%)\n",
    "                                              d_trend=0,              # dose drift (%/day)\n",
    "                                              max_d=100,              # maximum dose for which TCP is calcualted (Gy)\n",
    "                                              dose_of_interest=65,    # results of TCP at this dose are returned seperately for simpler analysis.\n",
    "                                              n0 = 3000000)                # N0 as determnined through population fit\n",
    "\n",
    "            p_res.append(p_results)\n",
    "            hn_res.append(hn_results)\n",
    "    \n",
    "    sd_res[the_sd] = {'p':p_res,\n",
    "                     'hn':hn_res}\n",
    "    print(the_sd)\n"
   ]
  },
  {
   "cell_type": "code",
   "execution_count": 7,
   "metadata": {
    "collapsed": true
   },
   "outputs": [],
   "source": [
    "#save_pkl(sd_res,'sd_var_results.pkl')\n",
    "sd_res = load_pkl('sd_var_results.pkl')"
   ]
  },
  {
   "cell_type": "code",
   "execution_count": 8,
   "metadata": {
    "collapsed": false
   },
   "outputs": [
    {
     "data": {
      "text/plain": [
       "66.362996077144558"
      ]
     },
     "execution_count": 8,
     "metadata": {},
     "output_type": "execute_result"
    }
   ],
   "source": [
    "sd_res[0.2]['hn'][0]['TCP_cure_percent']"
   ]
  },
  {
   "cell_type": "code",
   "execution_count": 9,
   "metadata": {
    "collapsed": false
   },
   "outputs": [
    {
     "name": "stdout",
     "output_type": "stream",
     "text": [
      "0.1 prost 0.209800407812 hn 0.473086165937\n",
      "0.2 prost 0.448153295564 hn 1.00943520992\n",
      "0.3 prost 0.702021118292 hn 1.58157434412\n",
      "0.4 prost 0.895913583137 hn 2.01741416699\n",
      "0.5 prost 1.11490891004 hn 2.51515826982\n",
      "0.6 prost 1.3197348919 hn 2.97384887937\n",
      "0.7 prost 1.49626766261 hn 3.38705824347\n",
      "0.8 prost 1.80944151739 hn 4.07443262916\n",
      "0.9 prost 2.05903399947 hn 4.65131689876\n",
      "1.0 prost 2.25051694635 hn 5.09913734425\n",
      "1.1 prost 2.47420973836 hn 5.58484154531\n",
      "1.2 prost 2.66376356809 hn 5.97690507859\n",
      "1.3 prost 2.89451733226 hn 6.53523713773\n",
      "1.4 prost 3.0374965708 hn 6.90581262507\n"
     ]
    },
    {
     "data": {
      "image/png": "[encoded data removed]",
      "text/plain": [
       "<matplotlib.figure.Figure at 0x16d18144e10>"
      ]
     },
     "metadata": {},
     "output_type": "display_data"
    }
   ],
   "source": [
    "all_sd_p = []\n",
    "all_sd_hn = []\n",
    "\n",
    "for sd in test_sds:\n",
    "    all_tcp_p = []\n",
    "    all_tcp_hn = []\n",
    "    for i in range(1000):\n",
    "        all_tcp_p.append(sd_res[sd]['p'][i]['TCP_cure_percent'])\n",
    "        all_tcp_hn.append(sd_res[sd]['hn'][i]['TCP_cure_percent'])\n",
    "    sd_p = np.std(all_tcp_p)\n",
    "    sd_hn = np.std(all_tcp_hn)\n",
    "    print(sd,'prost',sd_p,'hn',sd_hn)\n",
    "    all_sd_p.append(sd_p)\n",
    "    all_sd_hn.append(sd_hn)\n",
    "\n",
    "plt.plot(test_sds,all_sd_p,'o',label='Prostate')\n",
    "plt.plot(test_sds,all_sd_hn,'o',label='Head and neck')\n",
    "plt.legend()\n",
    "plt.xlabel('Beam calibration standard deviation (%)')\n",
    "plt.ylabel('TCP standard deviation (%)')\n",
    "plt.title('Varaition of TCP standard deviation with dose deviation')\n",
    "#plt.savefig('TCP_sd_var_with_mean_dose_var.png',dpi=300,bbox_inches='tight')\n",
    "plt.show()"
   ]
  },
  {
   "cell_type": "markdown",
   "metadata": {},
   "source": [
    "# Variation in dose due to daily variations only.\n",
    "- Vary the d_sd value from 0 to ~3%\n",
    "- The mean will stay the same, but now there will be a variation around this.\n",
    "- Use a population of 1000 patients...?\n",
    "- Plot whole TCP curve and table of stats\n"
   ]
  },
  {
   "cell_type": "code",
   "execution_count": 93,
   "metadata": {
    "collapsed": false
   },
   "outputs": [
    {
     "name": "stdout",
     "output_type": "stream",
     "text": [
      "0.0\n",
      "0.1\n",
      "0.2\n",
      "0.3\n",
      "0.4\n",
      "0.5\n",
      "0.6\n",
      "0.7\n",
      "0.8\n",
      "0.9\n",
      "1.0\n",
      "1.1\n",
      "1.2\n",
      "1.3\n",
      "1.4\n",
      "1.5\n",
      "1.6\n",
      "1.7\n",
      "1.8\n",
      "1.9\n",
      "2.0\n"
     ]
    }
   ],
   "source": [
    "d_sds = [0,0.1,0.2,0.3,0.4,0.5,0.6,0.7,0.8,0.9,1.0] ## check range required.\n",
    "d_sds = np.linspace(start = 0,stop = 2,num = 21,endpoint=True)\n",
    "\n",
    "p_sd_res = {}\n",
    "hn_sd_res = {}\n",
    "\n",
    "for the_d in d_sds:\n",
    "\n",
    "    p_results = model.completeTCPcalc(n=1000,                  # number of patients in population to model\n",
    "                                      alphabeta_use=1.5,      # mean alpha/beta\n",
    "                                      alphabeta_sd_use=0,     # SD of alpha/beta (%)\n",
    "                                      d=2,                    # nominal dose (Gy/fraction)\n",
    "                                      d_shift=0,          # initial dose difference (%)\n",
    "                                      d_sd=the_d,                 # standard deviation of delivered dose (%)\n",
    "                                      d_trend=0,              # dose drift (%/day)\n",
    "                                      max_d=100,              # maximum dose for which TCP is calcualted (Gy)\n",
    "                                      dose_of_interest=74,    # results of TCP at this dose are returned seperately for simpler analysis.\n",
    "                                      n0 = 74) \n",
    "\n",
    "\n",
    "    hn_results = model.completeTCPcalc(n=1000,                  # number of patients in population to model\n",
    "                                      alphabeta_use=10,      # mean alpha/beta\n",
    "                                      alphabeta_sd_use=0,     # SD of alpha/beta (%)\n",
    "                                      d=65/30,                    # nominal dose (Gy/fraction)\n",
    "                                      d_shift=0,          # initial dose difference (%)\n",
    "                                      d_sd=the_d,                 # standard deviation of delivered dose (%)\n",
    "                                      d_trend=0,              # dose drift (%/day)\n",
    "                                      max_d=100,              # maximum dose for which TCP is calcualted (Gy)\n",
    "                                      dose_of_interest=65,    # results of TCP at this dose are returned seperately for simpler analysis.\n",
    "                                      n0 = 3000000)                # N0 as determnined through population fit\n",
    "\n",
    "    p_sd_res[the_d] = p_results\n",
    "    hn_sd_res[the_d] = hn_results\n",
    "    print(the_d)"
   ]
  },
  {
   "cell_type": "code",
   "execution_count": 95,
   "metadata": {
    "collapsed": true
   },
   "outputs": [],
   "source": [
    "#save_pkl(p_sd_res,'daily_dose_sd_var_p.pkl')\n",
    "#save_pkl(hn_sd_res,'daily_dose_sd_var_hn.pkl')\n",
    "p_sd_res = load_pkl('daily_dose_sd_var_p.pkl')\n",
    "hn_sd_res = load_pkl('daily_dose_sd_var_hn.pkl')"
   ]
  },
  {
   "cell_type": "code",
   "execution_count": 126,
   "metadata": {
    "collapsed": false,
    "scrolled": true
   },
   "outputs": [
    {
     "name": "stdout",
     "output_type": "stream",
     "text": [
      "sd: 0.0 p: 0.0 hn: 0.0\n",
      "sd: 0.1 p: 0.06 hn: 0.14\n",
      "sd: 0.2 p: 0.11 hn: 0.28\n",
      "sd: 0.3 p: 0.16 hn: 0.39\n",
      "sd: 0.4 p: 0.22 hn: 0.56\n",
      "sd: 0.5 p: 0.28 hn: 0.7\n",
      "sd: 0.6 p: 0.34 hn: 0.83\n",
      "sd: 0.7 p: 0.4 hn: 0.99\n",
      "sd: 0.8 p: 0.45 hn: 1.07\n",
      "sd: 0.9 p: 0.48 hn: 1.28\n",
      "sd: 1.0 p: 0.56 hn: 1.36\n",
      "sd: 1.1 p: 0.61 hn: 1.48\n",
      "sd: 1.2 p: 0.68 hn: 1.63\n",
      "sd: 1.3 p: 0.73 hn: 1.81\n",
      "sd: 1.4 p: 0.78 hn: 1.97\n",
      "sd: 1.5 p: 0.83 hn: 2.06\n",
      "sd: 1.6 p: 0.9 hn: 2.15\n",
      "sd: 1.7 p: 0.96 hn: 2.36\n",
      "sd: 1.8 p: 0.96 hn: 2.55\n",
      "sd: 1.9 p: 1.05 hn: 2.69\n",
      "sd: 2.0 p: 1.14 hn: 2.81\n"
     ]
    },
    {
     "data": {
      "image/png": "[encoded data removed]",
      "text/plain": [
       "<matplotlib.figure.Figure at 0x2048c07fe48>"
      ]
     },
     "metadata": {},
     "output_type": "display_data"
    }
   ],
   "source": [
    "## now need to get teh SD of teh TCP at the required dose ([36] or [29])\n",
    "\n",
    "the_sds = list(p_sd_res.keys())\n",
    "\n",
    "all_sd_perc = {}\n",
    "\n",
    "\n",
    "for the_sd in the_sds:\n",
    "\n",
    "    ## get array of all TCP vals and use numpy to get sd from column\n",
    "    p_tcp_vals = p_sd_res[the_sd]['TCPs']\n",
    "    hn_tcp_vals = hn_sd_res[the_sd]['TCPs']\n",
    "\n",
    "    p_tcp_sd = np.std(p_tcp_vals,axis=0) ## absolute SD\n",
    "    hn_tcp_sd = np.std(hn_tcp_vals,axis=0) ## absolute SD\n",
    "\n",
    "    p_tcp_mean = np.mean(p_tcp_vals,axis=0)\n",
    "    hn_tcp_mean = np.mean(hn_tcp_vals,axis=0)\n",
    "\n",
    "    ## convert to percentage\n",
    "    p_tcp_sd_perc = 100*p_tcp_sd/p_tcp_mean\n",
    "    hn_tcp_sd_perc = 100*hn_tcp_sd/hn_tcp_mean\n",
    "    \n",
    "    ## store the data at dose of interest\n",
    "    all_sd_perc[the_sd] = {'p':p_tcp_sd_perc[36],\n",
    "                          'hn':hn_tcp_sd_perc[29]}\n",
    "\n",
    "\n",
    "## create plot of TCP sds vs dose sds\n",
    "p_sds = []\n",
    "hn_sds = []\n",
    "plot_sds = []\n",
    "\n",
    "for i in sorted(all_sd_perc):\n",
    "    plot_sds.append(i)\n",
    "    p_sds.append(all_sd_perc[i]['p'])\n",
    "    hn_sds.append(all_sd_perc[i]['hn'])\n",
    "    print('sd:',i,'p:',round(all_sd_perc[i]['p'],2),'hn:',round(all_sd_perc[i]['hn'],2))\n",
    "    \n",
    "plt.plot(plot_sds,p_sds,'o',color=color_p,label='Prostate',ms=4)\n",
    "plt.plot(plot_sds,hn_sds,'o',color=color_hn,label='Head and neck',ms=4)\n",
    "\n",
    "plt.title('Variation of TCP with daily dose variations')\n",
    "plt.xlabel('Daily dose standard deviation (%)')\n",
    "plt.ylabel('TCP standard deviation (%)')\n",
    "\n",
    "plt.xticks([0,0.5,1,1.5,2])\n",
    "plt.yticks([0,1,2,3])\n",
    "plt.ylim(-0.1,3.1)\n",
    "\n",
    "## shading\n",
    "\n",
    "plt.axvspan(-1,0.7,alpha=1,color='#dfdfdf',zorder=0,label='Clinically measured 95% CI \\n(Farmer chamber)')\n",
    "plt.axvspan(-1,0.2,alpha=1,color='#cccccc',zorder=0,label='Clinically measured SD \\n(Farmer chamber)')\n",
    "plt.xlim(-0.1,2.1)\n",
    "\n",
    "leg = plt.legend(loc='upper left')\n",
    "leg.get_frame().set_alpha(1)\n",
    "\n",
    "#plt.savefig('TCP_var_with_daily_sd_var.png',dpi=300,bbox_inches='tight')\n",
    "plt.show()\n"
   ]
  },
  {
   "cell_type": "code",
   "execution_count": null,
   "metadata": {
    "collapsed": true
   },
   "outputs": [],
   "source": []
  }
 ],
 "metadata": {
  "anaconda-cloud": {},
  "kernelspec": {
   "display_name": "Python [Root]",
   "language": "python",
   "name": "Python [Root]"
  },
  "language_info": {
   "codemirror_mode": {
    "name": "ipython",
    "version": 3
   },
   "file_extension": ".py",
   "mimetype": "text/x-python",
   "name": "python",
   "nbconvert_exporter": "python",
   "pygments_lexer": "ipython3",
   "version": "3.5.1"
  }
 },
 "nbformat": 4,
 "nbformat_minor": 1
}
