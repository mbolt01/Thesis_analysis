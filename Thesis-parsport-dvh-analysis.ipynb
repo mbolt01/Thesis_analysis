{
 "cells": [
  {
   "cell_type": "code",
   "execution_count": 23,
   "metadata": {
    "collapsed": true
   },
   "outputs": [],
   "source": [
    "import pandas as pd\n",
    "import numpy as np\n",
    "from scipy import stats\n",
    "import matplotlib.pyplot as plt\n",
    "%matplotlib inline\n",
    "\n",
    "mystyle = r'https://gist.githubusercontent.com/mbolt01/3087dffd11e70eccb08fdcf327374a5c/raw/std_fig'\n",
    "plt.style.use(mystyle)"
   ]
  },
  {
   "cell_type": "code",
   "execution_count": 24,
   "metadata": {
    "collapsed": false
   },
   "outputs": [
    {
     "name": "stdout",
     "output_type": "stream",
     "text": [
      "using merged file\n",
      "2495\n"
     ]
    },
    {
     "data": {
      "text/html": [
       "<div>\n",
       "<style>\n",
       "    .dataframe thead tr:only-child th {\n",
       "        text-align: right;\n",
       "    }\n",
       "\n",
       "    .dataframe thead th {\n",
       "        text-align: left;\n",
       "    }\n",
       "\n",
       "    .dataframe tbody tr th {\n",
       "        vertical-align: top;\n",
       "    }\n",
       "</style>\n",
       "<table border=\"1\" class=\"dataframe\">\n",
       "  <thead>\n",
       "    <tr style=\"text-align: right;\">\n",
       "      <th></th>\n",
       "      <th>sub_dir</th>\n",
       "      <th>patient_id</th>\n",
       "      <th>plan_name</th>\n",
       "      <th>struct_label</th>\n",
       "      <th>structure</th>\n",
       "      <th>v107</th>\n",
       "      <th>v103</th>\n",
       "      <th>d5cc</th>\n",
       "      <th>v99</th>\n",
       "      <th>v105</th>\n",
       "      <th>...</th>\n",
       "      <th>d99_val</th>\n",
       "      <th>d99_unit</th>\n",
       "      <th>d0.1cc_val</th>\n",
       "      <th>d0.1cc_unit</th>\n",
       "      <th>d2cc_val</th>\n",
       "      <th>d2cc_unit</th>\n",
       "      <th>id</th>\n",
       "      <th>Type</th>\n",
       "      <th>Side</th>\n",
       "      <th>side_full</th>\n",
       "    </tr>\n",
       "  </thead>\n",
       "  <tbody>\n",
       "    <tr>\n",
       "      <th>0</th>\n",
       "      <td>1001.0</td>\n",
       "      <td>1001.0</td>\n",
       "      <td>summed all phase</td>\n",
       "      <td>NaN</td>\n",
       "      <td>cl_deep_lparotid</td>\n",
       "      <td>(0.0, 'cm3')</td>\n",
       "      <td>(0.0, 'cm3')</td>\n",
       "      <td>(0.0, 'Gy')</td>\n",
       "      <td>(0.0, 'cm3')</td>\n",
       "      <td>(0.0, 'cm3')</td>\n",
       "      <td>...</td>\n",
       "      <td>46.7</td>\n",
       "      <td>Gy</td>\n",
       "      <td>59.9</td>\n",
       "      <td>Gy</td>\n",
       "      <td>51.3</td>\n",
       "      <td>Gy</td>\n",
       "      <td>1001</td>\n",
       "      <td>Conformal</td>\n",
       "      <td>r</td>\n",
       "      <td>right</td>\n",
       "    </tr>\n",
       "    <tr>\n",
       "      <th>1</th>\n",
       "      <td>1001.0</td>\n",
       "      <td>1001.0</td>\n",
       "      <td>summed all phase</td>\n",
       "      <td>NaN</td>\n",
       "      <td>cl_lparotid</td>\n",
       "      <td>(0.0, 'cm3')</td>\n",
       "      <td>(0.0, 'cm3')</td>\n",
       "      <td>(50.5, 'Gy')</td>\n",
       "      <td>(0.0, 'cm3')</td>\n",
       "      <td>(0.0, 'cm3')</td>\n",
       "      <td>...</td>\n",
       "      <td>15.9</td>\n",
       "      <td>Gy</td>\n",
       "      <td>58.9</td>\n",
       "      <td>Gy</td>\n",
       "      <td>52.4</td>\n",
       "      <td>Gy</td>\n",
       "      <td>1001</td>\n",
       "      <td>Conformal</td>\n",
       "      <td>r</td>\n",
       "      <td>right</td>\n",
       "    </tr>\n",
       "    <tr>\n",
       "      <th>2</th>\n",
       "      <td>1001.0</td>\n",
       "      <td>1001.0</td>\n",
       "      <td>summed all phase</td>\n",
       "      <td>NaN</td>\n",
       "      <td>cl_submandibular</td>\n",
       "      <td>(0.0, 'cm3')</td>\n",
       "      <td>(4.375, 'cm3')</td>\n",
       "      <td>(66.400000000000006, 'Gy')</td>\n",
       "      <td>(5.40625, 'cm3')</td>\n",
       "      <td>(1.96875, 'cm3')</td>\n",
       "      <td>...</td>\n",
       "      <td>63.1</td>\n",
       "      <td>Gy</td>\n",
       "      <td>69.4</td>\n",
       "      <td>Gy</td>\n",
       "      <td>68.2</td>\n",
       "      <td>Gy</td>\n",
       "      <td>1001</td>\n",
       "      <td>Conformal</td>\n",
       "      <td>r</td>\n",
       "      <td>right</td>\n",
       "    </tr>\n",
       "  </tbody>\n",
       "</table>\n",
       "<p>3 rows × 84 columns</p>\n",
       "</div>"
      ],
      "text/plain": [
       "   sub_dir  patient_id         plan_name struct_label         structure  \\\n",
       "0   1001.0      1001.0  summed all phase          NaN  cl_deep_lparotid   \n",
       "1   1001.0      1001.0  summed all phase          NaN       cl_lparotid   \n",
       "2   1001.0      1001.0  summed all phase          NaN  cl_submandibular   \n",
       "\n",
       "           v107            v103                        d5cc               v99  \\\n",
       "0  (0.0, 'cm3')    (0.0, 'cm3')                 (0.0, 'Gy')      (0.0, 'cm3')   \n",
       "1  (0.0, 'cm3')    (0.0, 'cm3')                (50.5, 'Gy')      (0.0, 'cm3')   \n",
       "2  (0.0, 'cm3')  (4.375, 'cm3')  (66.400000000000006, 'Gy')  (5.40625, 'cm3')   \n",
       "\n",
       "               v105    ...    d99_val d99_unit d0.1cc_val d0.1cc_unit  \\\n",
       "0      (0.0, 'cm3')    ...       46.7       Gy       59.9          Gy   \n",
       "1      (0.0, 'cm3')    ...       15.9       Gy       58.9          Gy   \n",
       "2  (1.96875, 'cm3')    ...       63.1       Gy       69.4          Gy   \n",
       "\n",
       "  d2cc_val d2cc_unit    id       Type Side side_full  \n",
       "0     51.3        Gy  1001  Conformal    r     right  \n",
       "1     52.4        Gy  1001  Conformal    r     right  \n",
       "2     68.2        Gy  1001  Conformal    r     right  \n",
       "\n",
       "[3 rows x 84 columns]"
      ]
     },
     "execution_count": 24,
     "metadata": {},
     "output_type": "execute_result"
    }
   ],
   "source": [
    "## this is not needed as data now saved as a .pkl and csv after merge.\n",
    "needed = False\n",
    "if needed == True:\n",
    "    ## import dose data\n",
    "    #df = pd.read_csv(r'results-20170626-1017.csv',index_col=0)\n",
    "    df = pd.read_csv(r'results-20180204-2124.csv',index_col=0) ##  this was a recheck of the results. All matches.\n",
    "    df.head(3)\n",
    "\n",
    "    ## import treatment type info.\n",
    "    df_info = pd.read_excel(r'Treatment_side.xlsx',parse_cols=3)\n",
    "    df_info.head(3)\n",
    "\n",
    "    ## merge them...\n",
    "    df = df.merge(df_info,left_on='patient_id', right_on='id', how='outer')\n",
    "\n",
    "    ## save merged data\n",
    "    #df.to_pickle('parsport_dose_data.pkl')\n",
    "    #df.to_csv('parsport_dose_data.csv')\n",
    "else:\n",
    "    print('using merged file')\n",
    "    #df = pd.read_csv(r'parsport_dose_data.csv',index_col=0)\n",
    "    #df = pd.read_pickle(r'parsport_dose_data.pkl')\n",
    "    \n",
    "    \n",
    "print(len(df))\n",
    "df.head(3)"
   ]
  },
  {
   "cell_type": "code",
   "execution_count": 25,
   "metadata": {
    "collapsed": false
   },
   "outputs": [
    {
     "data": {
      "text/plain": [
       "Index(['sub_dir', 'patient_id', 'plan_name', 'struct_label', 'structure',\n",
       "       'v107', 'v103', 'd5cc', 'v99', 'v105', 'min', 'd0.2cc', 'd0.5cc', 'v93',\n",
       "       'v98', 'd90', 'max', 'd95', 'd100', 'v95', 'mean', 'd1cc', 'median',\n",
       "       'v100', 'v90', 'd98', 'volume', 'd99', 'd0.1cc', 'd2cc', 'v107_val',\n",
       "       'v107_unit', 'v103_val', 'v103_unit', 'd5cc_val', 'd5cc_unit',\n",
       "       'v99_val', 'v99_unit', 'v105_val', 'v105_unit', 'min_val', 'min_unit',\n",
       "       'd0.2cc_val', 'd0.2cc_unit', 'd0.5cc_val', 'd0.5cc_unit', 'v93_val',\n",
       "       'v93_unit', 'v98_val', 'v98_unit', 'd90_val', 'd90_unit', 'max_val',\n",
       "       'max_unit', 'd95_val', 'd95_unit', 'd100_val', 'd100_unit', 'v95_val',\n",
       "       'v95_unit', 'mean_val', 'mean_unit', 'd1cc_val', 'd1cc_unit',\n",
       "       'median_val', 'median_unit', 'v100_val', 'v100_unit', 'v90_val',\n",
       "       'v90_unit', 'd98_val', 'd98_unit', 'volume_val', 'volume_unit',\n",
       "       'd99_val', 'd99_unit', 'd0.1cc_val', 'd0.1cc_unit', 'd2cc_val',\n",
       "       'd2cc_unit', 'id', 'Type', 'Side', 'side_full'],\n",
       "      dtype='object')"
      ]
     },
     "execution_count": 25,
     "metadata": {},
     "output_type": "execute_result"
    }
   ],
   "source": [
    "df.columns"
   ]
  },
  {
   "cell_type": "code",
   "execution_count": 26,
   "metadata": {
    "collapsed": false
   },
   "outputs": [
    {
     "name": "stdout",
     "output_type": "stream",
     "text": [
      "nan\n",
      "cord\n",
      "l_parotid\n",
      "pharynx\n",
      "ptv1\n",
      "ptv2\n",
      "ptv3\n",
      "r_parotid\n"
     ]
    }
   ],
   "source": [
    "## show structures:\n",
    "for structure in df['struct_label'].unique():\n",
    "    print(structure)"
   ]
  },
  {
   "cell_type": "code",
   "execution_count": 27,
   "metadata": {
    "collapsed": false
   },
   "outputs": [
    {
     "name": "stderr",
     "output_type": "stream",
     "text": [
      "C:\\Users\\mb22\\AppData\\Local\\Continuum\\Anaconda3\\lib\\site-packages\\matplotlib\\axes\\_axes.py:545: UserWarning: No labelled objects found. Use label='...' kwarg on individual plots.\n",
      "  warnings.warn(\"No labelled objects found. \"\n"
     ]
    },
    {
     "data": {
      "image/png": "[encoded data removed]",
      "text/plain": [
       "<matplotlib.figure.Figure at 0xce1bc50>"
      ]
     },
     "metadata": {},
     "output_type": "display_data"
    },
    {
     "data": {
      "image/png": "[encoded data removed]",
      "text/plain": [
       "<matplotlib.figure.Figure at 0xcf7dc90>"
      ]
     },
     "metadata": {},
     "output_type": "display_data"
    },
    {
     "data": {
      "image/png": "[encoded data removed]",
      "text/plain": [
       "<matplotlib.figure.Figure at 0xcaf24b0>"
      ]
     },
     "metadata": {},
     "output_type": "display_data"
    },
    {
     "data": {
      "image/png": "[encoded data removed]",
      "text/plain": [
       "<matplotlib.figure.Figure at 0xcde9510>"
      ]
     },
     "metadata": {},
     "output_type": "display_data"
    },
    {
     "data": {
      "image/png": "[encoded data removed]",
      "text/plain": [
       "<matplotlib.figure.Figure at 0xcacd370>"
      ]
     },
     "metadata": {},
     "output_type": "display_data"
    },
    {
     "data": {
      "image/png": "[encoded data removed]",
      "text/plain": [
       "<matplotlib.figure.Figure at 0xccf30d0>"
      ]
     },
     "metadata": {},
     "output_type": "display_data"
    },
    {
     "data": {
      "image/png": "[encoded data removed]",
      "text/plain": [
       "<matplotlib.figure.Figure at 0xccffe90>"
      ]
     },
     "metadata": {},
     "output_type": "display_data"
    }
   ],
   "source": [
    "## plot of PTV1 mean SDs for imrt and conformal:\n",
    "\n",
    "my_structs = ['ptv1','l_parotid']\n",
    "my_structs = sorted(df['struct_label'].dropna().unique())\n",
    "my_param = 'mean'\n",
    "\n",
    "## auto create the correct lookup from the above specification\n",
    "my_val = my_param + '_val'\n",
    "\n",
    "## dict for formatted titles/structure names\n",
    "\n",
    "struct_names = {'cord':'Spinal cord',\n",
    "               'l_parotid':'Left parotid',\n",
    "               'r_parotid':'Right parotid',\n",
    "               'pharynx':'Pharynx',\n",
    "               'ptv1':'PTV1',\n",
    "               'ptv2':'PTV2',\n",
    "               'ptv3':'PTV3'}\n",
    "\n",
    "all_sds = {}\n",
    "\n",
    "## box plots for each structure\n",
    "for my_struct in my_structs:\n",
    "\n",
    "    #data = df[df['struct_label']==my_struct] ## get the required rows\n",
    "\n",
    "    imrt = sorted(df[(df['struct_label']==my_struct) & (df['Type']=='IMRT')][my_val].dropna().tolist())[1:-1]\n",
    "    conf = sorted(df[(df['struct_label']==my_struct) & (df['Type']=='Conformal')][my_val].dropna().tolist())[1:-1]\n",
    "    \n",
    "    imrt_sd = np.std(imrt)\n",
    "    conf_sd = np.std(conf)\n",
    "    \n",
    "    ## save each SD\n",
    "    all_sds[my_struct] = {'imrt':imrt_sd,\n",
    "                         'conf':conf_sd}\n",
    "\n",
    "    plt.figure(figsize = (8,2))\n",
    "    plt.boxplot([imrt,conf],labels=['IMRT', ' Conformal'],vert=False,widths=0.8)\n",
    "    #plt.xlim(60,70)\n",
    "    plt.legend()\n",
    "    plt.title(struct_names[my_struct])\n",
    "    plt.xlabel('Dose (Gy)')\n",
    "    #plt.savefig('boxplot-' + my_struct + '-mean.png', dpi=300, bbox_inches='tight')\n",
    "    plt.show()"
   ]
  },
  {
   "cell_type": "code",
   "execution_count": 28,
   "metadata": {
    "collapsed": false
   },
   "outputs": [
    {
     "name": "stdout",
     "output_type": "stream",
     "text": [
      "Ttest_indResult(statistic=-8.007003822201705, pvalue=2.1280850252632345e-11)\n"
     ]
    },
    {
     "name": "stderr",
     "output_type": "stream",
     "text": [
      "C:\\Users\\mb22\\AppData\\Local\\Continuum\\Anaconda3\\lib\\site-packages\\matplotlib\\axes\\_axes.py:545: UserWarning: No labelled objects found. Use label='...' kwarg on individual plots.\n",
      "  warnings.warn(\"No labelled objects found. \"\n"
     ]
    },
    {
     "data": {
      "image/png": "[encoded data removed]",
      "text/plain": [
       "<matplotlib.figure.Figure at 0x4c80690>"
      ]
     },
     "metadata": {},
     "output_type": "display_data"
    },
    {
     "name": "stdout",
     "output_type": "stream",
     "text": [
      "Ttest_indResult(statistic=-7.6840704693457536, pvalue=8.2100939660335555e-11)\n"
     ]
    },
    {
     "data": {
      "image/png": "[encoded data removed]",
      "text/plain": [
       "<matplotlib.figure.Figure at 0x4c90630>"
      ]
     },
     "metadata": {},
     "output_type": "display_data"
    },
    {
     "data": {
      "image/png": "[encoded data removed]",
      "text/plain": [
       "<matplotlib.figure.Figure at 0x4ce36f0>"
      ]
     },
     "metadata": {},
     "output_type": "display_data"
    }
   ],
   "source": [
    "## produce a plto of l/r parotid on the same graph for thesis.\n",
    "## ideally shade in the IMRT plot to differentiate it\n",
    "\n",
    "both = []\n",
    "\n",
    "for my_struct in ['l_parotid','r_parotid']:\n",
    "\n",
    "    #data = df[df['struct_label']==my_struct] ## get the required rows\n",
    "\n",
    "    imrt = sorted(df[(df['struct_label']==my_struct) & (df['Type']=='IMRT')][my_val].dropna().tolist())#[1:-1]\n",
    "    conf = sorted(df[(df['struct_label']==my_struct) & (df['Type']=='Conformal')][my_val].dropna().tolist())#[1:-1]\n",
    "    \n",
    "    imrt_sd = np.std(imrt)\n",
    "    conf_sd = np.std(conf)\n",
    "    \n",
    "    ## save each SD\n",
    "    all_sds[my_struct] = {'imrt':imrt_sd,\n",
    "                         'conf':conf_sd}\n",
    "    \n",
    "    print(stats.ttest_ind(imrt,conf))\n",
    "    \n",
    "    both.append([imrt,conf])\n",
    "\n",
    "    plt.figure(figsize = (8,2))\n",
    "    plt.boxplot([imrt,conf],labels=['IMRT', ' Conformal'],vert=False,widths=0.8,whis=[5,95],sym='',showmeans=True)\n",
    "    plt.xlim(20,70)\n",
    "    plt.legend()\n",
    "    plt.title(struct_names[my_struct])\n",
    "    plt.xlabel('Dose (Gy)')\n",
    "    #plt.savefig('boxplot-' + my_struct + '-mean.png', dpi=300, bbox_inches='tight')\n",
    "    plt.show()\n",
    "\n",
    "    \n",
    "## combined plot - uses ax. so can get auto legend from colour of boxplots\n",
    "fig, ax = plt.subplots(figsize=(8, 4))\n",
    "\n",
    "offset = 0.2\n",
    "width = 0.3\n",
    "## left\n",
    "bp1 = ax.boxplot(both[0],labels=['IMRT', ' Conformal'],vert=False,widths=width,whis=[5,95],sym='',showmeans=True,\n",
    "            positions=[1+offset,2+offset], patch_artist=True,boxprops={'facecolor':'white'})\n",
    "## right\n",
    "bp2 = ax.boxplot(both[1],labels=['IMRT', ' Conformal'],vert=False,widths=width,whis=[5,95],sym='',showmeans=True,\n",
    "           positions=[1-offset,2-offset], patch_artist=True,boxprops={'facecolor':'#E6E6E6','alpha':1,'edgecolor':'black'})\n",
    "ax.set_xlim(10,70)\n",
    "ax.set_yticks([1,2],['IMRT', ' Conformal'])\n",
    "ax.set_ylim(0.5,2.5)\n",
    "ax.set_ylabel('Planning technique')\n",
    "ax.set_xlabel('Mean dose (Gy)')\n",
    "plt.title('Variation in mean doses to parotid glands')\n",
    "\n",
    "\n",
    "\n",
    "## add legend key... need to add shaded box?\n",
    "ax.legend([bp1[\"boxes\"][0], bp2[\"boxes\"][0]], ['Left parotid', 'Right parotid'])\n",
    "\n",
    "\n",
    "plt.legend()\n",
    "\n",
    "#plt.savefig('parotid_mean_doses.png',dpi=300,bbox_inches='tight')\n",
    "plt.show()\n",
    "\n",
    "## the left and right are remarkably similar!!"
   ]
  },
  {
   "cell_type": "code",
   "execution_count": 63,
   "metadata": {
    "collapsed": false
   },
   "outputs": [
    {
     "data": {
      "image/png": "[encoded data removed]",
      "text/plain": [
       "<matplotlib.figure.Figure at 0x4cfc2d0>"
      ]
     },
     "metadata": {},
     "output_type": "display_data"
    },
    {
     "name": "stdout",
     "output_type": "stream",
     "text": [
      "imrt-left NormaltestResult(statistic=7.7726855611014241, pvalue=0.020520256052801656)\n",
      "imrt-right NormaltestResult(statistic=7.2651990269481255, pvalue=0.026447344743826127)\n",
      "conf-left NormaltestResult(statistic=58.819738499017397, pvalue=1.6883250780473734e-13)\n",
      "conf-right NormaltestResult(statistic=51.174928552904021, pvalue=7.7180121663646405e-12)\n"
     ]
    }
   ],
   "source": [
    "## check if parotid doses are 'normal'\n",
    "## Probably skewed in some way...\n",
    "\n",
    "plt.hist(both[0][0],alpha=0.5,label='imrt-left',range=(0,70),bins=20,edgecolor='white')\n",
    "plt.hist(both[1][0],alpha=0.5,label='imrt-right',range=(0,70),bins=20,edgecolor='white')\n",
    "plt.hist(both[0][1],alpha=0.5,label='conf-left',range=(0,70),bins=20,edgecolor='white')\n",
    "plt.hist(both[1][1],alpha=0.5,label='conf-right',range=(0,70),bins=20,edgecolor='white')\n",
    "plt.legend()\n",
    "plt.show()\n",
    "\n",
    "print('imrt-left',stats.normaltest(both[0][0]))\n",
    "print('imrt-right',stats.normaltest(both[1][0]))\n",
    "print('conf-left',stats.normaltest(both[0][1]))\n",
    "print('conf-right',stats.normaltest(both[1][1]))\n",
    "\n",
    "## all are seen to be normally distributed, and so the Bartlett test is ok to use when comparing SDs."
   ]
  },
  {
   "cell_type": "code",
   "execution_count": 106,
   "metadata": {
    "collapsed": false
   },
   "outputs": [
    {
     "data": {
      "image/png": "[encoded data removed]",
      "text/plain": [
       "<matplotlib.figure.Figure at 0x4cd66d0>"
      ]
     },
     "metadata": {},
     "output_type": "display_data"
    },
    {
     "name": "stdout",
     "output_type": "stream",
     "text": [
      "BartlettResult(statistic=94.609734973563562, pvalue=2.3187517928071163e-22)\n",
      "LeveneResult(statistic=29.383027133159782, pvalue=6.7558695319224094e-07)\n"
     ]
    },
    {
     "data": {
      "image/png": "[encoded data removed]",
      "text/plain": [
       "<matplotlib.figure.Figure at 0xcd38f10>"
      ]
     },
     "metadata": {},
     "output_type": "display_data"
    },
    {
     "name": "stdout",
     "output_type": "stream",
     "text": [
      "BartlettResult(statistic=107.32824809740841, pvalue=3.7721926478787313e-25)\n",
      "LeveneResult(statistic=20.991858414298338, pvalue=1.7748114262001729e-05)\n"
     ]
    },
    {
     "data": {
      "image/png": "[encoded data removed]",
      "text/plain": [
       "<matplotlib.figure.Figure at 0x4c93c30>"
      ]
     },
     "metadata": {},
     "output_type": "display_data"
    },
    {
     "name": "stdout",
     "output_type": "stream",
     "text": [
      "BartlettResult(statistic=11.324853810524406, pvalue=0.000764765476841425)\n",
      "LeveneResult(statistic=2.637437758155591, pvalue=0.10851240475493297)\n"
     ]
    },
    {
     "data": {
      "image/png": "[encoded data removed]",
      "text/plain": [
       "<matplotlib.figure.Figure at 0xca7d290>"
      ]
     },
     "metadata": {},
     "output_type": "display_data"
    },
    {
     "name": "stdout",
     "output_type": "stream",
     "text": [
      "BartlettResult(statistic=1.2305545187727345, pvalue=0.26729922447928528)\n",
      "LeveneResult(statistic=2.094151749188593, pvalue=0.15197603896185116)\n"
     ]
    },
    {
     "data": {
      "image/png": "[encoded data removed]",
      "text/plain": [
       "<matplotlib.figure.Figure at 0xceb4390>"
      ]
     },
     "metadata": {},
     "output_type": "display_data"
    },
    {
     "name": "stdout",
     "output_type": "stream",
     "text": [
      "BartlettResult(statistic=1.0358042498309517, pvalue=0.30879930416205481)\n",
      "LeveneResult(statistic=2.3746428841020264, pvalue=0.1274734273687885)\n"
     ]
    },
    {
     "data": {
      "image/png": "[encoded data removed]",
      "text/plain": [
       "<matplotlib.figure.Figure at 0xcacda30>"
      ]
     },
     "metadata": {},
     "output_type": "display_data"
    },
    {
     "name": "stdout",
     "output_type": "stream",
     "text": [
      "BartlettResult(statistic=44.255300838331848, pvalue=2.8822286465773062e-11)\n",
      "LeveneResult(statistic=13.284624957793984, pvalue=0.00048718362149044166)\n"
     ]
    },
    {
     "data": {
      "image/png": "[encoded data removed]",
      "text/plain": [
       "<matplotlib.figure.Figure at 0xcf5e990>"
      ]
     },
     "metadata": {},
     "output_type": "display_data"
    },
    {
     "name": "stdout",
     "output_type": "stream",
     "text": [
      "BartlettResult(statistic=nan, pvalue=nan)\n",
      "LeveneResult(statistic=nan, pvalue=nan)\n"
     ]
    },
    {
     "name": "stderr",
     "output_type": "stream",
     "text": [
      "C:\\Users\\mb22\\AppData\\Local\\Continuum\\Anaconda3\\lib\\site-packages\\scipy\\stats\\morestats.py:1864: RuntimeWarning: divide by zero encountered in log\n",
      "  numer = (Ntot*1.0 - k) * log(spsq) - np.sum((Ni - 1.0)*log(ssq), axis=0)\n",
      "C:\\Users\\mb22\\AppData\\Local\\Continuum\\Anaconda3\\lib\\site-packages\\scipy\\stats\\morestats.py:1864: RuntimeWarning: invalid value encountered in double_scalars\n",
      "  numer = (Ntot*1.0 - k) * log(spsq) - np.sum((Ni - 1.0)*log(ssq), axis=0)\n",
      "C:\\Users\\mb22\\AppData\\Local\\Continuum\\Anaconda3\\lib\\site-packages\\scipy\\stats\\_distn_infrastructure.py:879: RuntimeWarning: invalid value encountered in greater\n",
      "  return (self.a < x) & (x < self.b)\n",
      "C:\\Users\\mb22\\AppData\\Local\\Continuum\\Anaconda3\\lib\\site-packages\\scipy\\stats\\_distn_infrastructure.py:879: RuntimeWarning: invalid value encountered in less\n",
      "  return (self.a < x) & (x < self.b)\n",
      "C:\\Users\\mb22\\AppData\\Local\\Continuum\\Anaconda3\\lib\\site-packages\\scipy\\stats\\_distn_infrastructure.py:1818: RuntimeWarning: invalid value encountered in less_equal\n",
      "  cond2 = cond0 & (x <= self.a)\n",
      "C:\\Users\\mb22\\AppData\\Local\\Continuum\\Anaconda3\\lib\\site-packages\\scipy\\stats\\morestats.py:1981: RuntimeWarning: invalid value encountered in double_scalars\n",
      "  W = numer / denom\n"
     ]
    },
    {
     "data": {
      "image/png": "[encoded data removed]",
      "text/plain": [
       "<matplotlib.figure.Figure at 0xce7c1b0>"
      ]
     },
     "metadata": {},
     "output_type": "display_data"
    },
    {
     "name": "stdout",
     "output_type": "stream",
     "text": [
      "BartlettResult(statistic=167.83872331744311, pvalue=2.1939572946415301e-38)\n",
      "LeveneResult(statistic=20.695763007281037, pvalue=2.0035140415358042e-05)\n"
     ]
    },
    {
     "data": {
      "image/png": "[encoded data removed]",
      "text/plain": [
       "<matplotlib.figure.Figure at 0xcec5370>"
      ]
     },
     "metadata": {},
     "output_type": "display_data"
    },
    {
     "name": "stdout",
     "output_type": "stream",
     "text": [
      "BartlettResult(statistic=151.90691349148315, pvalue=6.6400413672686287e-35)\n",
      "LeveneResult(statistic=19.491431419765128, pvalue=3.2952427582872238e-05)\n"
     ]
    },
    {
     "data": {
      "image/png": "[encoded data removed]",
      "text/plain": [
       "<matplotlib.figure.Figure at 0xb5a1bd0>"
      ]
     },
     "metadata": {},
     "output_type": "display_data"
    },
    {
     "name": "stdout",
     "output_type": "stream",
     "text": [
      "BartlettResult(statistic=107.72567544547472, pvalue=3.0867772980020531e-25)\n",
      "LeveneResult(statistic=23.576950572832764, pvalue=6.271864321305992e-06)\n"
     ]
    }
   ],
   "source": [
    "## bar plot of SDs for each structure in list\n",
    "bar_structs = ['ptv1','ptv2']#,'l_parotid','r_parotid','cord'] ## ordered as want in plot\n",
    "\n",
    "bar_labels = [struct_names[i] for i in bar_structs] ## create list of labels in same order\n",
    "\n",
    "\n",
    "my_param = 'mean'\n",
    "\n",
    "for my_param in ['mean','median','max','min','D99','D95','D100','V100','V99','V95']:\n",
    "\n",
    "    ## auto create the correct lookup from the above specification\n",
    "    my_val = my_param.lower() + '_val'\n",
    "\n",
    "    ## get all the mean values and calc SDS.\n",
    "    all_sds = {}\n",
    "\n",
    "    for my_struct in bar_structs:\n",
    "\n",
    "        #data = df[df['struct_label']==my_struct] ## get the required rows\n",
    "\n",
    "        imrt = df[(df['struct_label']==my_struct) & (df['Type']=='IMRT')][my_val].dropna().tolist()#[1:-1]\n",
    "        conf = df[(df['struct_label']==my_struct) & (df['Type']=='Conformal')][my_val].dropna().tolist()#[1:-1]\n",
    "\n",
    "        imrt_sd = np.std(imrt)\n",
    "        conf_sd = np.std(conf)\n",
    "\n",
    "        ## save each SD\n",
    "        all_sds[my_struct] = {'imrt':imrt_sd,\n",
    "                             'conf':conf_sd}\n",
    "\n",
    "    ## get sds from above into 2 lists of values in desired order\n",
    "    imrt_sds = []\n",
    "    conf_sds = []\n",
    "\n",
    "    for struct in bar_structs:\n",
    "        imrt_sd = all_sds[struct]['imrt']\n",
    "        conf_sd = all_sds[struct]['conf']\n",
    "\n",
    "        imrt_sds.append(imrt_sd)\n",
    "        conf_sds.append(conf_sd)\n",
    "\n",
    "    imrt_sds_perc = imrt_sds#[100*i/65 for i in imrt_sds]\n",
    "    conf_sds_perc = conf_sds#[100*i/65 for i in conf_sds]\n",
    "\n",
    "    w = 0.35\n",
    "    offset = w\n",
    "    the_left = [i for i in range(len(bar_structs))]\n",
    "    the_left1 = [i-offset/2 for i in the_left]\n",
    "    the_left2 = [i+offset/2 for i in the_left]\n",
    "\n",
    "    plt.bar(left=the_left1,height=conf_sds_perc,alpha=1,width=w,label='Conformal')\n",
    "    plt.bar(left=the_left2,height=imrt_sds_perc,alpha=1,width=w,label='IMRT')\n",
    "\n",
    "    plt.xticks(the_left,bar_labels)\n",
    "    plt.title('Variation in PTV doses: ' + my_param)\n",
    "    plt.legend()\n",
    "    plt.xlabel('PTV structure')\n",
    "    plt.ylabel('Standard deviation in dose (Gy)')\n",
    "    #plt.yticks([0,1,2,3,4,5])\n",
    "    #plt.ylim(0,10)\n",
    "\n",
    "    #plt.savefig('PTV-SD-var-abs-ptv1+2only-'+my_param+'.png',dpi=300, bbox_inches='tight')\n",
    "\n",
    "    plt.show()\n",
    "\n",
    "## statistical comparison\n",
    "## need to use the raw values\n",
    "\n",
    "## used bartlett test . could have used Levene which is more robust if non-normal\n",
    "    print(stats.bartlett(imrt,conf))\n",
    "    print(stats.levene(imrt,conf))"
   ]
  },
  {
   "cell_type": "code",
   "execution_count": 146,
   "metadata": {
    "collapsed": false
   },
   "outputs": [
    {
     "data": {
      "image/png": "[encoded data removed]",
      "text/plain": [
       "<matplotlib.figure.Figure at 0xe34e190>"
      ]
     },
     "metadata": {},
     "output_type": "display_data"
    },
    {
     "data": {
      "image/png": "[encoded data removed]",
      "text/plain": [
       "<matplotlib.figure.Figure at 0x4d07b70>"
      ]
     },
     "metadata": {},
     "output_type": "display_data"
    }
   ],
   "source": [
    "## Include multiple plots from above into a single figure.\n",
    "\n",
    "## can just loop through and set the positions of each set of data based on number in loop?\n",
    "## get the individual data points into dict, then plot using these\n",
    "\n",
    "## just do for PTV1 as is the primary target and highest dose. Most time will be spent conforming this\n",
    "## and can then fit more on plot\n",
    "\n",
    "## do for these params (4 is max can reasonably fit into single plot without looking messy)\n",
    "my_params = ['Mean','Median','Max','D95', 'D99']\n",
    "my_structs = ['PTV1','PTV2']\n",
    "my_labels = my_params\n",
    "\n",
    "for my_struct in my_structs:\n",
    "\n",
    "    plot_data = {}\n",
    "    ## get the data\n",
    "    for my_param in my_params:\n",
    "\n",
    "        my_val = my_param.lower() + '_val' ## lookup column\n",
    "\n",
    "\n",
    "        ## get the data\n",
    "        data = df[df['struct_label']==my_struct.lower()]\n",
    "\n",
    "        imrt = data[data['Type']=='IMRT'][my_val].dropna()\n",
    "        conf = data[data['Type']=='Conformal'][my_val].dropna()\n",
    "\n",
    "\n",
    "\n",
    "        ## get comparison results t-test for use\n",
    "        #signif = stats.bartlett(imrt.tolist(),conf.tolist())\n",
    "        signif = stats.levene(imrt.tolist(),conf.tolist())\n",
    "\n",
    "        ## store the SDs\n",
    "        plot_data[my_param] = {'imrt':imrt.std(),\n",
    "                               'conf':conf.std(),\n",
    "                               'sig':signif}\n",
    "\n",
    "    my_width = 0.3\n",
    "    my_offset = 0.16\n",
    "\n",
    "    pval_test = 0.05\n",
    "\n",
    "    include_signif = True\n",
    "\n",
    "    params = []\n",
    "    imrts = []\n",
    "    confs = []\n",
    "    signif = []\n",
    "    posns = [i for i in range(len(plot_data))]\n",
    "    for param in my_params:\n",
    "        params.append(param)\n",
    "        imrts.append(plot_data[param]['imrt'])\n",
    "        confs.append(plot_data[param]['conf'])\n",
    "        if plot_data[param]['sig'].pvalue <=pval_test:\n",
    "            if include_signif == True:\n",
    "                signif.append('*')\n",
    "            else:\n",
    "                signif.append('')\n",
    "        else:\n",
    "            signif.append('')\n",
    "\n",
    "    plot_labels = [my_params[i]+signif[i] for i in range(len(my_params))]\n",
    "\n",
    "    plt.bar(left=[i-my_offset for i in posns],height=confs,alpha=1,width=my_width,label='Conformal')\n",
    "    plt.bar(left=[i+my_offset for i in posns],height=imrts,alpha=1,width=my_width,label='IMRT')\n",
    "    plt.legend()\n",
    "    plt.xticks(posns,plot_labels)\n",
    "    plt.yticks([0,5,10,15,20])\n",
    "\n",
    "    plt.xlabel('Dosimetric parameter')\n",
    "    plt.ylabel('Standard deviation in parameter (Gy)')\n",
    "    plt.title('Variation in dosimetric parameters with planning technique: ' + my_struct)\n",
    "\n",
    "    #plt.savefig('multi_stats-imrtVconf-' + my_struct + '.png',dpi=300,bbox_inches='tight')\n",
    "\n",
    "    plt.show()\n",
    "\n",
    "    plot_data"
   ]
  },
  {
   "cell_type": "code",
   "execution_count": 102,
   "metadata": {
    "collapsed": false
   },
   "outputs": [
    {
     "data": {
      "text/plain": [
       "Index(['sub_dir', 'patient_id', 'plan_name', 'struct_label', 'structure',\n",
       "       'v107', 'v103', 'd5cc', 'v99', 'v105', 'min', 'd0.2cc', 'd0.5cc', 'v93',\n",
       "       'v98', 'd90', 'max', 'd95', 'd100', 'v95', 'mean', 'd1cc', 'median',\n",
       "       'v100', 'v90', 'd98', 'volume', 'd99', 'd0.1cc', 'd2cc', 'v107_val',\n",
       "       'v107_unit', 'v103_val', 'v103_unit', 'd5cc_val', 'd5cc_unit',\n",
       "       'v99_val', 'v99_unit', 'v105_val', 'v105_unit', 'min_val', 'min_unit',\n",
       "       'd0.2cc_val', 'd0.2cc_unit', 'd0.5cc_val', 'd0.5cc_unit', 'v93_val',\n",
       "       'v93_unit', 'v98_val', 'v98_unit', 'd90_val', 'd90_unit', 'max_val',\n",
       "       'max_unit', 'd95_val', 'd95_unit', 'd100_val', 'd100_unit', 'v95_val',\n",
       "       'v95_unit', 'mean_val', 'mean_unit', 'd1cc_val', 'd1cc_unit',\n",
       "       'median_val', 'median_unit', 'v100_val', 'v100_unit', 'v90_val',\n",
       "       'v90_unit', 'd98_val', 'd98_unit', 'volume_val', 'volume_unit',\n",
       "       'd99_val', 'd99_unit', 'd0.1cc_val', 'd0.1cc_unit', 'd2cc_val',\n",
       "       'd2cc_unit', 'id', 'Type', 'Side', 'side_full'],\n",
       "      dtype='object')"
      ]
     },
     "execution_count": 102,
     "metadata": {},
     "output_type": "execute_result"
    }
   ],
   "source": [
    "df.columns"
   ]
  },
  {
   "cell_type": "code",
   "execution_count": 89,
   "metadata": {
    "collapsed": false
   },
   "outputs": [
    {
     "name": "stdout",
     "output_type": "stream",
     "text": [
      "ptv1 Ttest_indResult(statistic=0.95414674009638734, pvalue=0.34343924510754475)\n",
      "ptv1 imrt NormaltestResult(statistic=13.026174774888368, pvalue=0.0014838912962219604)\n",
      "ptv1 conf NormaltestResult(statistic=13.026174774888368, pvalue=0.0014838912962219604)\n",
      "ptv2 Ttest_indResult(statistic=-0.31381861307657744, pvalue=0.75451855338217722)\n",
      "ptv2 imrt NormaltestResult(statistic=13.546486333098102, pvalue=0.0011439785152816964)\n",
      "ptv2 conf NormaltestResult(statistic=13.546486333098102, pvalue=0.0011439785152816964)\n"
     ]
    },
    {
     "data": {
      "image/png": "[encoded data removed]",
      "text/plain": [
       "<matplotlib.figure.Figure at 0x4cd6fb0>"
      ]
     },
     "metadata": {},
     "output_type": "display_data"
    }
   ],
   "source": [
    "## get the PTV doses and test for normality...\n",
    "\n",
    "my_param = 'mean'\n",
    "\n",
    "## auto create the correct lookup from the above specification\n",
    "my_val = my_param + '_val'\n",
    "\n",
    "all_ptv_data = {}\n",
    "for my_struct in ['ptv1','ptv2']:\n",
    "\n",
    "    #data = df[df['struct_label']==my_struct] ## get the required rows\n",
    "\n",
    "    imrt = sorted(df[(df['struct_label']==my_struct) & (df['Type']=='IMRT')][my_val].dropna().tolist())#[1:-1]\n",
    "    conf = sorted(df[(df['struct_label']==my_struct) & (df['Type']=='Conformal')][my_val].dropna().tolist())#[1:-1]\n",
    "    \n",
    "    ## save the data for each structure\n",
    "    all_ptv_data[my_struct] = {'imrt':imrt,\n",
    "                               'conf':conf}\n",
    "    \n",
    "    print(my_struct,stats.ttest_ind(imrt,conf)) ##  this indicates the mean of the data does not differ significantly\n",
    "    \n",
    "    print(my_struct,'imrt',stats.normaltest(imrt))\n",
    "    print(my_struct,'conf',stats.normaltest(imrt)) ##  all but ptv3 are non-normally distributed...\n",
    "    ## so lets look at the SDs\n",
    "    \n",
    "plt.hist(all_ptv_data['ptv1']['imrt'])\n",
    "plt.hist(all_ptv_data['ptv2']['imrt'])\n",
    "#plt.hist(all_ptv_data['ptv3']['imrt'])\n",
    "plt.show()"
   ]
  },
  {
   "cell_type": "code",
   "execution_count": 31,
   "metadata": {
    "collapsed": false
   },
   "outputs": [
    {
     "data": {
      "text/plain": [
       "{'ptv1': {'conf': 4.0511506616640416, 'imrt': 0.35233457683469099},\n",
       " 'ptv2': {'conf': 5.0562885437398037, 'imrt': 0.75080088950417545},\n",
       " 'ptv3': {'conf': 2.9541836398630115, 'imrt': 0.66804058262857224}}"
      ]
     },
     "execution_count": 31,
     "metadata": {},
     "output_type": "execute_result"
    }
   ],
   "source": [
    "all_sds"
   ]
  },
  {
   "cell_type": "code",
   "execution_count": 34,
   "metadata": {
    "collapsed": false
   },
   "outputs": [
    {
     "name": "stdout",
     "output_type": "stream",
     "text": [
      "ptv1\n",
      "ptv2\n",
      "ptv3\n",
      "pharynx\n",
      "l_parotid\n",
      "r_parotid\n",
      "cord\n"
     ]
    },
    {
     "data": {
      "image/png": "[encoded data removed]",
      "text/plain": [
       "<matplotlib.figure.Figure at 0xcd58b30>"
      ]
     },
     "metadata": {},
     "output_type": "display_data"
    }
   ],
   "source": [
    "struct_info = {'cord':{'type':'OAR'},\n",
    "               'l_parotid':{'type':'OAR'},\n",
    "                'pharynx':{'type':'OAR'},\n",
    "                'ptv1':{'type':'PTV'},\n",
    "                'ptv2':{'type':'PTV'},\n",
    "                'ptv3':{'type':'PTV'},\n",
    "                'r_parotid':{'type':'OAR'}\n",
    "               }\n",
    "\n",
    "## get all the mean values and calc SDS.\n",
    "my_structs = ['ptv1','l_parotid']\n",
    "my_structs = sorted(df['struct_label'].dropna().unique())\n",
    "my_param = 'mean'\n",
    "\n",
    "## auto create the correct lookup from the above specification\n",
    "my_val = my_param + '_val'\n",
    "\n",
    "## dict for formatted titles/structure names\n",
    "\n",
    "struct_names = {'cord':'Spinal cord',\n",
    "               'l_parotid':'Left parotid',\n",
    "               'r_parotid':'Right parotid',\n",
    "               'pharynx':'Pharynx',\n",
    "               'ptv1':'PTV1',\n",
    "               'ptv2':'PTV2',\n",
    "               'ptv3':'PTV3'}\n",
    "\n",
    "all_sds = {}\n",
    "\n",
    "## box plots for each structure\n",
    "for my_struct in my_structs:\n",
    "\n",
    "    #data = df[df['struct_label']==my_struct] ## get the required rows\n",
    "\n",
    "    imrt = sorted(df[(df['struct_label']==my_struct) & (df['Type']=='IMRT')][my_val].dropna().tolist())[1:-1]\n",
    "    conf = sorted(df[(df['struct_label']==my_struct) & (df['Type']=='Conformal')][my_val].dropna().tolist())[1:-1]\n",
    "    \n",
    "    imrt_sd = np.std(imrt)\n",
    "    conf_sd = np.std(conf)\n",
    "    \n",
    "    ## save each SD\n",
    "    all_sds[my_struct] = {'imrt':imrt_sd,\n",
    "                         'conf':conf_sd}\n",
    "\n",
    "\n",
    "for struct in ['ptv1','ptv2','ptv3','pharynx','l_parotid','r_parotid','cord']: ## specify explicitely to order legend\n",
    "    print(struct)\n",
    "    if struct_info[struct]['type']=='PTV':\n",
    "        marker = 'x'\n",
    "    else:\n",
    "        marker = 'o'\n",
    "    plt.plot(all_sds[struct]['conf'],all_sds[struct]['imrt'],ls='',marker=marker,label=struct)\n",
    "plt.xlabel('Structure SD (Gy) : Conformal')\n",
    "plt.ylabel('Structure SD (Gy) : IMRT')\n",
    "plt.axes().set_aspect('equal')\n",
    "my_lim = 14\n",
    "plt.xlim(0,my_lim)\n",
    "plt.ylim(0,my_lim)\n",
    "plt.plot([0,my_lim],[0,my_lim],ls=':',zorder=0,lw=0.5,c='black')\n",
    "plt.legend(loc='center left', bbox_to_anchor=(1, 0.5))\n",
    "plt.title(my_param)\n",
    "plt.show()\n",
    "\n",
    "## basically for PTVs the mean dose is much more consistent and so will directly relate to beam output/TCP etc."
   ]
  },
  {
   "cell_type": "markdown",
   "metadata": {
    "collapsed": true
   },
   "source": [
    "## Get some simple info on number of patients included in analysis etc."
   ]
  },
  {
   "cell_type": "code",
   "execution_count": 35,
   "metadata": {
    "collapsed": false
   },
   "outputs": [
    {
     "data": {
      "text/html": [
       "<div>\n",
       "<style>\n",
       "    .dataframe thead tr:only-child th {\n",
       "        text-align: right;\n",
       "    }\n",
       "\n",
       "    .dataframe thead th {\n",
       "        text-align: left;\n",
       "    }\n",
       "\n",
       "    .dataframe tbody tr th {\n",
       "        vertical-align: top;\n",
       "    }\n",
       "</style>\n",
       "<table border=\"1\" class=\"dataframe\">\n",
       "  <thead>\n",
       "    <tr style=\"text-align: right;\">\n",
       "      <th></th>\n",
       "      <th>sub_dir</th>\n",
       "      <th>patient_id</th>\n",
       "      <th>v107_val</th>\n",
       "      <th>v103_val</th>\n",
       "      <th>d5cc_val</th>\n",
       "      <th>v99_val</th>\n",
       "      <th>v105_val</th>\n",
       "      <th>min_val</th>\n",
       "      <th>d0.2cc_val</th>\n",
       "      <th>d0.5cc_val</th>\n",
       "      <th>...</th>\n",
       "      <th>d1cc_val</th>\n",
       "      <th>median_val</th>\n",
       "      <th>v100_val</th>\n",
       "      <th>v90_val</th>\n",
       "      <th>d98_val</th>\n",
       "      <th>volume_val</th>\n",
       "      <th>d99_val</th>\n",
       "      <th>d0.1cc_val</th>\n",
       "      <th>d2cc_val</th>\n",
       "      <th>id</th>\n",
       "    </tr>\n",
       "  </thead>\n",
       "  <tbody>\n",
       "    <tr>\n",
       "      <th>count</th>\n",
       "      <td>2471.000000</td>\n",
       "      <td>2471.000000</td>\n",
       "      <td>2267.000000</td>\n",
       "      <td>2267.000000</td>\n",
       "      <td>2267.000000</td>\n",
       "      <td>2267.000000</td>\n",
       "      <td>2267.000000</td>\n",
       "      <td>2267.000000</td>\n",
       "      <td>2267.000000</td>\n",
       "      <td>2267.000000</td>\n",
       "      <td>...</td>\n",
       "      <td>2267.000000</td>\n",
       "      <td>2267.000000</td>\n",
       "      <td>2267.000000</td>\n",
       "      <td>2267.000000</td>\n",
       "      <td>2267.000000</td>\n",
       "      <td>2464.000000</td>\n",
       "      <td>2267.000000</td>\n",
       "      <td>2267.000000</td>\n",
       "      <td>2267.000000</td>\n",
       "      <td>2495.000000</td>\n",
       "    </tr>\n",
       "    <tr>\n",
       "      <th>mean</th>\n",
       "      <td>1593.342776</td>\n",
       "      <td>1593.342776</td>\n",
       "      <td>1.089672</td>\n",
       "      <td>8.750920</td>\n",
       "      <td>45.844658</td>\n",
       "      <td>27.287687</td>\n",
       "      <td>3.375134</td>\n",
       "      <td>20.210591</td>\n",
       "      <td>54.003463</td>\n",
       "      <td>52.522691</td>\n",
       "      <td>...</td>\n",
       "      <td>51.280066</td>\n",
       "      <td>42.294993</td>\n",
       "      <td>22.894272</td>\n",
       "      <td>42.091749</td>\n",
       "      <td>26.753476</td>\n",
       "      <td>116.507321</td>\n",
       "      <td>25.126581</td>\n",
       "      <td>54.900710</td>\n",
       "      <td>49.595249</td>\n",
       "      <td>1590.880561</td>\n",
       "    </tr>\n",
       "    <tr>\n",
       "      <th>std</th>\n",
       "      <td>1239.144041</td>\n",
       "      <td>1239.144041</td>\n",
       "      <td>6.472960</td>\n",
       "      <td>27.148537</td>\n",
       "      <td>25.612919</td>\n",
       "      <td>67.639014</td>\n",
       "      <td>13.345229</td>\n",
       "      <td>20.976014</td>\n",
       "      <td>22.349969</td>\n",
       "      <td>23.263196</td>\n",
       "      <td>...</td>\n",
       "      <td>23.813058</td>\n",
       "      <td>23.525790</td>\n",
       "      <td>57.565243</td>\n",
       "      <td>103.359769</td>\n",
       "      <td>22.768113</td>\n",
       "      <td>448.649894</td>\n",
       "      <td>22.447874</td>\n",
       "      <td>21.850644</td>\n",
       "      <td>24.480010</td>\n",
       "      <td>1235.057215</td>\n",
       "    </tr>\n",
       "    <tr>\n",
       "      <th>min</th>\n",
       "      <td>1001.000000</td>\n",
       "      <td>1001.000000</td>\n",
       "      <td>0.000000</td>\n",
       "      <td>0.000000</td>\n",
       "      <td>0.000000</td>\n",
       "      <td>0.000000</td>\n",
       "      <td>0.000000</td>\n",
       "      <td>0.010000</td>\n",
       "      <td>0.000000</td>\n",
       "      <td>0.000000</td>\n",
       "      <td>...</td>\n",
       "      <td>0.000000</td>\n",
       "      <td>0.010000</td>\n",
       "      <td>0.000000</td>\n",
       "      <td>0.000000</td>\n",
       "      <td>0.000000</td>\n",
       "      <td>0.000000</td>\n",
       "      <td>0.000000</td>\n",
       "      <td>0.000000</td>\n",
       "      <td>0.000000</td>\n",
       "      <td>1001.000000</td>\n",
       "    </tr>\n",
       "    <tr>\n",
       "      <th>25%</th>\n",
       "      <td>1023.000000</td>\n",
       "      <td>1023.000000</td>\n",
       "      <td>0.000000</td>\n",
       "      <td>0.000000</td>\n",
       "      <td>30.625000</td>\n",
       "      <td>0.000000</td>\n",
       "      <td>0.000000</td>\n",
       "      <td>1.965000</td>\n",
       "      <td>47.055000</td>\n",
       "      <td>44.345000</td>\n",
       "      <td>...</td>\n",
       "      <td>42.690000</td>\n",
       "      <td>21.250000</td>\n",
       "      <td>0.000000</td>\n",
       "      <td>0.000000</td>\n",
       "      <td>4.695000</td>\n",
       "      <td>7.480469</td>\n",
       "      <td>4.150000</td>\n",
       "      <td>48.995000</td>\n",
       "      <td>40.665000</td>\n",
       "      <td>1023.000000</td>\n",
       "    </tr>\n",
       "    <tr>\n",
       "      <th>50%</th>\n",
       "      <td>1045.000000</td>\n",
       "      <td>1045.000000</td>\n",
       "      <td>0.000000</td>\n",
       "      <td>0.000000</td>\n",
       "      <td>59.090000</td>\n",
       "      <td>0.703125</td>\n",
       "      <td>0.000000</td>\n",
       "      <td>10.580000</td>\n",
       "      <td>65.400000</td>\n",
       "      <td>64.720000</td>\n",
       "      <td>...</td>\n",
       "      <td>63.960000</td>\n",
       "      <td>51.580000</td>\n",
       "      <td>0.343750</td>\n",
       "      <td>5.453125</td>\n",
       "      <td>20.060000</td>\n",
       "      <td>22.503125</td>\n",
       "      <td>17.040000</td>\n",
       "      <td>65.770000</td>\n",
       "      <td>62.830000</td>\n",
       "      <td>1045.000000</td>\n",
       "    </tr>\n",
       "    <tr>\n",
       "      <th>75%</th>\n",
       "      <td>1066.000000</td>\n",
       "      <td>1066.000000</td>\n",
       "      <td>0.000000</td>\n",
       "      <td>4.514687</td>\n",
       "      <td>66.800000</td>\n",
       "      <td>14.710938</td>\n",
       "      <td>0.590875</td>\n",
       "      <td>40.430000</td>\n",
       "      <td>68.745000</td>\n",
       "      <td>68.300000</td>\n",
       "      <td>...</td>\n",
       "      <td>67.945000</td>\n",
       "      <td>64.320000</td>\n",
       "      <td>12.304688</td>\n",
       "      <td>26.808427</td>\n",
       "      <td>49.355000</td>\n",
       "      <td>126.260937</td>\n",
       "      <td>47.700000</td>\n",
       "      <td>69.010000</td>\n",
       "      <td>67.555000</td>\n",
       "      <td>1066.000000</td>\n",
       "    </tr>\n",
       "    <tr>\n",
       "      <th>max</th>\n",
       "      <td>6006.000000</td>\n",
       "      <td>6006.000000</td>\n",
       "      <td>178.064958</td>\n",
       "      <td>489.681215</td>\n",
       "      <td>82.460000</td>\n",
       "      <td>879.488068</td>\n",
       "      <td>289.000981</td>\n",
       "      <td>69.530000</td>\n",
       "      <td>83.030000</td>\n",
       "      <td>82.930000</td>\n",
       "      <td>...</td>\n",
       "      <td>82.830000</td>\n",
       "      <td>77.200000</td>\n",
       "      <td>783.484195</td>\n",
       "      <td>1700.042441</td>\n",
       "      <td>69.680000</td>\n",
       "      <td>11128.437000</td>\n",
       "      <td>69.530000</td>\n",
       "      <td>83.090000</td>\n",
       "      <td>82.690000</td>\n",
       "      <td>6006.000000</td>\n",
       "    </tr>\n",
       "  </tbody>\n",
       "</table>\n",
       "<p>8 rows × 28 columns</p>\n",
       "</div>"
      ],
      "text/plain": [
       "           sub_dir   patient_id     v107_val     v103_val     d5cc_val  \\\n",
       "count  2471.000000  2471.000000  2267.000000  2267.000000  2267.000000   \n",
       "mean   1593.342776  1593.342776     1.089672     8.750920    45.844658   \n",
       "std    1239.144041  1239.144041     6.472960    27.148537    25.612919   \n",
       "min    1001.000000  1001.000000     0.000000     0.000000     0.000000   \n",
       "25%    1023.000000  1023.000000     0.000000     0.000000    30.625000   \n",
       "50%    1045.000000  1045.000000     0.000000     0.000000    59.090000   \n",
       "75%    1066.000000  1066.000000     0.000000     4.514687    66.800000   \n",
       "max    6006.000000  6006.000000   178.064958   489.681215    82.460000   \n",
       "\n",
       "           v99_val     v105_val      min_val   d0.2cc_val   d0.5cc_val  \\\n",
       "count  2267.000000  2267.000000  2267.000000  2267.000000  2267.000000   \n",
       "mean     27.287687     3.375134    20.210591    54.003463    52.522691   \n",
       "std      67.639014    13.345229    20.976014    22.349969    23.263196   \n",
       "min       0.000000     0.000000     0.010000     0.000000     0.000000   \n",
       "25%       0.000000     0.000000     1.965000    47.055000    44.345000   \n",
       "50%       0.703125     0.000000    10.580000    65.400000    64.720000   \n",
       "75%      14.710938     0.590875    40.430000    68.745000    68.300000   \n",
       "max     879.488068   289.000981    69.530000    83.030000    82.930000   \n",
       "\n",
       "          ...          d1cc_val   median_val     v100_val      v90_val  \\\n",
       "count     ...       2267.000000  2267.000000  2267.000000  2267.000000   \n",
       "mean      ...         51.280066    42.294993    22.894272    42.091749   \n",
       "std       ...         23.813058    23.525790    57.565243   103.359769   \n",
       "min       ...          0.000000     0.010000     0.000000     0.000000   \n",
       "25%       ...         42.690000    21.250000     0.000000     0.000000   \n",
       "50%       ...         63.960000    51.580000     0.343750     5.453125   \n",
       "75%       ...         67.945000    64.320000    12.304688    26.808427   \n",
       "max       ...         82.830000    77.200000   783.484195  1700.042441   \n",
       "\n",
       "           d98_val    volume_val      d99_val   d0.1cc_val     d2cc_val  \\\n",
       "count  2267.000000   2464.000000  2267.000000  2267.000000  2267.000000   \n",
       "mean     26.753476    116.507321    25.126581    54.900710    49.595249   \n",
       "std      22.768113    448.649894    22.447874    21.850644    24.480010   \n",
       "min       0.000000      0.000000     0.000000     0.000000     0.000000   \n",
       "25%       4.695000      7.480469     4.150000    48.995000    40.665000   \n",
       "50%      20.060000     22.503125    17.040000    65.770000    62.830000   \n",
       "75%      49.355000    126.260937    47.700000    69.010000    67.555000   \n",
       "max      69.680000  11128.437000    69.530000    83.090000    82.690000   \n",
       "\n",
       "                id  \n",
       "count  2495.000000  \n",
       "mean   1590.880561  \n",
       "std    1235.057215  \n",
       "min    1001.000000  \n",
       "25%    1023.000000  \n",
       "50%    1045.000000  \n",
       "75%    1066.000000  \n",
       "max    6006.000000  \n",
       "\n",
       "[8 rows x 28 columns]"
      ]
     },
     "execution_count": 35,
     "metadata": {},
     "output_type": "execute_result"
    }
   ],
   "source": [
    "df.describe()"
   ]
  },
  {
   "cell_type": "code",
   "execution_count": 36,
   "metadata": {
    "collapsed": false
   },
   "outputs": [
    {
     "data": {
      "text/plain": [
       "Index(['sub_dir', 'patient_id', 'plan_name', 'struct_label', 'structure',\n",
       "       'v107', 'v103', 'd5cc', 'v99', 'v105', 'min', 'd0.2cc', 'd0.5cc', 'v93',\n",
       "       'v98', 'd90', 'max', 'd95', 'd100', 'v95', 'mean', 'd1cc', 'median',\n",
       "       'v100', 'v90', 'd98', 'volume', 'd99', 'd0.1cc', 'd2cc', 'v107_val',\n",
       "       'v107_unit', 'v103_val', 'v103_unit', 'd5cc_val', 'd5cc_unit',\n",
       "       'v99_val', 'v99_unit', 'v105_val', 'v105_unit', 'min_val', 'min_unit',\n",
       "       'd0.2cc_val', 'd0.2cc_unit', 'd0.5cc_val', 'd0.5cc_unit', 'v93_val',\n",
       "       'v93_unit', 'v98_val', 'v98_unit', 'd90_val', 'd90_unit', 'max_val',\n",
       "       'max_unit', 'd95_val', 'd95_unit', 'd100_val', 'd100_unit', 'v95_val',\n",
       "       'v95_unit', 'mean_val', 'mean_unit', 'd1cc_val', 'd1cc_unit',\n",
       "       'median_val', 'median_unit', 'v100_val', 'v100_unit', 'v90_val',\n",
       "       'v90_unit', 'd98_val', 'd98_unit', 'volume_val', 'volume_unit',\n",
       "       'd99_val', 'd99_unit', 'd0.1cc_val', 'd0.1cc_unit', 'd2cc_val',\n",
       "       'd2cc_unit', 'id', 'Type', 'Side', 'side_full'],\n",
       "      dtype='object')"
      ]
     },
     "execution_count": 36,
     "metadata": {},
     "output_type": "execute_result"
    }
   ],
   "source": [
    "df.columns"
   ]
  },
  {
   "cell_type": "code",
   "execution_count": 37,
   "metadata": {
    "collapsed": false
   },
   "outputs": [
    {
     "data": {
      "text/plain": [
       "34"
      ]
     },
     "execution_count": 37,
     "metadata": {},
     "output_type": "execute_result"
    }
   ],
   "source": [
    "len(df[df['Type']=='Conformal']['patient_id'].unique())"
   ]
  },
  {
   "cell_type": "code",
   "execution_count": 38,
   "metadata": {
    "collapsed": false
   },
   "outputs": [
    {
     "data": {
      "text/plain": [
       "38"
      ]
     },
     "execution_count": 38,
     "metadata": {},
     "output_type": "execute_result"
    }
   ],
   "source": [
    "len(df[df['Type']=='IMRT']['patient_id'].unique())"
   ]
  },
  {
   "cell_type": "code",
   "execution_count": 39,
   "metadata": {
    "collapsed": false
   },
   "outputs": [
    {
     "data": {
      "text/plain": [
       "71"
      ]
     },
     "execution_count": 39,
     "metadata": {},
     "output_type": "execute_result"
    }
   ],
   "source": [
    "len(df['patient_id'].unique())"
   ]
  },
  {
   "cell_type": "code",
   "execution_count": 40,
   "metadata": {
    "collapsed": false
   },
   "outputs": [
    {
     "name": "stdout",
     "output_type": "stream",
     "text": [
      "1001.0 ['Conformal']\n",
      "1002.0 ['IMRT']\n",
      "1003.0 ['Conformal']\n",
      "1004.0 ['IMRT']\n",
      "1005.0 ['Conformal']\n",
      "1007.0 ['Conformal']\n",
      "1008.0 ['IMRT']\n",
      "1010.0 ['Conformal']\n",
      "1011.0 ['Conformal']\n",
      "1012.0 ['IMRT']\n",
      "1013.0 ['Conformal']\n",
      "1015.0 ['Conformal']\n",
      "1017.0 ['IMRT']\n",
      "1019.0 ['IMRT']\n",
      "1022.0 ['IMRT']\n",
      "1023.0 ['Conformal']\n",
      "1024.0 ['IMRT']\n",
      "1025.0 ['IMRT']\n",
      "1027.0 ['IMRT']\n",
      "1028.0 ['Conformal']\n",
      "1029.0 ['IMRT']\n",
      "1030.0 ['Conformal']\n",
      "1031.0 ['IMRT']\n",
      "1032.0 ['Conformal']\n",
      "1033.0 ['Conformal']\n",
      "1034.0 ['IMRT']\n",
      "1035.0 ['IMRT']\n",
      "1037.0 ['Conformal']\n",
      "1038.0 ['Conformal']\n",
      "1039.0 ['IMRT']\n",
      "1041.0 ['IMRT']\n",
      "1043.0 ['IMRT']\n",
      "1045.0 ['Conformal']\n",
      "1046.0 ['IMRT']\n",
      "1048.0 ['IMRT']\n",
      "1049.0 ['IMRT']\n",
      "1050.0 ['Conformal']\n",
      "1051.0 ['IMRT']\n",
      "1053.0 ['Conformal']\n",
      "1054.0 ['IMRT']\n",
      "1055.0 ['IMRT']\n",
      "1056.0 ['Conformal']\n",
      "1057.0 ['Conformal']\n",
      "1059.0 ['Conformal']\n",
      "1060.0 ['IMRT']\n",
      "1061.0 ['Conformal']\n",
      "1062.0 ['IMRT']\n",
      "1065.0 ['IMRT']\n",
      "1066.0 ['IMRT']\n",
      "1502.0 ['Conformal']\n",
      "1503.0 ['IMRT']\n",
      "1504.0 ['Conformal']\n",
      "1505.0 ['IMRT']\n",
      "1508.0 ['IMRT']\n",
      "2501.0 ['Conformal']\n",
      "2502.0 ['IMRT']\n",
      "2503.0 ['IMRT']\n",
      "4002.0 ['Conformal']\n",
      "4003.0 ['IMRT']\n",
      "4004.0 ['Conformal']\n",
      "4005.0 ['Conformal']\n",
      "4006.0 ['IMRT']\n",
      "5001.0 ['Conformal']\n",
      "5002.0 ['Conformal']\n",
      "6001.0 ['Conformal']\n",
      "6002.0 ['IMRT']\n",
      "6003.0 ['IMRT']\n",
      "6004.0 ['IMRT']\n",
      "6005.0 ['Conformal']\n",
      "6006.0 ['Conformal']\n",
      "nan []\n",
      "i 37\n",
      "c 33\n"
     ]
    }
   ],
   "source": [
    "i_count = 0\n",
    "c_count = 0\n",
    "\n",
    "for patient in df['patient_id'].unique():\n",
    "    the_t = df[df['patient_id']==patient]['Type'].unique()\n",
    "    print(patient,df[df['patient_id']==patient]['Type'].unique())\n",
    "    if the_t == ['IMRT']:\n",
    "        i_count = i_count+1\n",
    "    if the_t == ['Conformal']:\n",
    "        c_count = c_count + 1\n",
    "print('i',i_count)\n",
    "print('c',c_count)"
   ]
  },
  {
   "cell_type": "code",
   "execution_count": 41,
   "metadata": {
    "collapsed": true
   },
   "outputs": [],
   "source": [
    "imrt = df[df['Type']=='IMRT'].dropna()\n",
    "cfrt = df[df['Type']=='Conformal'].dropna()"
   ]
  },
  {
   "cell_type": "code",
   "execution_count": 42,
   "metadata": {
    "collapsed": false
   },
   "outputs": [
    {
     "data": {
      "text/plain": [
       "33"
      ]
     },
     "execution_count": 42,
     "metadata": {},
     "output_type": "execute_result"
    }
   ],
   "source": [
    "len(cfrt['patient_id'].unique())"
   ]
  },
  {
   "cell_type": "code",
   "execution_count": 43,
   "metadata": {
    "collapsed": false
   },
   "outputs": [
    {
     "name": "stdout",
     "output_type": "stream",
     "text": [
      "1001.0 ['cord' 'l_parotid' 'pharynx' 'ptv1' 'ptv2' 'ptv3' 'r_parotid']\n",
      "1002.0 ['l_parotid' 'pharynx' 'ptv1' 'ptv2' 'ptv3' 'r_parotid']\n",
      "1003.0 ['l_parotid' 'ptv1' 'ptv2' 'ptv3' 'r_parotid' 'cord' 'pharynx']\n",
      "1004.0 ['l_parotid' 'pharynx' 'ptv1' 'ptv2' 'ptv3' 'r_parotid' 'cord']\n",
      "1005.0 ['cord' 'l_parotid' 'pharynx' 'ptv1' 'ptv2' 'ptv3' 'r_parotid']\n",
      "1007.0 ['l_parotid' 'pharynx' 'ptv1' 'ptv2' 'ptv3' 'r_parotid' 'cord']\n",
      "1008.0 ['l_parotid' 'pharynx' 'ptv1' 'ptv2' 'ptv3' 'r_parotid' 'cord']\n",
      "1010.0 ['l_parotid' 'pharynx' 'ptv1' 'ptv2' 'ptv3' 'r_parotid' 'cord']\n",
      "1011.0 ['l_parotid' 'pharynx' 'ptv1' 'ptv2' 'r_parotid' 'cord']\n",
      "1012.0 ['l_parotid' 'r_parotid' 'pharynx' 'ptv1' 'ptv2' 'ptv3' 'cord']\n",
      "1013.0 ['l_parotid' 'pharynx' 'ptv1' 'ptv2' 'ptv3' 'r_parotid' 'cord']\n",
      "1015.0 ['l_parotid' 'pharynx' 'ptv1' 'ptv2' 'r_parotid' 'cord']\n",
      "1017.0 ['l_parotid' 'pharynx' 'ptv1' 'ptv2' 'r_parotid' 'cord']\n",
      "1019.0 ['l_parotid' 'pharynx' 'ptv1' 'ptv2' 'ptv3' 'r_parotid' 'cord']\n",
      "1022.0 ['l_parotid' 'pharynx' 'ptv1' 'ptv2' 'ptv3' 'r_parotid' 'cord']\n",
      "1023.0 ['l_parotid' 'ptv2' 'pharynx' 'ptv1' 'r_parotid' 'cord']\n",
      "1024.0 ['l_parotid' 'ptv1' 'ptv2' 'r_parotid' 'cord' 'pharynx']\n",
      "1025.0 ['l_parotid' 'ptv2' 'pharynx' 'ptv1' 'r_parotid' 'cord']\n",
      "1027.0 ['l_parotid' 'pharynx' 'ptv1' 'ptv2' 'r_parotid' 'cord']\n",
      "1028.0 ['l_parotid' 'pharynx' 'ptv1' 'ptv2' 'r_parotid' 'cord']\n",
      "1029.0 ['l_parotid' 'pharynx' 'ptv1' 'ptv2' 'r_parotid' 'cord']\n",
      "1030.0 ['l_parotid' 'ptv2' 'pharynx' 'ptv1' 'r_parotid' 'cord']\n",
      "1031.0 ['l_parotid' 'ptv2' 'pharynx' 'ptv1' 'r_parotid' 'cord']\n",
      "1032.0 ['l_parotid' 'ptv2' 'pharynx' 'ptv1' 'r_parotid' 'cord']\n",
      "1033.0 ['l_parotid' 'pharynx' 'ptv1' 'ptv2' 'r_parotid' 'cord']\n",
      "1034.0 ['ptv2' 'ptv1' 'r_parotid' 'l_parotid']\n",
      "1035.0 ['ptv2' 'ptv1' 'cord' 'r_parotid' 'l_parotid' 'pharynx']\n",
      "1037.0 ['l_parotid' 'ptv2' 'pharynx' 'ptv1' 'r_parotid' 'cord']\n",
      "1038.0 ['l_parotid' 'pharynx' 'ptv1' 'ptv2' 'r_parotid' 'cord']\n",
      "1039.0 ['l_parotid' 'pharynx' 'ptv1' 'ptv2' 'r_parotid' 'cord']\n",
      "1041.0 ['l_parotid' 'pharynx' 'ptv1' 'r_parotid' 'cord']\n",
      "1043.0 ['l_parotid' 'ptv2' 'ptv1' 'r_parotid' 'cord']\n",
      "1045.0 ['l_parotid' 'ptv2' 'pharynx' 'ptv1' 'r_parotid' 'cord']\n",
      "1046.0 ['l_parotid' 'ptv1' 'ptv2' 'r_parotid' 'cord' 'pharynx']\n",
      "1048.0 ['l_parotid' 'ptv1' 'ptv3' 'r_parotid' 'cord' 'pharynx']\n",
      "1049.0 ['l_parotid' 'ptv1' 'ptv2' 'r_parotid' 'cord' 'pharynx']\n",
      "1050.0 ['l_parotid' 'pharynx' 'ptv1' 'ptv2' 'r_parotid' 'cord']\n",
      "1051.0 ['l_parotid' 'ptv1' 'ptv2' 'r_parotid' 'cord' 'pharynx']\n",
      "1053.0 ['l_parotid' 'ptv2' 'pharynx' 'ptv1' 'r_parotid' 'cord']\n",
      "1054.0 ['l_parotid' 'ptv1' 'ptv2' 'r_parotid' 'cord' 'pharynx']\n",
      "1055.0 ['l_parotid' 'ptv1' 'ptv2' 'r_parotid' 'cord' 'pharynx']\n",
      "1056.0 ['l_parotid' 'pharynx' 'ptv2' 'ptv1' 'r_parotid' 'cord']\n",
      "1057.0 ['l_parotid' 'pharynx' 'ptv1' 'ptv2' 'r_parotid' 'cord']\n",
      "1059.0 ['l_parotid' 'ptv2' 'pharynx' 'ptv1' 'r_parotid' 'cord']\n",
      "1060.0 ['l_parotid' 'ptv1' 'ptv2' 'r_parotid' 'cord']\n",
      "1061.0 ['l_parotid' 'pharynx' 'ptv1' 'ptv2' 'r_parotid' 'cord']\n",
      "1062.0 ['l_parotid' 'ptv2' 'pharynx' 'ptv1' 'r_parotid' 'cord']\n",
      "1065.0 ['l_parotid' 'ptv2' 'ptv1' 'r_parotid' 'cord']\n",
      "1066.0 ['l_parotid' 'ptv1' 'ptv2' 'r_parotid' 'cord' 'pharynx']\n",
      "1502.0 ['l_parotid' 'ptv1' 'ptv2' 'pharynx' 'r_parotid' 'cord']\n",
      "1503.0 ['l_parotid' 'r_parotid' 'pharynx' 'ptv1' 'ptv2' 'ptv3' 'cord']\n",
      "1504.0 ['l_parotid' 'pharynx' 'ptv1' 'ptv2' 'ptv3' 'r_parotid' 'cord']\n",
      "1505.0 ['l_parotid' 'ptv1' 'ptv2' 'r_parotid' 'cord' 'pharynx']\n",
      "1508.0 ['l_parotid' 'ptv2' 'pharynx' 'ptv1' 'r_parotid' 'cord']\n",
      "2501.0 ['l_parotid' 'pharynx' 'ptv1' 'ptv2' 'ptv3' 'r_parotid' 'cord']\n",
      "2502.0 ['cord' 'l_parotid' 'pharynx' 'ptv1' 'ptv2' 'r_parotid']\n",
      "2503.0 ['cord' 'l_parotid' 'pharynx' 'ptv1' 'ptv2' 'r_parotid']\n",
      "4002.0 ['ptv2' 'ptv1' 'cord' 'r_parotid' 'l_parotid' 'pharynx']\n",
      "4003.0 ['ptv2' 'ptv1' 'cord' 'l_parotid' 'r_parotid' 'pharynx']\n",
      "4004.0 ['ptv2' 'ptv1' 'cord' 'l_parotid' 'r_parotid']\n",
      "4005.0 ['l_parotid' 'ptv2' 'ptv3' 'ptv1' 'cord' 'r_parotid']\n",
      "4006.0 ['ptv2' 'ptv1' 'cord' 'r_parotid' 'l_parotid']\n",
      "5001.0 ['cord' 'l_parotid' 'ptv2' 'ptv1' 'r_parotid']\n",
      "5002.0 ['l_parotid' 'ptv2' 'ptv1' 'r_parotid' 'cord']\n",
      "6001.0 ['ptv2' 'l_parotid' 'ptv1' 'r_parotid' 'cord']\n",
      "6002.0 ['l_parotid' 'ptv2' 'ptv1' 'r_parotid' 'cord']\n",
      "6003.0 ['ptv2' 'l_parotid' 'ptv1' 'r_parotid' 'cord']\n",
      "6004.0 ['l_parotid' 'ptv2' 'ptv1' 'r_parotid' 'cord']\n",
      "6005.0 ['l_parotid' 'ptv2' 'ptv1' 'r_parotid' 'cord']\n",
      "6006.0 ['l_parotid' 'ptv2' 'ptv1' 'r_parotid' 'cord']\n",
      "nan []\n"
     ]
    }
   ],
   "source": [
    "for i in df['patient_id'].unique():\n",
    "    print(i, df[df['patient_id']==i]['struct_label'].dropna().unique())"
   ]
  },
  {
   "cell_type": "code",
   "execution_count": null,
   "metadata": {
    "collapsed": true
   },
   "outputs": [],
   "source": []
  }
 ],
 "metadata": {
  "anaconda-cloud": {},
  "kernelspec": {
   "display_name": "Python [conda root]",
   "language": "python",
   "name": "conda-root-py"
  },
  "language_info": {
   "codemirror_mode": {
    "name": "ipython",
    "version": 3
   },
   "file_extension": ".py",
   "mimetype": "text/x-python",
   "name": "python",
   "nbconvert_exporter": "python",
   "pygments_lexer": "ipython3",
   "version": "3.5.2"
  }
 },
 "nbformat": 4,
 "nbformat_minor": 0
}
