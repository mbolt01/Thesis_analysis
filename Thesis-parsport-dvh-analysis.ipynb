{
 "cells": [
  {
   "cell_type": "code",
   "execution_count": 1,
   "metadata": {
    "collapsed": true
   },
   "outputs": [],
   "source": [
    "import pandas as pd\n",
    "import numpy as np\n",
    "from scipy import stats\n",
    "import matplotlib.pyplot as plt\n",
    "%matplotlib inline\n",
    "\n",
    "mystyle = r'https://gist.githubusercontent.com/mbolt01/3087dffd11e70eccb08fdcf327374a5c/raw/std_fig'\n",
    "plt.style.use(mystyle)"
   ]
  },
  {
   "cell_type": "code",
   "execution_count": 5,
   "metadata": {
    "collapsed": false
   },
   "outputs": [
    {
     "name": "stdout",
     "output_type": "stream",
     "text": [
      "using merged file\n",
      "2248\n"
     ]
    },
    {
     "data": {
      "text/html": [
       "<div>\n",
       "<table border=\"1\" class=\"dataframe\">\n",
       "  <thead>\n",
       "    <tr style=\"text-align: right;\">\n",
       "      <th></th>\n",
       "      <th>sub_dir</th>\n",
       "      <th>patient_id</th>\n",
       "      <th>plan_name</th>\n",
       "      <th>struct_label</th>\n",
       "      <th>structure</th>\n",
       "      <th>v107</th>\n",
       "      <th>v103</th>\n",
       "      <th>d5cc</th>\n",
       "      <th>v99</th>\n",
       "      <th>v105</th>\n",
       "      <th>...</th>\n",
       "      <th>d99_val</th>\n",
       "      <th>d99_unit</th>\n",
       "      <th>d0.1cc_val</th>\n",
       "      <th>d0.1cc_unit</th>\n",
       "      <th>d2cc_val</th>\n",
       "      <th>d2cc_unit</th>\n",
       "      <th>id</th>\n",
       "      <th>Type</th>\n",
       "      <th>Side</th>\n",
       "      <th>side_full</th>\n",
       "    </tr>\n",
       "  </thead>\n",
       "  <tbody>\n",
       "    <tr>\n",
       "      <th>2260</th>\n",
       "      <td>4004</td>\n",
       "      <td>4004</td>\n",
       "      <td>1 + 2 + 3 + 4 +</td>\n",
       "      <td>NaN</td>\n",
       "      <td>l hippocampus</td>\n",
       "      <td>(0.0, 'cm3')</td>\n",
       "      <td>(0.0, 'cm3')</td>\n",
       "      <td>(0.0, 'Gy')</td>\n",
       "      <td>(0.0, 'cm3')</td>\n",
       "      <td>(0.0, 'cm3')</td>\n",
       "      <td>...</td>\n",
       "      <td>0.0</td>\n",
       "      <td>Gy</td>\n",
       "      <td>4.28</td>\n",
       "      <td>Gy</td>\n",
       "      <td>0.0</td>\n",
       "      <td>Gy</td>\n",
       "      <td>4004</td>\n",
       "      <td>Conformal</td>\n",
       "      <td>r</td>\n",
       "      <td>right</td>\n",
       "    </tr>\n",
       "    <tr>\n",
       "      <th>2265</th>\n",
       "      <td>4004</td>\n",
       "      <td>4004</td>\n",
       "      <td>1 + 2 + 3 + 4 +</td>\n",
       "      <td>NaN</td>\n",
       "      <td>r hippocampus</td>\n",
       "      <td>(0.0, 'cm3')</td>\n",
       "      <td>(0.0, 'cm3')</td>\n",
       "      <td>(0.0, 'Gy')</td>\n",
       "      <td>(0.0, 'cm3')</td>\n",
       "      <td>(0.0, 'cm3')</td>\n",
       "      <td>...</td>\n",
       "      <td>0.0</td>\n",
       "      <td>Gy</td>\n",
       "      <td>4.29</td>\n",
       "      <td>Gy</td>\n",
       "      <td>0.0</td>\n",
       "      <td>Gy</td>\n",
       "      <td>4004</td>\n",
       "      <td>Conformal</td>\n",
       "      <td>r</td>\n",
       "      <td>right</td>\n",
       "    </tr>\n",
       "    <tr>\n",
       "      <th>2297</th>\n",
       "      <td>4005</td>\n",
       "      <td>4005</td>\n",
       "      <td>dosecube 1 + 2 +</td>\n",
       "      <td>NaN</td>\n",
       "      <td>l hippocampus</td>\n",
       "      <td>(0.0, 'cm3')</td>\n",
       "      <td>(0.0, 'cm3')</td>\n",
       "      <td>(0.0, 'Gy')</td>\n",
       "      <td>(0.0, 'cm3')</td>\n",
       "      <td>(0.0, 'cm3')</td>\n",
       "      <td>...</td>\n",
       "      <td>0.0</td>\n",
       "      <td>Gy</td>\n",
       "      <td>5.72</td>\n",
       "      <td>Gy</td>\n",
       "      <td>0.0</td>\n",
       "      <td>Gy</td>\n",
       "      <td>4005</td>\n",
       "      <td>Conformal</td>\n",
       "      <td>r</td>\n",
       "      <td>right</td>\n",
       "    </tr>\n",
       "  </tbody>\n",
       "</table>\n",
       "<p>3 rows × 84 columns</p>\n",
       "</div>"
      ],
      "text/plain": [
       "      sub_dir  patient_id         plan_name struct_label      structure  \\\n",
       "2260     4004        4004   1 + 2 + 3 + 4 +          NaN  l hippocampus   \n",
       "2265     4004        4004   1 + 2 + 3 + 4 +          NaN  r hippocampus   \n",
       "2297     4005        4005  dosecube 1 + 2 +          NaN  l hippocampus   \n",
       "\n",
       "              v107          v103         d5cc           v99          v105  \\\n",
       "2260  (0.0, 'cm3')  (0.0, 'cm3')  (0.0, 'Gy')  (0.0, 'cm3')  (0.0, 'cm3')   \n",
       "2265  (0.0, 'cm3')  (0.0, 'cm3')  (0.0, 'Gy')  (0.0, 'cm3')  (0.0, 'cm3')   \n",
       "2297  (0.0, 'cm3')  (0.0, 'cm3')  (0.0, 'Gy')  (0.0, 'cm3')  (0.0, 'cm3')   \n",
       "\n",
       "        ...    d99_val d99_unit d0.1cc_val d0.1cc_unit d2cc_val d2cc_unit  \\\n",
       "2260    ...        0.0       Gy       4.28          Gy      0.0        Gy   \n",
       "2265    ...        0.0       Gy       4.29          Gy      0.0        Gy   \n",
       "2297    ...        0.0       Gy       5.72          Gy      0.0        Gy   \n",
       "\n",
       "        id       Type Side side_full  \n",
       "2260  4004  Conformal    r     right  \n",
       "2265  4004  Conformal    r     right  \n",
       "2297  4005  Conformal    r     right  \n",
       "\n",
       "[3 rows x 84 columns]"
      ]
     },
     "execution_count": 5,
     "metadata": {},
     "output_type": "execute_result"
    }
   ],
   "source": [
    "## this is not needed as data now saved as a .pkl and csv after merge.\n",
    "needed = False\n",
    "if needed == True:\n",
    "    ## import dose data\n",
    "    #df = pd.read_csv(r'results-20170626-1017.csv',index_col=0)\n",
    "    df = pd.read_csv(r'results-20180204-2124.csv',index_col=0) ##  this was a recheck of the results. All matches.\n",
    "    df.head(3)\n",
    "\n",
    "    ## import treatment type info.\n",
    "    df_info = pd.read_excel(r'Treatment_side.xlsx',parse_cols=3)\n",
    "    df_info.head(3)\n",
    "\n",
    "    ## merge them...\n",
    "    df = df.merge(df_info,left_on='patient_id', right_on='id', how='outer')\n",
    "\n",
    "    ## save merged data\n",
    "    #df.to_pickle('parsport_dose_data.pkl')\n",
    "    #df.to_csv('parsport_dose_data.csv')\n",
    "else:\n",
    "    print('using merged file')\n",
    "    df = pd.read_csv(r'parsport_dose_data-edit.csv',index_col=0)\n",
    "    #df = pd.read_pickle(r'parsport_dose_data.pkl')\n",
    "    \n",
    "    \n",
    "print(len(df))\n",
    "df.head(3)"
   ]
  },
  {
   "cell_type": "code",
   "execution_count": 6,
   "metadata": {
    "collapsed": false
   },
   "outputs": [],
   "source": [
    "## remove pt. 1502 from the analysis\n",
    "#print(len(df))\n",
    "#df = df[df['patient_id']!=1502]\n",
    "#print(len(df))"
   ]
  },
  {
   "cell_type": "code",
   "execution_count": 7,
   "metadata": {
    "collapsed": false
   },
   "outputs": [
    {
     "data": {
      "text/plain": [
       "Index(['sub_dir', 'patient_id', 'plan_name', 'struct_label', 'structure',\n",
       "       'v107', 'v103', 'd5cc', 'v99', 'v105', 'min', 'd0.2cc', 'd0.5cc', 'v93',\n",
       "       'v98', 'd90', 'max', 'd95', 'd100', 'v95', 'mean', 'd1cc', 'median',\n",
       "       'v100', 'v90', 'd98', 'volume', 'd99', 'd0.1cc', 'd2cc', 'v107_val',\n",
       "       'v107_unit', 'v103_val', 'v103_unit', 'd5cc_val', 'd5cc_unit',\n",
       "       'v99_val', 'v99_unit', 'v105_val', 'v105_unit', 'min_val', 'min_unit',\n",
       "       'd0.2cc_val', 'd0.2cc_unit', 'd0.5cc_val', 'd0.5cc_unit', 'v93_val',\n",
       "       'v93_unit', 'v98_val', 'v98_unit', 'd90_val', 'd90_unit', 'max_val',\n",
       "       'max_unit', 'd95_val', 'd95_unit', 'd100_val', 'd100_unit', 'v95_val',\n",
       "       'v95_unit', 'mean_val', 'mean_unit', 'd1cc_val', 'd1cc_unit',\n",
       "       'median_val', 'median_unit', 'v100_val', 'v100_unit', 'v90_val',\n",
       "       'v90_unit', 'd98_val', 'd98_unit', 'volume_val', 'volume_unit',\n",
       "       'd99_val', 'd99_unit', 'd0.1cc_val', 'd0.1cc_unit', 'd2cc_val',\n",
       "       'd2cc_unit', 'id', 'Type', 'Side', 'side_full'],\n",
       "      dtype='object')"
      ]
     },
     "execution_count": 7,
     "metadata": {},
     "output_type": "execute_result"
    }
   ],
   "source": [
    "df.columns"
   ]
  },
  {
   "cell_type": "code",
   "execution_count": 8,
   "metadata": {
    "collapsed": false
   },
   "outputs": [
    {
     "name": "stdout",
     "output_type": "stream",
     "text": [
      "nan\n",
      "cord\n",
      "r_parotid\n",
      "l_parotid\n",
      "ptv2\n",
      "pharynx\n",
      "ptv3\n",
      "ptv1\n"
     ]
    }
   ],
   "source": [
    "## show structures:\n",
    "for structure in df['struct_label'].unique():\n",
    "    print(structure)"
   ]
  },
  {
   "cell_type": "code",
   "execution_count": 16,
   "metadata": {
    "collapsed": false
   },
   "outputs": [
    {
     "name": "stdout",
     "output_type": "stream",
     "text": [
      "1.26894140307\n",
      "0.35233457723\n"
     ]
    }
   ],
   "source": [
    "the_vals_c = df[(df['struct_label']=='ptv1') & (df['Type']=='Conformal')]['mean_val'].tolist()\n",
    "the_vals_i = df[(df['struct_label']=='ptv1') & (df['Type']=='IMRT')]['mean_val'].tolist()\n",
    "print(np.std(the_vals_c))\n",
    "print(np.std(the_vals_i))"
   ]
  },
  {
   "cell_type": "code",
   "execution_count": null,
   "metadata": {
    "collapsed": true
   },
   "outputs": [],
   "source": []
  },
  {
   "cell_type": "code",
   "execution_count": 17,
   "metadata": {
    "collapsed": false
   },
   "outputs": [
    {
     "name": "stderr",
     "output_type": "stream",
     "text": [
      "C:\\Anaconda3\\lib\\site-packages\\matplotlib\\axes\\_axes.py:545: UserWarning: No labelled objects found. Use label='...' kwarg on individual plots.\n",
      "  warnings.warn(\"No labelled objects found. \"\n"
     ]
    },
    {
     "data": {
      "image/png": "[encoded data removed]",
      "text/plain": [
       "<matplotlib.figure.Figure at 0x11de7b3ee80>"
      ]
     },
     "metadata": {},
     "output_type": "display_data"
    },
    {
     "data": {
      "image/png": "[encoded data removed]",
      "text/plain": [
       "<matplotlib.figure.Figure at 0x11de7b51ac8>"
      ]
     },
     "metadata": {},
     "output_type": "display_data"
    },
    {
     "data": {
      "image/png": "[encoded data removed]",
      "text/plain": [
       "<matplotlib.figure.Figure at 0x11de7b51b70>"
      ]
     },
     "metadata": {},
     "output_type": "display_data"
    },
    {
     "data": {
      "image/png": "[encoded data removed]",
      "text/plain": [
       "<matplotlib.figure.Figure at 0x11de7c8b048>"
      ]
     },
     "metadata": {},
     "output_type": "display_data"
    },
    {
     "data": {
      "image/png": "[encoded data removed]",
      "text/plain": [
       "<matplotlib.figure.Figure at 0x11de7a3ee48>"
      ]
     },
     "metadata": {},
     "output_type": "display_data"
    },
    {
     "data": {
      "image/png": "[encoded data removed]",
      "text/plain": [
       "<matplotlib.figure.Figure at 0x11de7d9ef98>"
      ]
     },
     "metadata": {},
     "output_type": "display_data"
    },
    {
     "data": {
      "image/png": "[encoded data removed]",
      "text/plain": [
       "<matplotlib.figure.Figure at 0x11de7e25c50>"
      ]
     },
     "metadata": {},
     "output_type": "display_data"
    }
   ],
   "source": [
    "## plot of PTV1 mean SDs for imrt and conformal:\n",
    "\n",
    "my_structs = ['ptv1','l_parotid']\n",
    "my_structs = sorted(df['struct_label'].dropna().unique())\n",
    "my_param = 'mean'\n",
    "\n",
    "## auto create the correct lookup from the above specification\n",
    "my_val = my_param + '_val'\n",
    "\n",
    "## dict for formatted titles/structure names\n",
    "\n",
    "struct_names = {'cord':'Spinal cord',\n",
    "               'l_parotid':'Left parotid',\n",
    "               'r_parotid':'Right parotid',\n",
    "               'pharynx':'Pharynx',\n",
    "               'ptv1':'PTV1',\n",
    "               'ptv2':'PTV2',\n",
    "               'ptv3':'PTV3'}\n",
    "\n",
    "all_sds = {}\n",
    "\n",
    "## box plots for each structure\n",
    "for my_struct in my_structs:\n",
    "\n",
    "    #data = df[df['struct_label']==my_struct] ## get the required rows\n",
    "\n",
    "    imrt = sorted(df[(df['struct_label']==my_struct) & (df['Type']=='IMRT')][my_val].dropna().tolist())[1:-1]\n",
    "    conf = sorted(df[(df['struct_label']==my_struct) & (df['Type']=='Conformal')][my_val].dropna().tolist())[1:-1]\n",
    "    \n",
    "    imrt_sd = np.std(imrt)\n",
    "    conf_sd = np.std(conf)\n",
    "    \n",
    "    ## save each SD\n",
    "    all_sds[my_struct] = {'imrt':imrt_sd,\n",
    "                         'conf':conf_sd}\n",
    "\n",
    "    plt.figure(figsize = (8,2))\n",
    "    plt.boxplot([imrt,conf],labels=['IMRT', ' Conformal'],vert=False,widths=0.8)\n",
    "    #plt.xlim(60,70)\n",
    "    plt.legend()\n",
    "    plt.title(struct_names[my_struct])\n",
    "    plt.xlabel('Dose (Gy)')\n",
    "    #plt.savefig('boxplot-' + my_struct + '-mean.png', dpi=300, bbox_inches='tight')\n",
    "    plt.show()"
   ]
  },
  {
   "cell_type": "code",
   "execution_count": 19,
   "metadata": {
    "collapsed": false
   },
   "outputs": [
    {
     "name": "stdout",
     "output_type": "stream",
     "text": [
      "Ttest_indResult(statistic=-10.381471665139037, pvalue=1.3768437570953331e-15)\n"
     ]
    },
    {
     "name": "stderr",
     "output_type": "stream",
     "text": [
      "C:\\Anaconda3\\lib\\site-packages\\matplotlib\\axes\\_axes.py:545: UserWarning: No labelled objects found. Use label='...' kwarg on individual plots.\n",
      "  warnings.warn(\"No labelled objects found. \"\n"
     ]
    },
    {
     "data": {
      "image/png": "[encoded data removed]",
      "text/plain": [
       "<matplotlib.figure.Figure at 0x11de6ae4390>"
      ]
     },
     "metadata": {},
     "output_type": "display_data"
    },
    {
     "name": "stdout",
     "output_type": "stream",
     "text": [
      "Ttest_indResult(statistic=-9.7225807488521792, pvalue=1.9788919606785361e-14)\n"
     ]
    },
    {
     "data": {
      "image/png": "[encoded data removed]",
      "text/plain": [
       "<matplotlib.figure.Figure at 0x11de6f6d3c8>"
      ]
     },
     "metadata": {},
     "output_type": "display_data"
    },
    {
     "data": {
      "image/png": "[encoded data removed]",
      "text/plain": [
       "<matplotlib.figure.Figure at 0x11de6ae4438>"
      ]
     },
     "metadata": {},
     "output_type": "display_data"
    },
    {
     "name": "stdout",
     "output_type": "stream",
     "text": [
      "\n",
      "left_conf\n",
      "mean 60.8775521303\n",
      "median 61.83462138\n",
      "sd 5.33664677305\n",
      "5th perc 51.7357982425\n",
      "95th perc 67.4915288325\n",
      "\n",
      "left_imrt\n",
      "mean 35.1962701968\n",
      "median 30.72856928\n",
      "sd 12.8653252946\n",
      "5th perc 20.567729016\n",
      "95th perc 57.475598036\n",
      "\n",
      "right_conf\n",
      "mean 60.5883196919\n",
      "median 62.916237895\n",
      "sd 7.46777384554\n",
      "5th perc 52.6514059635\n",
      "95th perc 66.2229051315\n",
      "\n",
      "right_imrt\n",
      "mean 34.7860493343\n",
      "median 30.66945175\n",
      "sd 13.0617527024\n",
      "5th perc 20.892811568\n",
      "95th perc 58.836722288\n"
     ]
    }
   ],
   "source": [
    "## produce a plto of l/r parotid on the same graph for thesis.\n",
    "## ideally shade in the IMRT plot to differentiate it\n",
    "\n",
    "both = []\n",
    "\n",
    "for my_struct in ['l_parotid','r_parotid']:\n",
    "\n",
    "    #data = df[df['struct_label']==my_struct] ## get the required rows\n",
    "\n",
    "    imrt = sorted(df[(df['struct_label']==my_struct) & (df['Type']=='IMRT')][my_val].dropna().tolist())#[1:-1]\n",
    "    conf = sorted(df[(df['struct_label']==my_struct) & (df['Type']=='Conformal')][my_val].dropna().tolist())#[1:-1]\n",
    "    \n",
    "    imrt_sd = np.std(imrt)\n",
    "    conf_sd = np.std(conf)\n",
    "    \n",
    "    ## save each SD\n",
    "    all_sds[my_struct] = {'imrt':imrt_sd,\n",
    "                         'conf':conf_sd}\n",
    "    \n",
    "    print(stats.ttest_ind(imrt,conf))\n",
    "    \n",
    "    both.append([imrt,conf])\n",
    "\n",
    "    plt.figure(figsize = (8,2))\n",
    "    plt.boxplot([imrt,conf],labels=['IMRT', ' Conformal'],vert=False,widths=0.8,whis=[5,95],sym='',showmeans=True)\n",
    "    plt.xlim(20,70)\n",
    "    plt.legend()\n",
    "    plt.title(struct_names[my_struct])\n",
    "    plt.xlabel('Dose (Gy)')\n",
    "    #plt.savefig('boxplot-' + my_struct + '-mean.png', dpi=300, bbox_inches='tight')\n",
    "    plt.show()\n",
    "\n",
    "    \n",
    "## combined plot - uses ax. so can get auto legend from colour of boxplots\n",
    "fig, ax = plt.subplots(figsize=(8, 4))\n",
    "\n",
    "offset = 0.2\n",
    "width = 0.3\n",
    "## left\n",
    "bp1 = ax.boxplot(both[0],labels=['IMRT', ' Conformal'],vert=False,widths=width,whis=[5,95],sym='',showmeans=True,\n",
    "            positions=[1+offset,2+offset], patch_artist=True,boxprops={'facecolor':'white'})\n",
    "## right\n",
    "bp2 = ax.boxplot(both[1],labels=['IMRT', ' Conformal'],vert=False,widths=width,whis=[5,95],sym='',showmeans=True,\n",
    "           positions=[1-offset,2-offset], patch_artist=True,boxprops={'facecolor':'#E6E6E6','alpha':1,'edgecolor':'black'})\n",
    "ax.set_xlim(10,70)\n",
    "plt.yticks([1,2],['IMRT', ' Conformal'])\n",
    "plt.ylim(0.5,2.5)\n",
    "ax.set_ylabel('Planning technique')\n",
    "ax.set_xlabel('Mean dose (Gy)')\n",
    "plt.title('Variation in mean doses to parotid glands')\n",
    "\n",
    "\n",
    "\n",
    "## add legend key... need to add shaded box?\n",
    "ax.legend([bp1[\"boxes\"][0], bp2[\"boxes\"][0]], ['Left parotid', 'Right parotid'])\n",
    "\n",
    "\n",
    "plt.legend()\n",
    "\n",
    "#plt.savefig('parotid_mean_doses-EDIT2.png',dpi=300,bbox_inches='tight')\n",
    "plt.show()\n",
    "\n",
    "## show actual stats - get from the plot...\n",
    "\n",
    "## both[0] = left\n",
    "## both[1] = right\n",
    "## both[x][0] = imrt\n",
    "## both[x][1] = conf\n",
    "\n",
    "left_imrt = both[0][0]\n",
    "left_conf = both[0][1]\n",
    "right_imrt = both[1][0]\n",
    "right_conf = both[1][1]\n",
    "\n",
    "organ_vals = {'left_imrt':left_imrt,\n",
    "             'left_conf':left_conf,\n",
    "             'right_imrt':right_imrt,\n",
    "             'right_conf':right_conf}\n",
    "\n",
    "\n",
    "for organ in sorted(organ_vals):\n",
    "    print('')\n",
    "    print(organ)\n",
    "    print('mean',np.mean(organ_vals[organ]))\n",
    "    print('median',np.median(organ_vals[organ]))\n",
    "    print('sd',np.std(organ_vals[organ]))\n",
    "    print('5th perc', np.percentile(organ_vals[organ],5))\n",
    "    print('95th perc', np.percentile(organ_vals[organ],95))\n",
    "\n",
    "\n",
    "## this is how could access values from the plot itself\n",
    "#print('mean imrt left',bp1['means'][0].get_xdata())\n",
    "#print('mean conf left',bp1['means'][1].get_xdata())\n",
    "#print('mean imrt right',bp2['means'][0].get_xdata())\n",
    "#print('mean conf right',bp2['means'][1].get_xdata())\n",
    "\n",
    "## the left and right are remarkably similar!!"
   ]
  },
  {
   "cell_type": "code",
   "execution_count": 20,
   "metadata": {
    "collapsed": false
   },
   "outputs": [
    {
     "data": {
      "image/png": "[encoded data removed]",
      "text/plain": [
       "<matplotlib.figure.Figure at 0x11de7ebeb70>"
      ]
     },
     "metadata": {},
     "output_type": "display_data"
    },
    {
     "name": "stdout",
     "output_type": "stream",
     "text": [
      "imrt-left NormaltestResult(statistic=7.772685560067238, pvalue=0.020520256063412543)\n",
      "imrt-right NormaltestResult(statistic=7.2651990258044865, pvalue=0.026447344758949252)\n",
      "conf-left NormaltestResult(statistic=2.5128340826557132, pvalue=0.28467217004782458)\n",
      "conf-right NormaltestResult(statistic=47.304218782959744, pvalue=5.3458824627349398e-11)\n"
     ]
    }
   ],
   "source": [
    "## check if parotid doses are 'normal'\n",
    "## Probably skewed in some way...\n",
    "\n",
    "plt.hist(both[0][0],alpha=0.5,label='imrt-left',range=(0,70),bins=20,edgecolor='white')\n",
    "plt.hist(both[1][0],alpha=0.5,label='imrt-right',range=(0,70),bins=20,edgecolor='white')\n",
    "plt.hist(both[0][1],alpha=0.5,label='conf-left',range=(0,70),bins=20,edgecolor='white')\n",
    "plt.hist(both[1][1],alpha=0.5,label='conf-right',range=(0,70),bins=20,edgecolor='white')\n",
    "plt.legend()\n",
    "plt.show()\n",
    "\n",
    "print('imrt-left',stats.normaltest(both[0][0]))\n",
    "print('imrt-right',stats.normaltest(both[1][0]))\n",
    "print('conf-left',stats.normaltest(both[0][1]))\n",
    "print('conf-right',stats.normaltest(both[1][1]))\n",
    "\n",
    "## all are seen to be normally distributed, and so the Bartlett test is ok to use when comparing SDs."
   ]
  },
  {
   "cell_type": "code",
   "execution_count": 21,
   "metadata": {
    "collapsed": false
   },
   "outputs": [
    {
     "data": {
      "image/png": "[encoded data removed]",
      "text/plain": [
       "<matplotlib.figure.Figure at 0x11de7e6a2e8>"
      ]
     },
     "metadata": {},
     "output_type": "display_data"
    },
    {
     "name": "stdout",
     "output_type": "stream",
     "text": [
      "BartlettResult(statistic=95.015693590666473, pvalue=1.8888190853111626e-22)\n",
      "LeveneResult(statistic=28.446627296156809, pvalue=9.8274551572148188e-07)\n"
     ]
    },
    {
     "data": {
      "image/png": "[encoded data removed]",
      "text/plain": [
       "<matplotlib.figure.Figure at 0x11de7d64eb8>"
      ]
     },
     "metadata": {},
     "output_type": "display_data"
    },
    {
     "name": "stdout",
     "output_type": "stream",
     "text": [
      "BartlettResult(statistic=107.3867896609714, pvalue=3.6623970502159784e-25)\n",
      "LeveneResult(statistic=19.712064834744133, pvalue=3.0482760127301665e-05)\n"
     ]
    },
    {
     "data": {
      "image/png": "[encoded data removed]",
      "text/plain": [
       "<matplotlib.figure.Figure at 0x11de7a03358>"
      ]
     },
     "metadata": {},
     "output_type": "display_data"
    },
    {
     "name": "stdout",
     "output_type": "stream",
     "text": [
      "BartlettResult(statistic=10.503244287215523, pvalue=0.0011916513181868824)\n",
      "LeveneResult(statistic=2.2737698676621387, pvalue=0.13578050700696809)\n"
     ]
    },
    {
     "data": {
      "image/png": "[encoded data removed]",
      "text/plain": [
       "<matplotlib.figure.Figure at 0x11de7a039b0>"
      ]
     },
     "metadata": {},
     "output_type": "display_data"
    },
    {
     "name": "stdout",
     "output_type": "stream",
     "text": [
      "BartlettResult(statistic=1.661438706231686, pvalue=0.19740918455300094)\n",
      "LeveneResult(statistic=2.6421155483837166, pvalue=0.10826002326675724)\n"
     ]
    },
    {
     "data": {
      "image/png": "[encoded data removed]",
      "text/plain": [
       "<matplotlib.figure.Figure at 0x11de5895198>"
      ]
     },
     "metadata": {},
     "output_type": "display_data"
    },
    {
     "name": "stdout",
     "output_type": "stream",
     "text": [
      "BartlettResult(statistic=1.1203104475816623, pvalue=0.28985161637615786)\n",
      "LeveneResult(statistic=2.5189599690375686, pvalue=0.11669209312225194)\n"
     ]
    },
    {
     "data": {
      "image/png": "[encoded data removed]",
      "text/plain": [
       "<matplotlib.figure.Figure at 0x11de7b151d0>"
      ]
     },
     "metadata": {},
     "output_type": "display_data"
    },
    {
     "name": "stdout",
     "output_type": "stream",
     "text": [
      "BartlettResult(statistic=44.849697924949311, pvalue=2.127536898995359e-11)\n",
      "LeveneResult(statistic=14.376500715250121, pvalue=0.00030060572266952439)\n"
     ]
    },
    {
     "data": {
      "image/png": "[encoded data removed]",
      "text/plain": [
       "<matplotlib.figure.Figure at 0x11de7c1fd30>"
      ]
     },
     "metadata": {},
     "output_type": "display_data"
    },
    {
     "name": "stdout",
     "output_type": "stream",
     "text": [
      "BartlettResult(statistic=nan, pvalue=nan)\n",
      "LeveneResult(statistic=nan, pvalue=nan)\n"
     ]
    },
    {
     "data": {
      "image/png": "[encoded data removed]",
      "text/plain": [
       "<matplotlib.figure.Figure at 0x11de7b8c160>"
      ]
     },
     "metadata": {},
     "output_type": "display_data"
    },
    {
     "name": "stdout",
     "output_type": "stream",
     "text": [
      "BartlettResult(statistic=167.71924229842088, pvalue=2.3298394276165116e-38)\n",
      "LeveneResult(statistic=21.06893800609474, pvalue=1.7464772020023526e-05)\n"
     ]
    },
    {
     "data": {
      "image/png": "[encoded data removed]",
      "text/plain": [
       "<matplotlib.figure.Figure at 0x11de7d41a58>"
      ]
     },
     "metadata": {},
     "output_type": "display_data"
    },
    {
     "name": "stdout",
     "output_type": "stream",
     "text": [
      "BartlettResult(statistic=151.75898673525526, pvalue=7.1532191992752104e-35)\n",
      "LeveneResult(statistic=19.526631619897923, pvalue=3.2917847069597282e-05)\n"
     ]
    },
    {
     "data": {
      "image/png": "[encoded data removed]",
      "text/plain": [
       "<matplotlib.figure.Figure at 0x11de7d84588>"
      ]
     },
     "metadata": {},
     "output_type": "display_data"
    },
    {
     "name": "stdout",
     "output_type": "stream",
     "text": [
      "BartlettResult(statistic=108.32434243746145, pvalue=2.2820455479743129e-25)\n",
      "LeveneResult(statistic=25.163491320939439, pvalue=3.4329030306140531e-06)\n"
     ]
    }
   ],
   "source": [
    "## bar plot of SDs for each structure in list\n",
    "bar_structs = ['ptv1','ptv2']#,'l_parotid','r_parotid','cord'] ## ordered as want in plot\n",
    "\n",
    "bar_labels = [struct_names[i] for i in bar_structs] ## create list of labels in same order\n",
    "\n",
    "\n",
    "my_param = 'mean'\n",
    "\n",
    "for my_param in ['mean','median','max','min','D99','D95','D100','V100','V99','V95']:\n",
    "\n",
    "    ## auto create the correct lookup from the above specification\n",
    "    my_val = my_param.lower() + '_val'\n",
    "\n",
    "    ## get all the mean values and calc SDS.\n",
    "    all_sds = {}\n",
    "\n",
    "    for my_struct in bar_structs:\n",
    "\n",
    "        #data = df[df['struct_label']==my_struct] ## get the required rows\n",
    "\n",
    "        imrt = df[(df['struct_label']==my_struct) & (df['Type']=='IMRT')][my_val].dropna().tolist()#[1:-1]\n",
    "        conf = df[(df['struct_label']==my_struct) & (df['Type']=='Conformal')][my_val].dropna().tolist()#[1:-1]\n",
    "\n",
    "        imrt_sd = np.std(imrt)\n",
    "        conf_sd = np.std(conf)\n",
    "\n",
    "        ## save each SD\n",
    "        all_sds[my_struct] = {'imrt':imrt_sd,\n",
    "                             'conf':conf_sd}\n",
    "\n",
    "    ## get sds from above into 2 lists of values in desired order\n",
    "    imrt_sds = []\n",
    "    conf_sds = []\n",
    "\n",
    "    for struct in bar_structs:\n",
    "        imrt_sd = all_sds[struct]['imrt']\n",
    "        conf_sd = all_sds[struct]['conf']\n",
    "\n",
    "        imrt_sds.append(imrt_sd)\n",
    "        conf_sds.append(conf_sd)\n",
    "\n",
    "    imrt_sds_perc = imrt_sds#[100*i/65 for i in imrt_sds]\n",
    "    conf_sds_perc = conf_sds#[100*i/65 for i in conf_sds]\n",
    "\n",
    "    w = 0.35\n",
    "    offset = w\n",
    "    the_left = [i for i in range(len(bar_structs))]\n",
    "    the_left1 = [i-offset/2 for i in the_left]\n",
    "    the_left2 = [i+offset/2 for i in the_left]\n",
    "\n",
    "    plt.bar(left=the_left1,height=conf_sds_perc,alpha=1,width=w,label='Conformal')\n",
    "    plt.bar(left=the_left2,height=imrt_sds_perc,alpha=1,width=w,label='IMRT')\n",
    "\n",
    "    plt.xticks(the_left,bar_labels)\n",
    "    plt.title('Variation in PTV doses: ' + my_param)\n",
    "    plt.legend()\n",
    "    plt.xlabel('PTV structure')\n",
    "    plt.ylabel('Standard deviation in dose (Gy)')\n",
    "    #plt.yticks([0,1,2,3,4,5])\n",
    "    #plt.ylim(0,10)\n",
    "\n",
    "    #plt.savefig('PTV-SD-var-abs-ptv1+2only-'+my_param+'.png',dpi=300, bbox_inches='tight')\n",
    "\n",
    "    plt.show()\n",
    "\n",
    "## statistical comparison\n",
    "## need to use the raw values\n",
    "\n",
    "## used bartlett test . could have used Levene which is more robust if non-normal\n",
    "    print(stats.bartlett(imrt,conf))\n",
    "    print(stats.levene(imrt,conf))"
   ]
  },
  {
   "cell_type": "code",
   "execution_count": 58,
   "metadata": {
    "collapsed": false
   },
   "outputs": [
    {
     "data": {
      "image/png": "[encoded data removed]",
      "text/plain": [
       "<matplotlib.figure.Figure at 0x11de7a97518>"
      ]
     },
     "metadata": {},
     "output_type": "display_data"
    },
    {
     "name": "stdout",
     "output_type": "stream",
     "text": [
      "{'Max': {'imrt': 1.453813676627513, 'sig': LeveneResult(statistic=4.8776537882158415, pvalue=0.030684490293241766), 'conf': 2.989723780935344}, 'D95': {'imrt': 1.1635646856869526, 'sig': LeveneResult(statistic=38.375256361407757, pvalue=4.2525122238422064e-08), 'conf': 5.510469278871547}, 'D99': {'imrt': 3.1499797303454677, 'sig': LeveneResult(statistic=17.430839136228922, pvalue=8.915427389681199e-05), 'conf': 7.823215805815077}, 'Median': {'imrt': 0.3309911762119336, 'sig': LeveneResult(statistic=14.16399647449726, pvalue=0.00035859987590843657), 'conf': 1.0772964499751365}, 'Mean': {'imrt': 0.357332480441052, 'sig': LeveneResult(statistic=24.881600528487972, pvalue=4.6933973477092779e-06), 'conf': 1.2892457547623177}}\n"
     ]
    },
    {
     "data": {
      "image/png": "[encoded data removed]",
      "text/plain": [
       "<matplotlib.figure.Figure at 0x11de7e7fe10>"
      ]
     },
     "metadata": {},
     "output_type": "display_data"
    },
    {
     "name": "stdout",
     "output_type": "stream",
     "text": [
      "{'Max': {'imrt': 1.888208960079121, 'sig': LeveneResult(statistic=2.2737698676621387, pvalue=0.13578050700696809), 'conf': 3.2466967967597604}, 'D95': {'imrt': 2.0486911237453103, 'sig': LeveneResult(statistic=14.376500715250121, pvalue=0.00030060572266952439), 'conf': 6.787779814107467}, 'D99': {'imrt': 11.62545339341929, 'sig': LeveneResult(statistic=2.5189599690375686, pvalue=0.11669209312225194), 'conf': 13.837274430452828}, 'Median': {'imrt': 0.8001972513234722, 'sig': LeveneResult(statistic=19.712064834744133, pvalue=3.0482760127301665e-05), 'conf': 6.436770600679021}, 'Mean': {'imrt': 0.7603656181711705, 'sig': LeveneResult(statistic=28.446627296156809, pvalue=9.8274551572148188e-07), 'conf': 5.175767703964717}}\n"
     ]
    }
   ],
   "source": [
    "## Include multiple plots from above into a single figure.\n",
    "\n",
    "## can just loop through and set the positions of each set of data based on number in loop?\n",
    "## get the individual data points into dict, then plot using these\n",
    "\n",
    "## just do for PTV1 as is the primary target and highest dose. Most time will be spent conforming this\n",
    "## and can then fit more on plot\n",
    "\n",
    "## do for these params (4 is max can reasonably fit into single plot without looking messy)\n",
    "my_params = ['Mean','Median','Max','D95', 'D99']\n",
    "my_structs = ['PTV1','PTV2']\n",
    "my_labels = my_params\n",
    "\n",
    "for my_struct in my_structs:\n",
    "\n",
    "    plot_data = {}\n",
    "    ## get the data\n",
    "    for my_param in my_params:\n",
    "\n",
    "        my_val = my_param.lower() + '_val' ## lookup column\n",
    "\n",
    "\n",
    "        ## get the data\n",
    "        data = df[df['struct_label']==my_struct.lower()]\n",
    "\n",
    "        imrt = data[data['Type']=='IMRT'][my_val].dropna()\n",
    "        conf = data[data['Type']=='Conformal'][my_val].dropna()\n",
    "\n",
    "\n",
    "\n",
    "        ## get comparison results t-test for use\n",
    "        #signif = stats.bartlett(imrt.tolist(),conf.tolist())\n",
    "        signif = stats.levene(imrt.tolist(),conf.tolist())\n",
    "\n",
    "        ## store the SDs\n",
    "        plot_data[my_param] = {'imrt':imrt.std(),\n",
    "                               'conf':conf.std(),\n",
    "                               'sig':signif}\n",
    "\n",
    "    my_width = 0.3\n",
    "    my_offset = 0.16\n",
    "\n",
    "    pval_test = 0.05\n",
    "\n",
    "    include_signif = True\n",
    "\n",
    "    params = []\n",
    "    imrts = []\n",
    "    confs = []\n",
    "    signif = []\n",
    "    posns = [i for i in range(len(plot_data))]\n",
    "    for param in my_params:\n",
    "        params.append(param)\n",
    "        imrts.append(plot_data[param]['imrt'])\n",
    "        confs.append(plot_data[param]['conf'])\n",
    "        if plot_data[param]['sig'].pvalue <=pval_test:\n",
    "            if include_signif == True:\n",
    "                signif.append('*')\n",
    "            else:\n",
    "                signif.append('')\n",
    "        else:\n",
    "            signif.append('')\n",
    "\n",
    "    plot_labels = [my_params[i]+signif[i] for i in range(len(my_params))]\n",
    "\n",
    "    plt.bar(left=[i-my_offset for i in posns],height=confs,alpha=1,width=my_width,label='Conformal')\n",
    "    plt.bar(left=[i+my_offset for i in posns],height=imrts,alpha=1,width=my_width,label='IMRT')\n",
    "    plt.legend()\n",
    "    plt.xticks(posns,plot_labels)\n",
    "    plt.yticks([0,5,10,15,20])\n",
    "\n",
    "    plt.xlabel('Dosimetric parameter')\n",
    "    plt.ylabel('Standard deviation in parameter (Gy)')\n",
    "    plt.title('Variation in dosimetric parameters with planning technique: ' + my_struct)\n",
    "\n",
    "    #plt.savefig('multi_stats-imrtVconf-' + my_struct + '.png',dpi=300,bbox_inches='tight')\n",
    "\n",
    "    plt.show()\n",
    "\n",
    "    print(plot_data)\n",
    "    \n"
   ]
  },
  {
   "cell_type": "code",
   "execution_count": 59,
   "metadata": {
    "collapsed": false
   },
   "outputs": [
    {
     "data": {
      "image/png": "[encoded data removed]",
      "text/plain": [
       "<matplotlib.figure.Figure at 0x11de7a2f160>"
      ]
     },
     "metadata": {},
     "output_type": "display_data"
    },
    {
     "name": "stdout",
     "output_type": "stream",
     "text": [
      "{'Max': {'imrt': 1.453813676627513, 'sig': LeveneResult(statistic=4.8776537882158415, pvalue=0.030684490293241766), 'conf': 2.989723780935344}, 'D95': {'imrt': 1.1635646856869526, 'sig': LeveneResult(statistic=38.375256361407757, pvalue=4.2525122238422064e-08), 'conf': 5.510469278871547}, 'D99': {'imrt': 3.1499797303454677, 'sig': LeveneResult(statistic=17.430839136228922, pvalue=8.915427389681199e-05), 'conf': 7.823215805815077}, 'Median': {'imrt': 0.3309911762119336, 'sig': LeveneResult(statistic=14.16399647449726, pvalue=0.00035859987590843657), 'conf': 1.0772964499751365}, 'Mean': {'imrt': 0.357332480441052, 'sig': LeveneResult(statistic=24.881600528487972, pvalue=4.6933973477092779e-06), 'conf': 1.2892457547623177}}\n",
      "---Numberical data for PTV1---: Mean\n",
      "sd conf: 1.9834550073266428\n",
      "sd imrt: 0.5497422776016184\n",
      "---Numberical data for PTV1---: Median\n",
      "sd conf: 1.6573791538079021\n",
      "sd imrt: 0.5092171941722055\n",
      "---Numberical data for PTV1---: Max\n",
      "sd conf: 4.599575047592837\n",
      "sd imrt: 2.236636425580789\n",
      "---Numberical data for PTV1---: D95\n",
      "sd conf: 8.477645044417764\n",
      "sd imrt: 1.7900995164414655\n",
      "---Numberical data for PTV1---: D99\n",
      "sd conf: 12.035716624330888\n",
      "sd imrt: 4.84612266206995\n"
     ]
    }
   ],
   "source": [
    "## same as above, but convert Gy to % of 65Gy.\n",
    "\n",
    "## Include multiple plots from above into a single figure.\n",
    "\n",
    "## can just loop through and set the positions of each set of data based on number in loop?\n",
    "## get the individual data points into dict, then plot using these\n",
    "\n",
    "## just do for PTV1 as is the primary target and highest dose. Most time will be spent conforming this\n",
    "## and can then fit more on plot\n",
    "\n",
    "## do for these params (4 is max can reasonably fit into single plot without looking messy)\n",
    "my_params = ['Mean','Median','Max','D95', 'D99']\n",
    "my_structs = ['PTV1']#,'PTV2']\n",
    "my_labels = my_params\n",
    "\n",
    "for my_struct in my_structs:\n",
    "\n",
    "    plot_data = {}\n",
    "    ## get the data\n",
    "    for my_param in my_params:\n",
    "\n",
    "        my_val = my_param.lower() + '_val' ## lookup column\n",
    "\n",
    "\n",
    "        ## get the data\n",
    "        data = df[df['struct_label']==my_struct.lower()]\n",
    "\n",
    "        imrt = data[data['Type']=='IMRT'][my_val].dropna()\n",
    "        conf = data[data['Type']=='Conformal'][my_val].dropna()\n",
    "\n",
    "\n",
    "\n",
    "        ## get comparison results t-test for use\n",
    "        #signif = stats.bartlett(imrt.tolist(),conf.tolist())\n",
    "        signif = stats.levene(imrt.tolist(),conf.tolist())\n",
    "\n",
    "        ## store the SDs\n",
    "        plot_data[my_param] = {'imrt':imrt.std(),\n",
    "                               'conf':conf.std(),\n",
    "                               'sig':signif}\n",
    "\n",
    "    my_width = 0.3\n",
    "    my_offset = 0.16\n",
    "\n",
    "    pval_test = 0.05\n",
    "\n",
    "    include_signif = False\n",
    "\n",
    "    params = []\n",
    "    imrts = []\n",
    "    confs = []\n",
    "    signif = []\n",
    "    posns = [i for i in range(len(plot_data))]\n",
    "    for param in my_params:\n",
    "        params.append(param)\n",
    "        imrts.append(plot_data[param]['imrt'])\n",
    "        confs.append(plot_data[param]['conf'])\n",
    "        if plot_data[param]['sig'].pvalue <=pval_test:\n",
    "            if include_signif == True:\n",
    "                signif.append('*')\n",
    "            else:\n",
    "                signif.append('')\n",
    "        else:\n",
    "            signif.append('')\n",
    "            \n",
    "    ## conver to perc\n",
    "    imrts_perc = [100*i/65 for i in imrts]\n",
    "    confs_perc = [100*i/65 for i in confs]\n",
    "\n",
    "    plot_labels = [my_params[i]+signif[i] for i in range(len(my_params))]\n",
    "\n",
    "    #plt.bar(left=[i-my_offset for i in posns],height=confs,alpha=1,width=my_width,label='Conformal')\n",
    "    #plt.bar(left=[i+my_offset for i in posns],height=imrts,alpha=1,width=my_width,label='IMRT')\n",
    "    plt.bar(left=[i-my_offset for i in posns],height=confs_perc,alpha=1,width=my_width,label='Conformal')\n",
    "    plt.bar(left=[i+my_offset for i in posns],height=imrts_perc,alpha=1,width=my_width,label='IMRT')\n",
    "    plt.legend()\n",
    "    plt.xticks(posns,plot_labels)\n",
    "    #plt.yticks([0,5,10,15,20])\n",
    "\n",
    "    plt.xlabel('Dosimetric parameter')\n",
    "    plt.ylabel('Standard deviation in parameter \\n(% of 65Gy prescription)')\n",
    "    plt.title('Variation in dosimetric parameters with planning\\n technique for primary target')\n",
    "\n",
    "    #plt.savefig('multi_stats-imrtVconf-' + my_struct + '-EDIT2.png',dpi=300,bbox_inches='tight')\n",
    "\n",
    "    plt.show()\n",
    "\n",
    "    print(plot_data)\n",
    "## stats from above.\n",
    "\n",
    "for i in range(len(my_params)):\n",
    "    print('---Numberical data for PTV1---:',my_params[i])\n",
    "    print('sd conf:',confs_perc[i])\n",
    "    print('sd imrt:',imrts_perc[i])"
   ]
  },
  {
   "cell_type": "code",
   "execution_count": 23,
   "metadata": {
    "collapsed": false
   },
   "outputs": [
    {
     "data": {
      "text/plain": [
       "Index(['sub_dir', 'patient_id', 'plan_name', 'struct_label', 'structure',\n",
       "       'v107', 'v103', 'd5cc', 'v99', 'v105', 'min', 'd0.2cc', 'd0.5cc', 'v93',\n",
       "       'v98', 'd90', 'max', 'd95', 'd100', 'v95', 'mean', 'd1cc', 'median',\n",
       "       'v100', 'v90', 'd98', 'volume', 'd99', 'd0.1cc', 'd2cc', 'v107_val',\n",
       "       'v107_unit', 'v103_val', 'v103_unit', 'd5cc_val', 'd5cc_unit',\n",
       "       'v99_val', 'v99_unit', 'v105_val', 'v105_unit', 'min_val', 'min_unit',\n",
       "       'd0.2cc_val', 'd0.2cc_unit', 'd0.5cc_val', 'd0.5cc_unit', 'v93_val',\n",
       "       'v93_unit', 'v98_val', 'v98_unit', 'd90_val', 'd90_unit', 'max_val',\n",
       "       'max_unit', 'd95_val', 'd95_unit', 'd100_val', 'd100_unit', 'v95_val',\n",
       "       'v95_unit', 'mean_val', 'mean_unit', 'd1cc_val', 'd1cc_unit',\n",
       "       'median_val', 'median_unit', 'v100_val', 'v100_unit', 'v90_val',\n",
       "       'v90_unit', 'd98_val', 'd98_unit', 'volume_val', 'volume_unit',\n",
       "       'd99_val', 'd99_unit', 'd0.1cc_val', 'd0.1cc_unit', 'd2cc_val',\n",
       "       'd2cc_unit', 'id', 'Type', 'Side', 'side_full'],\n",
       "      dtype='object')"
      ]
     },
     "execution_count": 23,
     "metadata": {},
     "output_type": "execute_result"
    }
   ],
   "source": [
    "df.columns"
   ]
  },
  {
   "cell_type": "code",
   "execution_count": 24,
   "metadata": {
    "collapsed": false
   },
   "outputs": [
    {
     "name": "stdout",
     "output_type": "stream",
     "text": [
      "ptv1 Ttest_indResult(statistic=-0.11065016063754247, pvalue=0.91222956012159129)\n",
      "ptv1 imrt NormaltestResult(statistic=13.026174776090112, pvalue=0.0014838912953303324)\n",
      "ptv1 conf NormaltestResult(statistic=13.026174776090112, pvalue=0.0014838912953303324)\n",
      "ptv2 Ttest_indResult(statistic=-0.224711030751194, pvalue=0.82281517828824047)\n",
      "ptv2 imrt NormaltestResult(statistic=13.546486376932986, pvalue=0.0011439784902086143)\n",
      "ptv2 conf NormaltestResult(statistic=13.546486376932986, pvalue=0.0011439784902086143)\n"
     ]
    },
    {
     "data": {
      "image/png": "[encoded data removed]",
      "text/plain": [
       "<matplotlib.figure.Figure at 0x11de7a4ecf8>"
      ]
     },
     "metadata": {},
     "output_type": "display_data"
    }
   ],
   "source": [
    "## get the PTV doses and test for normality...\n",
    "\n",
    "my_param = 'mean'\n",
    "\n",
    "## auto create the correct lookup from the above specification\n",
    "my_val = my_param + '_val'\n",
    "\n",
    "all_ptv_data = {}\n",
    "for my_struct in ['ptv1','ptv2']:\n",
    "\n",
    "    #data = df[df['struct_label']==my_struct] ## get the required rows\n",
    "\n",
    "    imrt = sorted(df[(df['struct_label']==my_struct) & (df['Type']=='IMRT')][my_val].dropna().tolist())#[1:-1]\n",
    "    conf = sorted(df[(df['struct_label']==my_struct) & (df['Type']=='Conformal')][my_val].dropna().tolist())#[1:-1]\n",
    "    \n",
    "    ## save the data for each structure\n",
    "    all_ptv_data[my_struct] = {'imrt':imrt,\n",
    "                               'conf':conf}\n",
    "    \n",
    "    print(my_struct,stats.ttest_ind(imrt,conf)) ##  this indicates the mean of the data does not differ significantly\n",
    "    \n",
    "    print(my_struct,'imrt',stats.normaltest(imrt))\n",
    "    print(my_struct,'conf',stats.normaltest(imrt)) ##  all but ptv3 are non-normally distributed...\n",
    "    ## so lets look at the SDs\n",
    "    \n",
    "plt.hist(all_ptv_data['ptv1']['imrt'])\n",
    "plt.hist(all_ptv_data['ptv2']['imrt'])\n",
    "#plt.hist(all_ptv_data['ptv3']['imrt'])\n",
    "plt.show()"
   ]
  },
  {
   "cell_type": "code",
   "execution_count": 25,
   "metadata": {
    "collapsed": false
   },
   "outputs": [
    {
     "data": {
      "text/plain": [
       "{'ptv1': {'conf': 86.866533742180295, 'imrt': 84.561499866307955},\n",
       " 'ptv2': {'conf': 66.768003747880002, 'imrt': 8.2051892230999162}}"
      ]
     },
     "execution_count": 25,
     "metadata": {},
     "output_type": "execute_result"
    }
   ],
   "source": [
    "all_sds"
   ]
  },
  {
   "cell_type": "code",
   "execution_count": 26,
   "metadata": {
    "collapsed": false
   },
   "outputs": [
    {
     "name": "stdout",
     "output_type": "stream",
     "text": [
      "ptv1\n",
      "ptv2\n",
      "ptv3\n",
      "pharynx\n",
      "l_parotid\n",
      "r_parotid\n",
      "cord\n"
     ]
    },
    {
     "data": {
      "image/png": "[encoded data removed]",
      "text/plain": [
       "<matplotlib.figure.Figure at 0x11de7d38588>"
      ]
     },
     "metadata": {},
     "output_type": "display_data"
    }
   ],
   "source": [
    "struct_info = {'cord':{'type':'OAR'},\n",
    "               'l_parotid':{'type':'OAR'},\n",
    "                'pharynx':{'type':'OAR'},\n",
    "                'ptv1':{'type':'PTV'},\n",
    "                'ptv2':{'type':'PTV'},\n",
    "                'ptv3':{'type':'PTV'},\n",
    "                'r_parotid':{'type':'OAR'}\n",
    "               }\n",
    "\n",
    "## get all the mean values and calc SDS.\n",
    "my_structs = ['ptv1','l_parotid']\n",
    "my_structs = sorted(df['struct_label'].dropna().unique())\n",
    "my_param = 'mean'\n",
    "\n",
    "## auto create the correct lookup from the above specification\n",
    "my_val = my_param + '_val'\n",
    "\n",
    "## dict for formatted titles/structure names\n",
    "\n",
    "struct_names = {'cord':'Spinal cord',\n",
    "               'l_parotid':'Left parotid',\n",
    "               'r_parotid':'Right parotid',\n",
    "               'pharynx':'Pharynx',\n",
    "               'ptv1':'PTV1',\n",
    "               'ptv2':'PTV2',\n",
    "               'ptv3':'PTV3'}\n",
    "\n",
    "all_sds = {}\n",
    "\n",
    "## box plots for each structure\n",
    "for my_struct in my_structs:\n",
    "\n",
    "    #data = df[df['struct_label']==my_struct] ## get the required rows\n",
    "\n",
    "    imrt = sorted(df[(df['struct_label']==my_struct) & (df['Type']=='IMRT')][my_val].dropna().tolist())[1:-1]\n",
    "    conf = sorted(df[(df['struct_label']==my_struct) & (df['Type']=='Conformal')][my_val].dropna().tolist())[1:-1]\n",
    "    \n",
    "    imrt_sd = np.std(imrt)\n",
    "    conf_sd = np.std(conf)\n",
    "    \n",
    "    ## save each SD\n",
    "    all_sds[my_struct] = {'imrt':imrt_sd,\n",
    "                         'conf':conf_sd}\n",
    "\n",
    "\n",
    "for struct in ['ptv1','ptv2','ptv3','pharynx','l_parotid','r_parotid','cord']: ## specify explicitely to order legend\n",
    "    print(struct)\n",
    "    if struct_info[struct]['type']=='PTV':\n",
    "        marker = 'x'\n",
    "    else:\n",
    "        marker = 'o'\n",
    "    plt.plot(all_sds[struct]['conf'],all_sds[struct]['imrt'],ls='',marker=marker,label=struct)\n",
    "plt.xlabel('Structure SD (Gy) : Conformal')\n",
    "plt.ylabel('Structure SD (Gy) : IMRT')\n",
    "plt.axes().set_aspect('equal')\n",
    "my_lim = 14\n",
    "plt.xlim(0,my_lim)\n",
    "plt.ylim(0,my_lim)\n",
    "plt.plot([0,my_lim],[0,my_lim],ls=':',zorder=0,lw=0.5,c='black')\n",
    "plt.legend(loc='center left', bbox_to_anchor=(1, 0.5))\n",
    "plt.title(my_param)\n",
    "plt.show()\n",
    "\n",
    "## basically for PTVs the mean dose is much more consistent and so will directly relate to beam output/TCP etc."
   ]
  },
  {
   "cell_type": "markdown",
   "metadata": {
    "collapsed": true
   },
   "source": [
    "## Get some simple info on number of patients included in analysis etc."
   ]
  },
  {
   "cell_type": "code",
   "execution_count": 27,
   "metadata": {
    "collapsed": false
   },
   "outputs": [
    {
     "data": {
      "text/html": [
       "<div>\n",
       "<table border=\"1\" class=\"dataframe\">\n",
       "  <thead>\n",
       "    <tr style=\"text-align: right;\">\n",
       "      <th></th>\n",
       "      <th>sub_dir</th>\n",
       "      <th>patient_id</th>\n",
       "      <th>v107_val</th>\n",
       "      <th>v103_val</th>\n",
       "      <th>d5cc_val</th>\n",
       "      <th>v99_val</th>\n",
       "      <th>v105_val</th>\n",
       "      <th>min_val</th>\n",
       "      <th>d0.2cc_val</th>\n",
       "      <th>d0.5cc_val</th>\n",
       "      <th>...</th>\n",
       "      <th>d1cc_val</th>\n",
       "      <th>median_val</th>\n",
       "      <th>v100_val</th>\n",
       "      <th>v90_val</th>\n",
       "      <th>d98_val</th>\n",
       "      <th>volume_val</th>\n",
       "      <th>d99_val</th>\n",
       "      <th>d0.1cc_val</th>\n",
       "      <th>d2cc_val</th>\n",
       "      <th>id</th>\n",
       "    </tr>\n",
       "  </thead>\n",
       "  <tbody>\n",
       "    <tr>\n",
       "      <th>count</th>\n",
       "      <td>2248.000000</td>\n",
       "      <td>2248.000000</td>\n",
       "      <td>2248.000000</td>\n",
       "      <td>2248.000000</td>\n",
       "      <td>2248.000000</td>\n",
       "      <td>2248.000000</td>\n",
       "      <td>2248.000000</td>\n",
       "      <td>2248.000000</td>\n",
       "      <td>2248.000000</td>\n",
       "      <td>2248.000000</td>\n",
       "      <td>...</td>\n",
       "      <td>2248.000000</td>\n",
       "      <td>2248.000000</td>\n",
       "      <td>2248.000000</td>\n",
       "      <td>2248.000000</td>\n",
       "      <td>2248.000000</td>\n",
       "      <td>2248.000000</td>\n",
       "      <td>2248.000000</td>\n",
       "      <td>2248.000000</td>\n",
       "      <td>2248.000000</td>\n",
       "      <td>2248.000000</td>\n",
       "    </tr>\n",
       "    <tr>\n",
       "      <th>mean</th>\n",
       "      <td>1585.564947</td>\n",
       "      <td>1585.564947</td>\n",
       "      <td>1.098882</td>\n",
       "      <td>8.824882</td>\n",
       "      <td>45.974938</td>\n",
       "      <td>27.516076</td>\n",
       "      <td>3.403661</td>\n",
       "      <td>20.350027</td>\n",
       "      <td>54.161593</td>\n",
       "      <td>52.689471</td>\n",
       "      <td>...</td>\n",
       "      <td>51.439399</td>\n",
       "      <td>42.443759</td>\n",
       "      <td>23.087773</td>\n",
       "      <td>42.147329</td>\n",
       "      <td>26.932980</td>\n",
       "      <td>126.798276</td>\n",
       "      <td>25.308706</td>\n",
       "      <td>55.059956</td>\n",
       "      <td>49.744649</td>\n",
       "      <td>1585.564947</td>\n",
       "    </tr>\n",
       "    <tr>\n",
       "      <th>std</th>\n",
       "      <td>1236.379663</td>\n",
       "      <td>1236.379663</td>\n",
       "      <td>6.499491</td>\n",
       "      <td>27.251097</td>\n",
       "      <td>25.540187</td>\n",
       "      <td>67.878518</td>\n",
       "      <td>13.397907</td>\n",
       "      <td>20.987920</td>\n",
       "      <td>22.214187</td>\n",
       "      <td>23.121274</td>\n",
       "      <td>...</td>\n",
       "      <td>23.686447</td>\n",
       "      <td>23.452546</td>\n",
       "      <td>57.769437</td>\n",
       "      <td>103.623682</td>\n",
       "      <td>22.757456</td>\n",
       "      <td>468.118679</td>\n",
       "      <td>22.438037</td>\n",
       "      <td>21.708715</td>\n",
       "      <td>24.373067</td>\n",
       "      <td>1236.379663</td>\n",
       "    </tr>\n",
       "    <tr>\n",
       "      <th>min</th>\n",
       "      <td>1001.000000</td>\n",
       "      <td>1001.000000</td>\n",
       "      <td>0.000000</td>\n",
       "      <td>0.000000</td>\n",
       "      <td>0.000000</td>\n",
       "      <td>0.000000</td>\n",
       "      <td>0.000000</td>\n",
       "      <td>0.010000</td>\n",
       "      <td>0.000000</td>\n",
       "      <td>0.000000</td>\n",
       "      <td>...</td>\n",
       "      <td>0.000000</td>\n",
       "      <td>0.010000</td>\n",
       "      <td>0.000000</td>\n",
       "      <td>0.000000</td>\n",
       "      <td>0.000000</td>\n",
       "      <td>0.031250</td>\n",
       "      <td>0.000000</td>\n",
       "      <td>0.000000</td>\n",
       "      <td>0.000000</td>\n",
       "      <td>1001.000000</td>\n",
       "    </tr>\n",
       "    <tr>\n",
       "      <th>25%</th>\n",
       "      <td>1022.000000</td>\n",
       "      <td>1022.000000</td>\n",
       "      <td>0.000000</td>\n",
       "      <td>0.000000</td>\n",
       "      <td>30.982500</td>\n",
       "      <td>0.000000</td>\n",
       "      <td>0.000000</td>\n",
       "      <td>2.000000</td>\n",
       "      <td>47.350000</td>\n",
       "      <td>44.615000</td>\n",
       "      <td>...</td>\n",
       "      <td>42.785000</td>\n",
       "      <td>21.405000</td>\n",
       "      <td>0.000000</td>\n",
       "      <td>0.000000</td>\n",
       "      <td>4.860000</td>\n",
       "      <td>9.904687</td>\n",
       "      <td>4.260000</td>\n",
       "      <td>49.232500</td>\n",
       "      <td>40.707500</td>\n",
       "      <td>1022.000000</td>\n",
       "    </tr>\n",
       "    <tr>\n",
       "      <th>50%</th>\n",
       "      <td>1045.000000</td>\n",
       "      <td>1045.000000</td>\n",
       "      <td>0.000000</td>\n",
       "      <td>0.000000</td>\n",
       "      <td>59.135000</td>\n",
       "      <td>0.789062</td>\n",
       "      <td>0.000000</td>\n",
       "      <td>10.690000</td>\n",
       "      <td>65.450000</td>\n",
       "      <td>64.800000</td>\n",
       "      <td>...</td>\n",
       "      <td>64.015000</td>\n",
       "      <td>51.610000</td>\n",
       "      <td>0.403125</td>\n",
       "      <td>5.471875</td>\n",
       "      <td>20.755000</td>\n",
       "      <td>25.630625</td>\n",
       "      <td>17.585000</td>\n",
       "      <td>65.860000</td>\n",
       "      <td>62.850000</td>\n",
       "      <td>1045.000000</td>\n",
       "    </tr>\n",
       "    <tr>\n",
       "      <th>75%</th>\n",
       "      <td>1066.000000</td>\n",
       "      <td>1066.000000</td>\n",
       "      <td>0.003214</td>\n",
       "      <td>4.642969</td>\n",
       "      <td>66.805000</td>\n",
       "      <td>14.978601</td>\n",
       "      <td>0.644452</td>\n",
       "      <td>40.507500</td>\n",
       "      <td>68.780000</td>\n",
       "      <td>68.335000</td>\n",
       "      <td>...</td>\n",
       "      <td>67.980000</td>\n",
       "      <td>64.362500</td>\n",
       "      <td>12.692786</td>\n",
       "      <td>26.950922</td>\n",
       "      <td>49.497500</td>\n",
       "      <td>139.008594</td>\n",
       "      <td>47.755000</td>\n",
       "      <td>69.020000</td>\n",
       "      <td>67.600000</td>\n",
       "      <td>1066.000000</td>\n",
       "    </tr>\n",
       "    <tr>\n",
       "      <th>max</th>\n",
       "      <td>6006.000000</td>\n",
       "      <td>6006.000000</td>\n",
       "      <td>178.064958</td>\n",
       "      <td>489.681215</td>\n",
       "      <td>82.460000</td>\n",
       "      <td>879.488068</td>\n",
       "      <td>289.000981</td>\n",
       "      <td>69.530000</td>\n",
       "      <td>83.030000</td>\n",
       "      <td>82.930000</td>\n",
       "      <td>...</td>\n",
       "      <td>82.830000</td>\n",
       "      <td>77.200000</td>\n",
       "      <td>783.484195</td>\n",
       "      <td>1700.042441</td>\n",
       "      <td>69.680000</td>\n",
       "      <td>11128.437000</td>\n",
       "      <td>69.530000</td>\n",
       "      <td>83.090000</td>\n",
       "      <td>82.690000</td>\n",
       "      <td>6006.000000</td>\n",
       "    </tr>\n",
       "  </tbody>\n",
       "</table>\n",
       "<p>8 rows × 28 columns</p>\n",
       "</div>"
      ],
      "text/plain": [
       "           sub_dir   patient_id     v107_val     v103_val     d5cc_val  \\\n",
       "count  2248.000000  2248.000000  2248.000000  2248.000000  2248.000000   \n",
       "mean   1585.564947  1585.564947     1.098882     8.824882    45.974938   \n",
       "std    1236.379663  1236.379663     6.499491    27.251097    25.540187   \n",
       "min    1001.000000  1001.000000     0.000000     0.000000     0.000000   \n",
       "25%    1022.000000  1022.000000     0.000000     0.000000    30.982500   \n",
       "50%    1045.000000  1045.000000     0.000000     0.000000    59.135000   \n",
       "75%    1066.000000  1066.000000     0.003214     4.642969    66.805000   \n",
       "max    6006.000000  6006.000000   178.064958   489.681215    82.460000   \n",
       "\n",
       "           v99_val     v105_val      min_val   d0.2cc_val   d0.5cc_val  \\\n",
       "count  2248.000000  2248.000000  2248.000000  2248.000000  2248.000000   \n",
       "mean     27.516076     3.403661    20.350027    54.161593    52.689471   \n",
       "std      67.878518    13.397907    20.987920    22.214187    23.121274   \n",
       "min       0.000000     0.000000     0.010000     0.000000     0.000000   \n",
       "25%       0.000000     0.000000     2.000000    47.350000    44.615000   \n",
       "50%       0.789062     0.000000    10.690000    65.450000    64.800000   \n",
       "75%      14.978601     0.644452    40.507500    68.780000    68.335000   \n",
       "max     879.488068   289.000981    69.530000    83.030000    82.930000   \n",
       "\n",
       "          ...          d1cc_val   median_val     v100_val      v90_val  \\\n",
       "count     ...       2248.000000  2248.000000  2248.000000  2248.000000   \n",
       "mean      ...         51.439399    42.443759    23.087773    42.147329   \n",
       "std       ...         23.686447    23.452546    57.769437   103.623682   \n",
       "min       ...          0.000000     0.010000     0.000000     0.000000   \n",
       "25%       ...         42.785000    21.405000     0.000000     0.000000   \n",
       "50%       ...         64.015000    51.610000     0.403125     5.471875   \n",
       "75%       ...         67.980000    64.362500    12.692786    26.950922   \n",
       "max       ...         82.830000    77.200000   783.484195  1700.042441   \n",
       "\n",
       "           d98_val    volume_val      d99_val   d0.1cc_val     d2cc_val  \\\n",
       "count  2248.000000   2248.000000  2248.000000  2248.000000  2248.000000   \n",
       "mean     26.932980    126.798276    25.308706    55.059956    49.744649   \n",
       "std      22.757456    468.118679    22.438037    21.708715    24.373067   \n",
       "min       0.000000      0.031250     0.000000     0.000000     0.000000   \n",
       "25%       4.860000      9.904687     4.260000    49.232500    40.707500   \n",
       "50%      20.755000     25.630625    17.585000    65.860000    62.850000   \n",
       "75%      49.497500    139.008594    47.755000    69.020000    67.600000   \n",
       "max      69.680000  11128.437000    69.530000    83.090000    82.690000   \n",
       "\n",
       "                id  \n",
       "count  2248.000000  \n",
       "mean   1585.564947  \n",
       "std    1236.379663  \n",
       "min    1001.000000  \n",
       "25%    1022.000000  \n",
       "50%    1045.000000  \n",
       "75%    1066.000000  \n",
       "max    6006.000000  \n",
       "\n",
       "[8 rows x 28 columns]"
      ]
     },
     "execution_count": 27,
     "metadata": {},
     "output_type": "execute_result"
    }
   ],
   "source": [
    "df.describe()"
   ]
  },
  {
   "cell_type": "code",
   "execution_count": 28,
   "metadata": {
    "collapsed": false
   },
   "outputs": [
    {
     "data": {
      "text/plain": [
       "Index(['sub_dir', 'patient_id', 'plan_name', 'struct_label', 'structure',\n",
       "       'v107', 'v103', 'd5cc', 'v99', 'v105', 'min', 'd0.2cc', 'd0.5cc', 'v93',\n",
       "       'v98', 'd90', 'max', 'd95', 'd100', 'v95', 'mean', 'd1cc', 'median',\n",
       "       'v100', 'v90', 'd98', 'volume', 'd99', 'd0.1cc', 'd2cc', 'v107_val',\n",
       "       'v107_unit', 'v103_val', 'v103_unit', 'd5cc_val', 'd5cc_unit',\n",
       "       'v99_val', 'v99_unit', 'v105_val', 'v105_unit', 'min_val', 'min_unit',\n",
       "       'd0.2cc_val', 'd0.2cc_unit', 'd0.5cc_val', 'd0.5cc_unit', 'v93_val',\n",
       "       'v93_unit', 'v98_val', 'v98_unit', 'd90_val', 'd90_unit', 'max_val',\n",
       "       'max_unit', 'd95_val', 'd95_unit', 'd100_val', 'd100_unit', 'v95_val',\n",
       "       'v95_unit', 'mean_val', 'mean_unit', 'd1cc_val', 'd1cc_unit',\n",
       "       'median_val', 'median_unit', 'v100_val', 'v100_unit', 'v90_val',\n",
       "       'v90_unit', 'd98_val', 'd98_unit', 'volume_val', 'volume_unit',\n",
       "       'd99_val', 'd99_unit', 'd0.1cc_val', 'd0.1cc_unit', 'd2cc_val',\n",
       "       'd2cc_unit', 'id', 'Type', 'Side', 'side_full'],\n",
       "      dtype='object')"
      ]
     },
     "execution_count": 28,
     "metadata": {},
     "output_type": "execute_result"
    }
   ],
   "source": [
    "df.columns"
   ]
  },
  {
   "cell_type": "code",
   "execution_count": 29,
   "metadata": {
    "collapsed": false
   },
   "outputs": [
    {
     "data": {
      "text/plain": [
       "32"
      ]
     },
     "execution_count": 29,
     "metadata": {},
     "output_type": "execute_result"
    }
   ],
   "source": [
    "len(df[df['Type']=='Conformal']['patient_id'].unique())"
   ]
  },
  {
   "cell_type": "code",
   "execution_count": 30,
   "metadata": {
    "collapsed": false
   },
   "outputs": [
    {
     "data": {
      "text/plain": [
       "37"
      ]
     },
     "execution_count": 30,
     "metadata": {},
     "output_type": "execute_result"
    }
   ],
   "source": [
    "len(df[df['Type']=='IMRT']['patient_id'].unique())"
   ]
  },
  {
   "cell_type": "code",
   "execution_count": 31,
   "metadata": {
    "collapsed": false
   },
   "outputs": [
    {
     "data": {
      "text/plain": [
       "69"
      ]
     },
     "execution_count": 31,
     "metadata": {},
     "output_type": "execute_result"
    }
   ],
   "source": [
    "len(df['patient_id'].unique())"
   ]
  },
  {
   "cell_type": "code",
   "execution_count": 32,
   "metadata": {
    "collapsed": false
   },
   "outputs": [
    {
     "name": "stdout",
     "output_type": "stream",
     "text": [
      "4004 ['Conformal']\n",
      "4005 ['Conformal']\n",
      "5002 ['Conformal']\n",
      "1053 ['Conformal']\n",
      "5001 ['Conformal']\n",
      "1030 ['Conformal']\n",
      "1041 ['IMRT']\n",
      "2502 ['IMRT']\n",
      "2503 ['IMRT']\n",
      "1007 ['Conformal']\n",
      "1005 ['Conformal']\n",
      "1011 ['Conformal']\n",
      "1013 ['Conformal']\n",
      "1059 ['Conformal']\n",
      "1503 ['IMRT']\n",
      "1023 ['Conformal']\n",
      "2501 ['Conformal']\n",
      "1050 ['Conformal']\n",
      "1038 ['Conformal']\n",
      "1001 ['Conformal']\n",
      "1032 ['Conformal']\n",
      "1031 ['IMRT']\n",
      "1037 ['Conformal']\n",
      "1022 ['IMRT']\n",
      "1062 ['IMRT']\n",
      "1066 ['IMRT']\n",
      "1061 ['Conformal']\n",
      "1504 ['Conformal']\n",
      "1054 ['IMRT']\n",
      "1004 ['IMRT']\n",
      "1019 ['IMRT']\n",
      "1508 ['IMRT']\n",
      "1012 ['IMRT']\n",
      "4006 ['IMRT']\n",
      "6005 ['Conformal']\n",
      "1008 ['IMRT']\n",
      "6003 ['IMRT']\n",
      "1029 ['IMRT']\n",
      "1017 ['IMRT']\n",
      "1028 ['Conformal']\n",
      "1055 ['IMRT']\n",
      "1002 ['IMRT']\n",
      "1043 ['IMRT']\n",
      "1056 ['Conformal']\n",
      "1045 ['Conformal']\n",
      "1060 ['IMRT']\n",
      "6001 ['Conformal']\n",
      "1033 ['Conformal']\n",
      "1049 ['IMRT']\n",
      "1051 ['IMRT']\n",
      "1048 ['IMRT']\n",
      "1024 ['IMRT']\n",
      "6002 ['IMRT']\n",
      "1027 ['IMRT']\n",
      "1505 ['IMRT']\n",
      "1039 ['IMRT']\n",
      "1065 ['IMRT']\n",
      "4003 ['IMRT']\n",
      "1035 ['IMRT']\n",
      "1046 ['IMRT']\n",
      "4002 ['Conformal']\n",
      "1025 ['IMRT']\n",
      "1057 ['Conformal']\n",
      "1010 ['Conformal']\n",
      "6004 ['IMRT']\n",
      "1034 ['IMRT']\n",
      "1003 ['Conformal']\n",
      "1015 ['Conformal']\n",
      "6006 ['Conformal']\n",
      "i 37\n",
      "c 32\n"
     ]
    }
   ],
   "source": [
    "i_count = 0\n",
    "c_count = 0\n",
    "\n",
    "for patient in df['patient_id'].unique():\n",
    "    the_t = df[df['patient_id']==patient]['Type'].unique()\n",
    "    print(patient,df[df['patient_id']==patient]['Type'].unique())\n",
    "    if the_t == ['IMRT']:\n",
    "        i_count = i_count+1\n",
    "    if the_t == ['Conformal']:\n",
    "        c_count = c_count + 1\n",
    "print('i',i_count)\n",
    "print('c',c_count)"
   ]
  },
  {
   "cell_type": "code",
   "execution_count": 33,
   "metadata": {
    "collapsed": true
   },
   "outputs": [],
   "source": [
    "imrt = df[df['Type']=='IMRT'].dropna()\n",
    "cfrt = df[df['Type']=='Conformal'].dropna()"
   ]
  },
  {
   "cell_type": "code",
   "execution_count": 34,
   "metadata": {
    "collapsed": false
   },
   "outputs": [
    {
     "data": {
      "text/plain": [
       "32"
      ]
     },
     "execution_count": 34,
     "metadata": {},
     "output_type": "execute_result"
    }
   ],
   "source": [
    "len(cfrt['patient_id'].unique())"
   ]
  },
  {
   "cell_type": "code",
   "execution_count": 35,
   "metadata": {
    "collapsed": false
   },
   "outputs": [
    {
     "name": "stdout",
     "output_type": "stream",
     "text": [
      "4004 ['cord' 'ptv2' 'r_parotid' 'l_parotid' 'ptv1']\n",
      "4005 ['cord' 'ptv3' 'l_parotid' 'ptv2' 'ptv1' 'r_parotid']\n",
      "5002 ['ptv2' 'l_parotid' 'r_parotid' 'ptv1' 'cord']\n",
      "1053 ['ptv2' 'l_parotid' 'pharynx' 'r_parotid' 'ptv1' 'cord']\n",
      "5001 ['ptv2' 'ptv1' 'l_parotid' 'r_parotid' 'cord']\n",
      "1030 ['cord' 'ptv2' 'pharynx' 'r_parotid' 'ptv1' 'l_parotid']\n",
      "1041 ['r_parotid' 'cord' 'l_parotid' 'ptv1']\n",
      "2502 ['r_parotid' 'cord' 'l_parotid' 'ptv2' 'ptv1']\n",
      "2503 ['cord' 'r_parotid' 'l_parotid' 'ptv2' 'ptv1']\n",
      "1007 ['cord' 'ptv3' 'ptv2' 'pharynx' 'ptv1' 'r_parotid' 'l_parotid']\n",
      "1005 ['ptv3' 'ptv2' 'l_parotid' 'pharynx' 'ptv1' 'r_parotid' 'cord']\n",
      "1011 ['cord' 'ptv2' 'r_parotid' 'l_parotid' 'pharynx' 'ptv1']\n",
      "1013 ['cord' 'ptv3' 'ptv2' 'pharynx' 'l_parotid' 'ptv1' 'r_parotid']\n",
      "1059 ['ptv2' 'cord' 'pharynx' 'ptv1' 'l_parotid' 'r_parotid']\n",
      "1503 ['l_parotid' 'cord' 'r_parotid' 'ptv2' 'ptv3' 'pharynx' 'ptv1']\n",
      "1023 ['ptv2' 'l_parotid' 'cord' 'r_parotid' 'pharynx' 'ptv1']\n",
      "2501 ['cord' 'r_parotid' 'ptv3' 'l_parotid' 'ptv2' 'ptv1']\n",
      "1050 ['cord' 'ptv2' 'r_parotid' 'l_parotid' 'ptv1' 'pharynx']\n",
      "1038 ['ptv2' 'pharynx' 'r_parotid' 'ptv1' 'l_parotid' 'cord']\n",
      "1001 ['cord' 'l_parotid' 'ptv3' 'pharynx' 'r_parotid' 'ptv1' 'ptv2']\n",
      "1032 ['cord' 'ptv2' 'pharynx' 'r_parotid' 'ptv1' 'l_parotid']\n",
      "1031 ['l_parotid' 'cord' 'r_parotid' 'ptv2' 'ptv1']\n",
      "1037 ['cord' 'r_parotid' 'l_parotid' 'pharynx' 'ptv1' 'ptv2']\n",
      "1022 ['l_parotid' 'cord' 'ptv2' 'ptv3' 'r_parotid' 'pharynx' 'ptv1']\n",
      "1062 ['r_parotid' 'cord' 'l_parotid' 'ptv2' 'pharynx' 'ptv1']\n",
      "1066 ['l_parotid' 'r_parotid' 'cord' 'ptv2' 'pharynx' 'ptv1']\n",
      "1061 ['cord' 'ptv2' 'pharynx' 'ptv1' 'l_parotid' 'r_parotid']\n",
      "1504 ['ptv3' 'ptv2' 'r_parotid' 'pharynx' 'l_parotid' 'ptv1' 'cord']\n",
      "1054 ['r_parotid' 'cord' 'l_parotid' 'ptv2' 'pharynx' 'ptv1']\n",
      "1004 ['l_parotid' 'cord' 'ptv3' 'ptv2' 'r_parotid' 'pharynx' 'ptv1']\n",
      "1019 ['r_parotid' 'cord' 'l_parotid' 'ptv3' 'ptv2' 'pharynx' 'ptv1']\n",
      "1508 ['r_parotid' 'cord' 'ptv2' 'l_parotid' 'pharynx' 'ptv1']\n",
      "1012 ['l_parotid' 'cord' 'ptv3' 'r_parotid' 'ptv2' 'pharynx' 'ptv1']\n",
      "4006 ['r_parotid' 'cord' 'ptv2' 'l_parotid' 'ptv1']\n",
      "6005 ['cord' 'ptv2' 'ptv1' 'r_parotid' 'l_parotid']\n",
      "1008 ['r_parotid' 'cord' 'ptv3' 'ptv2' 'l_parotid' 'pharynx' 'ptv1']\n",
      "6003 ['r_parotid' 'l_parotid' 'cord' 'ptv2' 'ptv1']\n",
      "1029 ['l_parotid' 'cord' 'r_parotid' 'ptv2' 'pharynx' 'ptv1']\n",
      "1017 ['l_parotid' 'cord' 'ptv2' 'r_parotid' 'pharynx' 'ptv1']\n",
      "1028 ['ptv2' 'r_parotid' 'l_parotid' 'pharynx' 'ptv1' 'cord']\n",
      "1055 ['r_parotid' 'cord' 'l_parotid' 'ptv2' 'pharynx' 'ptv1']\n",
      "1002 ['l_parotid' 'r_parotid' 'ptv3' 'ptv2' 'pharynx' 'ptv1']\n",
      "1043 ['l_parotid' 'r_parotid' 'cord' 'ptv2' 'ptv1']\n",
      "1056 ['cord' 'ptv2' 'pharynx' 'ptv1' 'l_parotid' 'r_parotid']\n",
      "1045 ['pharynx' 'cord' 'ptv2' 'l_parotid' 'r_parotid' 'ptv1']\n",
      "1060 ['l_parotid' 'r_parotid' 'cord' 'ptv2' 'ptv1']\n",
      "6001 ['cord' 'ptv2' 'l_parotid' 'ptv1' 'r_parotid']\n",
      "1033 ['cord' 'ptv2' 'pharynx' 'l_parotid' 'r_parotid' 'ptv1']\n",
      "1049 ['l_parotid' 'r_parotid' 'cord' 'ptv2' 'pharynx' 'ptv1']\n",
      "1051 ['l_parotid' 'cord' 'r_parotid' 'ptv2' 'pharynx' 'ptv1']\n",
      "1048 ['r_parotid' 'cord' 'l_parotid' 'ptv3' 'pharynx' 'ptv1']\n",
      "1024 ['l_parotid' 'cord' 'ptv2' 'r_parotid' 'pharynx' 'ptv1']\n",
      "6002 ['r_parotid' 'cord' 'ptv2' 'l_parotid' 'ptv1']\n",
      "1027 ['r_parotid' 'cord' 'ptv2' 'l_parotid' 'pharynx' 'ptv1']\n",
      "1505 ['l_parotid' 'cord' 'r_parotid' 'ptv2' 'ptv1']\n",
      "1039 ['r_parotid' 'l_parotid' 'cord' 'ptv2' 'pharynx' 'ptv1']\n",
      "1065 ['r_parotid' 'cord' 'l_parotid' 'ptv2' 'ptv1']\n",
      "4003 ['l_parotid' 'cord' 'ptv2' 'r_parotid' 'ptv1']\n",
      "1035 ['r_parotid' 'cord' 'ptv2' 'l_parotid' 'ptv1']\n",
      "1046 ['r_parotid' 'l_parotid' 'cord' 'ptv2' 'pharynx' 'ptv1']\n",
      "4002 ['cord' 'ptv2' 'l_parotid' 'r_parotid' 'ptv1']\n",
      "1025 ['l_parotid' 'cord' 'ptv2' 'r_parotid' 'ptv1']\n",
      "1057 ['cord' 'ptv2' 'pharynx' 'ptv1' 'r_parotid' 'l_parotid']\n",
      "1010 ['cord' 'ptv2' 'ptv3' 'r_parotid' 'pharynx' 'l_parotid' 'ptv1']\n",
      "6004 ['r_parotid' 'cord' 'ptv2' 'l_parotid' 'ptv1']\n",
      "1034 ['r_parotid' 'l_parotid']\n",
      "1003 ['cord' 'l_parotid' 'ptv2' 'ptv3' 'ptv1' 'r_parotid']\n",
      "1015 ['ptv2' 'l_parotid' 'r_parotid' 'pharynx' 'ptv1' 'cord']\n",
      "6006 ['ptv2' 'ptv1' 'r_parotid' 'l_parotid' 'cord']\n"
     ]
    }
   ],
   "source": [
    "for i in df['patient_id'].unique():\n",
    "    print(i, df[df['patient_id']==i]['struct_label'].dropna().unique())"
   ]
  },
  {
   "cell_type": "code",
   "execution_count": null,
   "metadata": {
    "collapsed": true
   },
   "outputs": [],
   "source": []
  }
 ],
 "metadata": {
  "anaconda-cloud": {},
  "kernelspec": {
   "display_name": "Python [Root]",
   "language": "python",
   "name": "Python [Root]"
  },
  "language_info": {
   "codemirror_mode": {
    "name": "ipython",
    "version": 3
   },
   "file_extension": ".py",
   "mimetype": "text/x-python",
   "name": "python",
   "nbconvert_exporter": "python",
   "pygments_lexer": "ipython3",
   "version": "3.5.1"
  }
 },
 "nbformat": 4,
 "nbformat_minor": 0
}
